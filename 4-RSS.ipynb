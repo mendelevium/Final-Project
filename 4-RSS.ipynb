{
 "nbformat": 4,
 "nbformat_minor": 2,
 "metadata": {
  "language_info": {
   "name": "python",
   "codemirror_mode": {
    "name": "ipython",
    "version": 3
   },
   "version": "3.8.3"
  },
  "orig_nbformat": 2,
  "file_extension": ".py",
  "mimetype": "text/x-python",
  "name": "python",
  "npconvert_exporter": "python",
  "pygments_lexer": "ipython3",
  "version": 3,
  "kernelspec": {
   "name": "python38364bitbasee0d3a3f774f446a2aff50e11b591e430",
   "display_name": "Python 3.8.3 64-bit ('base': conda)"
  },
  "metadata": {
   "interpreter": {
    "hash": "6d46af94c2bbce495f1e668725902fa517c90b1782bcfe2fce0dd9868df553d3"
   }
  }
 },
 "cells": [
  {
   "cell_type": "markdown",
   "metadata": {},
   "source": [
    "# RSS to DataFrame\n",
    "\n",
    "Use case for NwsFx: Creating a dataset from an RSS feed"
   ]
  },
  {
   "cell_type": "code",
   "execution_count": 1,
   "metadata": {},
   "outputs": [],
   "source": [
    "import feedparser\n",
    "import requests\n",
    "import json\n",
    "import pandas as pd"
   ]
  },
  {
   "cell_type": "code",
   "execution_count": 2,
   "metadata": {},
   "outputs": [],
   "source": [
    "f = feedparser.parse('https://thehill.com/rss/syndicator/19110')\n",
    "entries = f['entries']\n",
    "\n",
    "urls = []\n",
    "for i in range(0,len(entries)):\n",
    "    urls.append(entries[i]['links'][0]['href'])"
   ]
  },
  {
   "cell_type": "code",
   "execution_count": 3,
   "metadata": {},
   "outputs": [],
   "source": [
    "def get_article(url):\n",
    "    query = json.dumps({\"url\": url})\n",
    "    r = requests.post('http://localhost:5000/summary', data=query, timeout=10)\n",
    "    summary = r.content.decode()\n",
    "    return eval(summary)\n",
    "\n",
    "def get_metric(url):\n",
    "    query = json.dumps({\"url\": url})\n",
    "    r = requests.post('http://localhost:5000/metrics', data=query, timeout=10)\n",
    "    metrics = r.content.decode()\n",
    "    return eval(metrics)"
   ]
  },
  {
   "cell_type": "code",
   "execution_count": 4,
   "metadata": {},
   "outputs": [],
   "source": [
    "articles = []\n",
    "metrics = []\n",
    "for url in urls:\n",
    "    articles.append(get_article(url))\n",
    "    metrics.append(get_metric(url))"
   ]
  },
  {
   "cell_type": "code",
   "execution_count": 5,
   "metadata": {},
   "outputs": [
    {
     "output_type": "execute_result",
     "data": {
      "text/plain": [
       "                                                 url  \\\n",
       "0  https://thehill.com/homenews/state-watch/55433...   \n",
       "1  https://thehill.com/regulation/court-battles/5...   \n",
       "2  https://thehill.com/policy/defense/554342-ocas...   \n",
       "3  https://thehill.com/opinion/civil-rights/55435...   \n",
       "4  https://thehill.com/policy/national-security/5...   \n",
       "5  https://thehill.com/homenews/media/554363-chic...   \n",
       "6  https://thehill.com/homenews/house/554431-top-...   \n",
       "7  https://thehill.com/policy/international/ameri...   \n",
       "8  https://thehill.com/changing-america/respect/e...   \n",
       "9  https://thehill.com/homenews/media/554290-qano...   \n",
       "\n",
       "                        date author  \\\n",
       "0  2021-05-19 12:10:39-04:00     []   \n",
       "1  2021-05-19 12:21:46-04:00     []   \n",
       "2  2021-05-19 12:34:04-04:00     []   \n",
       "3  2021-05-19 15:00:07-04:00     []   \n",
       "4  2021-05-19 11:20:35-04:00     []   \n",
       "5  2021-05-19 13:38:25-04:00     []   \n",
       "6  2021-05-19 16:51:51-04:00     []   \n",
       "7  2021-05-19 15:22:01-04:00     []   \n",
       "8  2021-05-19 10:42:04-04:00     []   \n",
       "9  2021-05-19 10:07:17-04:00     []   \n",
       "\n",
       "                                               title  \\\n",
       "0            Oregon counties vote to secede to Idaho   \n",
       "1  Trump lashes out at prosecutors over criminal ...   \n",
       "2  Ocasio-Cortez leading effort to block arms sal...   \n",
       "3                   Trump's 'big lie' is just a ploy   \n",
       "4  McConnell says he opposes 'slanted' Jan. 6 com...   \n",
       "5  Chicago mayor sparks backlash after limiting m...   \n",
       "6  Top Dem: We thought McCarthy had endorsed Jan....   \n",
       "7  US-Canadian border restrictions to be extended...   \n",
       "8  Three giant department stores drop Chrissy Tei...   \n",
       "9  'QAnon Shaman' attorney refuses to apologize f...   \n",
       "\n",
       "                                             summary  \\\n",
       "0  ADVERTISEMENTThey join two other rural countie...   \n",
       "1  Former President Trump Donald TrumpNew York pr...   \n",
       "2  But the effort underscores the growing divide ...   \n",
       "3  Consequently, much commentary has focused on t...   \n",
       "4  McConnell's speech comes after he informed Sen...   \n",
       "5  Chicago Mayor Lori Lightfoot Lori LightfootLol...   \n",
       "6  The Democrat who negotiated the bipartisan bil...   \n",
       "7  Restrictions on nonessential travel across the...   \n",
       "8  As Changing America previously reported, super...   \n",
       "9  “A lot of these defendants — and I’m going to ...   \n",
       "\n",
       "                                               image  opinion  left_bias  \\\n",
       "0  https://thehill.com/sites/default/files/idahoc...        0     0.1764   \n",
       "1  https://thehill.com/sites/default/files/trumpd...        0     0.1293   \n",
       "2  https://thehill.com/sites/default/files/ocasio...        0     0.0788   \n",
       "3  https://thehill.com/sites/default/files/trumpd...        0     0.1439   \n",
       "4  https://thehill.com/sites/default/files/mcconn...        0     0.1454   \n",
       "5  https://thehill.com/sites/default/files/lightf...        0     0.1100   \n",
       "6  https://thehill.com/sites/default/files/thomps...        0     0.0949   \n",
       "7  https://thehill.com/sites/default/files/canada...        0     0.0962   \n",
       "8  https://thehill.com/sites/default/files/ca._te...        0     0.0828   \n",
       "9  https://thehill.com/sites/default/files/capito...        0     0.0866   \n",
       "\n",
       "   right_bias  \n",
       "0      0.0902  \n",
       "1      0.0809  \n",
       "2      0.0663  \n",
       "3      0.1192  \n",
       "4      0.0875  \n",
       "5      0.0752  \n",
       "6      0.1010  \n",
       "7      0.0904  \n",
       "8      0.0657  \n",
       "9      0.0766  "
      ],
      "text/html": "<div>\n<style scoped>\n    .dataframe tbody tr th:only-of-type {\n        vertical-align: middle;\n    }\n\n    .dataframe tbody tr th {\n        vertical-align: top;\n    }\n\n    .dataframe thead th {\n        text-align: right;\n    }\n</style>\n<table border=\"1\" class=\"dataframe\">\n  <thead>\n    <tr style=\"text-align: right;\">\n      <th></th>\n      <th>url</th>\n      <th>date</th>\n      <th>author</th>\n      <th>title</th>\n      <th>summary</th>\n      <th>image</th>\n      <th>opinion</th>\n      <th>left_bias</th>\n      <th>right_bias</th>\n    </tr>\n  </thead>\n  <tbody>\n    <tr>\n      <th>0</th>\n      <td>https://thehill.com/homenews/state-watch/55433...</td>\n      <td>2021-05-19 12:10:39-04:00</td>\n      <td>[]</td>\n      <td>Oregon counties vote to secede to Idaho</td>\n      <td>ADVERTISEMENTThey join two other rural countie...</td>\n      <td>https://thehill.com/sites/default/files/idahoc...</td>\n      <td>0</td>\n      <td>0.1764</td>\n      <td>0.0902</td>\n    </tr>\n    <tr>\n      <th>1</th>\n      <td>https://thehill.com/regulation/court-battles/5...</td>\n      <td>2021-05-19 12:21:46-04:00</td>\n      <td>[]</td>\n      <td>Trump lashes out at prosecutors over criminal ...</td>\n      <td>Former President Trump Donald TrumpNew York pr...</td>\n      <td>https://thehill.com/sites/default/files/trumpd...</td>\n      <td>0</td>\n      <td>0.1293</td>\n      <td>0.0809</td>\n    </tr>\n    <tr>\n      <th>2</th>\n      <td>https://thehill.com/policy/defense/554342-ocas...</td>\n      <td>2021-05-19 12:34:04-04:00</td>\n      <td>[]</td>\n      <td>Ocasio-Cortez leading effort to block arms sal...</td>\n      <td>But the effort underscores the growing divide ...</td>\n      <td>https://thehill.com/sites/default/files/ocasio...</td>\n      <td>0</td>\n      <td>0.0788</td>\n      <td>0.0663</td>\n    </tr>\n    <tr>\n      <th>3</th>\n      <td>https://thehill.com/opinion/civil-rights/55435...</td>\n      <td>2021-05-19 15:00:07-04:00</td>\n      <td>[]</td>\n      <td>Trump's 'big lie' is just a ploy</td>\n      <td>Consequently, much commentary has focused on t...</td>\n      <td>https://thehill.com/sites/default/files/trumpd...</td>\n      <td>0</td>\n      <td>0.1439</td>\n      <td>0.1192</td>\n    </tr>\n    <tr>\n      <th>4</th>\n      <td>https://thehill.com/policy/national-security/5...</td>\n      <td>2021-05-19 11:20:35-04:00</td>\n      <td>[]</td>\n      <td>McConnell says he opposes 'slanted' Jan. 6 com...</td>\n      <td>McConnell's speech comes after he informed Sen...</td>\n      <td>https://thehill.com/sites/default/files/mcconn...</td>\n      <td>0</td>\n      <td>0.1454</td>\n      <td>0.0875</td>\n    </tr>\n    <tr>\n      <th>5</th>\n      <td>https://thehill.com/homenews/media/554363-chic...</td>\n      <td>2021-05-19 13:38:25-04:00</td>\n      <td>[]</td>\n      <td>Chicago mayor sparks backlash after limiting m...</td>\n      <td>Chicago Mayor Lori Lightfoot Lori LightfootLol...</td>\n      <td>https://thehill.com/sites/default/files/lightf...</td>\n      <td>0</td>\n      <td>0.1100</td>\n      <td>0.0752</td>\n    </tr>\n    <tr>\n      <th>6</th>\n      <td>https://thehill.com/homenews/house/554431-top-...</td>\n      <td>2021-05-19 16:51:51-04:00</td>\n      <td>[]</td>\n      <td>Top Dem: We thought McCarthy had endorsed Jan....</td>\n      <td>The Democrat who negotiated the bipartisan bil...</td>\n      <td>https://thehill.com/sites/default/files/thomps...</td>\n      <td>0</td>\n      <td>0.0949</td>\n      <td>0.1010</td>\n    </tr>\n    <tr>\n      <th>7</th>\n      <td>https://thehill.com/policy/international/ameri...</td>\n      <td>2021-05-19 15:22:01-04:00</td>\n      <td>[]</td>\n      <td>US-Canadian border restrictions to be extended...</td>\n      <td>Restrictions on nonessential travel across the...</td>\n      <td>https://thehill.com/sites/default/files/canada...</td>\n      <td>0</td>\n      <td>0.0962</td>\n      <td>0.0904</td>\n    </tr>\n    <tr>\n      <th>8</th>\n      <td>https://thehill.com/changing-america/respect/e...</td>\n      <td>2021-05-19 10:42:04-04:00</td>\n      <td>[]</td>\n      <td>Three giant department stores drop Chrissy Tei...</td>\n      <td>As Changing America previously reported, super...</td>\n      <td>https://thehill.com/sites/default/files/ca._te...</td>\n      <td>0</td>\n      <td>0.0828</td>\n      <td>0.0657</td>\n    </tr>\n    <tr>\n      <th>9</th>\n      <td>https://thehill.com/homenews/media/554290-qano...</td>\n      <td>2021-05-19 10:07:17-04:00</td>\n      <td>[]</td>\n      <td>'QAnon Shaman' attorney refuses to apologize f...</td>\n      <td>“A lot of these defendants — and I’m going to ...</td>\n      <td>https://thehill.com/sites/default/files/capito...</td>\n      <td>0</td>\n      <td>0.0866</td>\n      <td>0.0766</td>\n    </tr>\n  </tbody>\n</table>\n</div>"
     },
     "metadata": {},
     "execution_count": 5
    }
   ],
   "source": [
    "df = pd.concat([pd.DataFrame(articles),pd.DataFrame(metrics)], axis=1)\n",
    "df"
   ]
  },
  {
   "cell_type": "code",
   "execution_count": null,
   "metadata": {},
   "outputs": [],
   "source": []
  }
 ]
}