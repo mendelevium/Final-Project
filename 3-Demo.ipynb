{
 "nbformat": 4,
 "nbformat_minor": 2,
 "metadata": {
  "language_info": {
   "name": "python",
   "codemirror_mode": {
    "name": "ipython",
    "version": 3
   },
   "version": "3.8.3"
  },
  "orig_nbformat": 2,
  "file_extension": ".py",
  "mimetype": "text/x-python",
  "name": "python",
  "npconvert_exporter": "python",
  "pygments_lexer": "ipython3",
  "version": 3,
  "kernelspec": {
   "name": "python38364bitbasee0d3a3f774f446a2aff50e11b591e430",
   "display_name": "Python 3.8.3 64-bit ('base': conda)"
  },
  "metadata": {
   "interpreter": {
    "hash": "6d46af94c2bbce495f1e668725902fa517c90b1782bcfe2fce0dd9868df553d3"
   }
  }
 },
 "cells": [
  {
   "cell_type": "markdown",
   "metadata": {},
   "source": [
    "# Demo\n",
    "\n",
    "Run `python nwsfx_flask_app.py` in the terminal"
   ]
  },
  {
   "cell_type": "code",
   "execution_count": 1,
   "metadata": {},
   "outputs": [],
   "source": [
    "import requests\n",
    "import json"
   ]
  },
  {
   "cell_type": "code",
   "execution_count": 2,
   "metadata": {},
   "outputs": [
    {
     "output_type": "stream",
     "name": "stdout",
     "text": [
      "\n        Available functions:\n            - summary: date, author, title, summary, image\n            - entities: top 10 entities and their sentiments\n            - metrics: return opinion (0 or 1), left and rigth bias\n\n        Expected JSON input:\n        {\n            \"url\" : \"https://www.example.com\"\n        }\n        \n"
     ]
    }
   ],
   "source": [
    "r = requests.get('http://localhost:5000/')\n",
    "print(r.content.decode())"
   ]
  },
  {
   "cell_type": "code",
   "execution_count": 3,
   "metadata": {},
   "outputs": [
    {
     "output_type": "execute_result",
     "data": {
      "text/plain": [
       "{'url': 'https://www.cnn.com/2021/05/19/politics/house-vote-january-6-commission/index.html',\n",
       " 'date': '2021-05-19 00:00:00',\n",
       " 'author': ['Annie Grayer'],\n",
       " 'title': 'January 6 commission: House set to vote on bill to set up commission with eyes on GOP defections',\n",
       " 'summary': 'But the margins are an important indicator because just how many House Republicans are willing to buck their party leadership may offer an early signal for how many GOP senators could back the bill.\\n\"We\\'ll see what the House vote is like, but I want to be clear, I will put the January 6 commission legislation on the floor of the Senate for a vote.\\nPelosi responded to McCarthy\\'s opposition to the deal in a statement by saying, \"Democrats made repeated efforts to seek a bipartisan compromise.\\nDespite McCarthy\\'s opposition, Katko told reporters on Tuesday that he still believed the bill was a good deal.\\nBut the Republican split in the House over the January 6 commission legislation has led to further confusion in the Senate.',\n",
       " 'image': 'https://cdn.cnn.com/cnnnext/dam/assets/200609144443-mccarthy-pelosi-split-super-tease.jpg'}"
      ]
     },
     "metadata": {},
     "execution_count": 3
    }
   ],
   "source": [
    "query = json.dumps({\n",
    "    \"url\": \"https://www.cnn.com/2021/05/19/politics/house-vote-january-6-commission/index.html\"\n",
    "})\n",
    "\n",
    "r = requests.post('http://localhost:5000/summary', data=query, timeout=10)\n",
    "summary = r.content.decode()\n",
    "eval(summary)"
   ]
  },
  {
   "cell_type": "code",
   "execution_count": 4,
   "metadata": {},
   "outputs": [
    {
     "output_type": "execute_result",
     "data": {
      "text/plain": [
       "{'opinion': 0, 'left_bias': 0.1485, 'right_bias': 0.0872}"
      ]
     },
     "metadata": {},
     "execution_count": 4
    }
   ],
   "source": [
    "query = json.dumps({\n",
    "    \"url\": \"https://www.cnn.com/2021/05/19/politics/house-vote-january-6-commission/index.html\"\n",
    "})\n",
    "\n",
    "r = requests.post('http://localhost:5000/metrics', data=query, timeout=10)\n",
    "metrics = r.content.decode()\n",
    "eval(metrics)"
   ]
  },
  {
   "cell_type": "code",
   "execution_count": 5,
   "metadata": {},
   "outputs": [
    {
     "output_type": "execute_result",
     "data": {
      "text/plain": [
       "{'opinion': 1, 'left_bias': 0.1214, 'right_bias': 0.0647}"
      ]
     },
     "metadata": {},
     "execution_count": 5
    }
   ],
   "source": [
    "query = json.dumps({\n",
    "    \"url\": \"https://www.foxnews.com/opinion/tucker-carlson-the-great-unmasking-is-finally-upon-us-but-not-everyone-is-happy\"\n",
    "})\n",
    "\n",
    "r = requests.post('http://localhost:5000/metrics', data=query, timeout=10)\n",
    "metrics = r.content.decode()\n",
    "eval(metrics)"
   ]
  },
  {
   "cell_type": "code",
   "execution_count": 6,
   "metadata": {},
   "outputs": [
    {
     "output_type": "execute_result",
     "data": {
      "text/plain": [
       "{'Americans': 0.1613,\n",
       " 'New York': 0.048,\n",
       " 'Joe Glickman': 0.0,\n",
       " '22-year-old': 0.25,\n",
       " '0.6': 0.25,\n",
       " 'a million': 0.25,\n",
       " 'the Great Unmasking': 0.5414,\n",
       " 'BLM': -0.7717,\n",
       " 'FLORIDA': 0.1531,\n",
       " '10-YEAR-OLD': 0.1531}"
      ]
     },
     "metadata": {},
     "execution_count": 6
    }
   ],
   "source": [
    "query = json.dumps({\n",
    "    \"url\": \"https://www.foxnews.com/opinion/tucker-carlson-the-great-unmasking-is-finally-upon-us-but-not-everyone-is-happy\"\n",
    "})\n",
    "\n",
    "r = requests.post('http://localhost:5000/entities', data=query, timeout=10)\n",
    "entities = r.content.decode()\n",
    "eval(entities)"
   ]
  },
  {
   "cell_type": "code",
   "execution_count": null,
   "metadata": {},
   "outputs": [],
   "source": []
  }
 ]
}