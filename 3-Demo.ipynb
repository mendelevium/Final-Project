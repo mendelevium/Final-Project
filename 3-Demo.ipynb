{
 "nbformat": 4,
 "nbformat_minor": 2,
 "metadata": {
  "language_info": {
   "name": "python",
   "codemirror_mode": {
    "name": "ipython",
    "version": 3
   },
   "version": "3.8.3"
  },
  "orig_nbformat": 2,
  "file_extension": ".py",
  "mimetype": "text/x-python",
  "name": "python",
  "npconvert_exporter": "python",
  "pygments_lexer": "ipython3",
  "version": 3,
  "kernelspec": {
   "name": "python38364bitbasee0d3a3f774f446a2aff50e11b591e430",
   "display_name": "Python 3.8.3 64-bit ('base': conda)"
  },
  "metadata": {
   "interpreter": {
    "hash": "6d46af94c2bbce495f1e668725902fa517c90b1782bcfe2fce0dd9868df553d3"
   }
  }
 },
 "cells": [
  {
   "cell_type": "markdown",
   "metadata": {},
   "source": [
    "# Demo\n",
    "\n",
    "Run `python nwsfx_flask_app.py` in the terminal"
   ]
  },
  {
   "cell_type": "code",
   "execution_count": 1,
   "metadata": {},
   "outputs": [],
   "source": [
    "import requests\n",
    "import json"
   ]
  },
  {
   "cell_type": "code",
   "execution_count": 2,
   "metadata": {},
   "outputs": [
    {
     "output_type": "stream",
     "name": "stdout",
     "text": [
      "\n        Available functions:\n            - summary: date, author, title, summary, image\n            - entities: top 10 entities and their sentiments\n            - metrics: return opinion (0 or 1), left and rigth bias\n\n        Expected JSON input:\n        {\n            \"url\" : \"https://www.example.com\"\n        }\n        \n"
     ]
    }
   ],
   "source": [
    "r = requests.get('http://localhost:5000/')\n",
    "print(r.content.decode())"
   ]
  },
  {
   "cell_type": "code",
   "execution_count": 3,
   "metadata": {},
   "outputs": [
    {
     "output_type": "execute_result",
     "data": {
      "text/plain": [
       "{'url': 'https://www.cnn.com/2021/05/08/politics/chinese-rocket-earth-reentry/index.html',\n",
       " 'date': '2021-05-08 00:00:00',\n",
       " 'author': ['Paul Leblanc'],\n",
       " 'title': 'Chinese rocket expected to crash into Earth this weekend',\n",
       " 'summary': '(CNN) A large Chinese rocket that is out of control is set to reenter Earth\\'s atmosphere this weekend, bringing a final wave of concern before its debris makes impact somewhere on Earth.\\nThe Long March 5B rocket, which is around 100 feet tall and weighs 22 tons, is expected to enter Earth\\'s atmosphere \"around May 8,\" according to a statement from Defense Department spokesperson Mike Howard, who said the US Space Command is tracking the rocket\\'s trajectory.\\nThe rocket\\'s \"exact entry point into the Earth\\'s atmosphere\" can\\'t be pinpointed until within hours of reentry, Howard said, but the 18th Space Control Squadron is providing daily updates on the rocket\\'s location through the Space Track websiteThe good news is that debris plunging toward Earth -- while unnerving -- generally poses very little threat to personal safety.\\n\"The risk that there will be some damage or that it would hit someone is pretty small -- not negligible, it could happen -- but the risk that it will hit you is incredibly tiny.\\nAnd so I would not lose one second of sleep over this on a personal threat basis,\" Jonathan McDowell, an astrophysicist at the Astrophysics Center at Harvard University, told CNN this week.',\n",
       " 'image': 'https://cdn.cnn.com/cnnnext/dam/assets/210504155312-long-march-5b-launch-0429-super-tease.jpg'}"
      ]
     },
     "metadata": {},
     "execution_count": 3
    }
   ],
   "source": [
    "query = json.dumps({\n",
    "    \"url\": \"https://www.cnn.com/2021/05/08/politics/chinese-rocket-earth-reentry/index.html\"\n",
    "})\n",
    "\n",
    "r = requests.post('http://localhost:5000/summary', data=query, timeout=10)\n",
    "summary = r.content.decode()\n",
    "eval(summary)"
   ]
  },
  {
   "cell_type": "code",
   "execution_count": 4,
   "metadata": {},
   "outputs": [
    {
     "output_type": "execute_result",
     "data": {
      "text/plain": [
       "{'Earth': 0.1939,\n",
       " 'CNN': -0.1106,\n",
       " 'Chinese': 0.0,\n",
       " 'this weekend': 0.0,\n",
       " 'around 100 feet': 0.128,\n",
       " '22 tons': 0.128,\n",
       " 'May 8': 0.128,\n",
       " 'Defense Department': 0.128,\n",
       " 'Mike Howard': 0.128,\n",
       " 'the US Space Command': 0.128}"
      ]
     },
     "metadata": {},
     "execution_count": 4
    }
   ],
   "source": [
    "r = requests.post('http://localhost:5000/entities', data=query, timeout=10)\n",
    "entities = r.content.decode()\n",
    "eval(entities)"
   ]
  },
  {
   "cell_type": "code",
   "execution_count": 5,
   "metadata": {},
   "outputs": [
    {
     "output_type": "execute_result",
     "data": {
      "text/plain": [
       "{'opinion': 0, 'left_bias': 0, 'right_bias': 0}"
      ]
     },
     "metadata": {},
     "execution_count": 5
    }
   ],
   "source": [
    "query = json.dumps({\n",
    "    \"url\": \"https://www.cnn.com/2021/05/08/politics/chinese-rocket-earth-reentry/index.html\"\n",
    "})\n",
    "\n",
    "r = requests.post('http://localhost:5000/metrics', data=query, timeout=10)\n",
    "metrics = r.content.decode()\n",
    "eval(metrics)"
   ]
  },
  {
   "cell_type": "code",
   "execution_count": null,
   "metadata": {},
   "outputs": [],
   "source": []
  }
 ]
}