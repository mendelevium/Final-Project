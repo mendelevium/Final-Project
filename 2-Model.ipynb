{
 "cells": [
  {
   "source": [
    "# NLP model on bias"
   ],
   "cell_type": "markdown",
   "metadata": {}
  },
  {
   "cell_type": "code",
   "execution_count": 17,
   "metadata": {},
   "outputs": [],
   "source": [
    "import tarfile\n",
    "import pandas as pd\n",
    "import numpy as np\n",
    "import re\n",
    "\n",
    "from sklearn.model_selection import train_test_split\n",
    "\n",
    "#import tensorflow as tf\n",
    "from tensorflow import keras\n",
    "\n",
    "# FFNN\n",
    "from keras.layers import Dense\n",
    "from keras.layers import BatchNormalization\n",
    "from keras.layers import Activation\n",
    "from keras.layers import Dropout\n",
    "\n",
    "# RNN\n",
    "from keras.preprocessing import sequence\n",
    "from keras.layers import Input\n",
    "from keras.layers.embeddings import Embedding\n",
    "from keras.layers.recurrent import GRU\n",
    "from keras.layers.recurrent import LSTM"
   ]
  },
  {
   "cell_type": "code",
   "execution_count": 4,
   "metadata": {
    "tags": [
     "outputPrepend"
    ]
   },
   "outputs": [
    {
     "output_type": "stream",
     "name": "stdout",
     "text": [
      "visas to help UK fruit farmers' at 0x1a0f0875700>\n",
      "<TarInfo 'articles/2018-09-06/The Guardian UK/The Guardian UK--2018-09-06--A friend to Middle Britain Geordie Greig begins reign as Daily Mail editor' at 0x1a0f0875940>\n",
      "<TarInfo 'articles/2018-09-06/The Guardian UK/The Guardian UK--2018-09-06--Robin Williams curios and mementoes for sale in pictures' at 0x1a0f0875c40>\n",
      "<TarInfo 'articles/2018-09-06/The Guardian UK/The Guardian UK--2018-09-06--10 of the worlds best street food stalls readers travel tips' at 0x1a0f0875b80>\n",
      "<TarInfo 'articles/2018-09-06/The Guardian UK/The Guardian UK--2018-09-06--China complains over British warship sailing through disputed South China Sea' at 0x1a0f0875dc0>\n",
      "<TarInfo 'articles/2018-09-06/The Guardian UK/The Guardian UK--2018-09-06--Thai boys trapped in cave climb through replica video' at 0x1a0f0875e80>\n",
      "<TarInfo 'articles/2018-09-06/The Guardian UK/The Guardian UK--2018-09-06--What does energy price cap mean for households and firms' at 0x1a0f0875f40>\n",
      "<TarInfo 'articles/2018-09-06/The Guardian UK/The Guardian UK--2018-09-06--Life of Victoria Wood celebrated in Bury exhibition' at 0x1a0f0878100>\n",
      "<TarInfo 'articles/2018-09-06/The Guardian UK/The Guardian UK--2018-09-06--US charges North Korean hacker over 2014 Sony and NHS cyber-attacks' at 0x1a0f08781c0>\n",
      "<TarInfo 'articles/2018-09-06/The Guardian UK/The Guardian UK--2018-09-06--Indian supreme court decriminalises homosexuality' at 0x1a0f0878280>\n",
      "<TarInfo 'articles/2018-09-06/sott.net' at 0x1a0f0858ac0>\n",
      "<TarInfo 'articles/2018-09-06/sott.net/sott.net--2018-09-06--Cleaning house Swiss bishops ordered to report sexual abuse regardless of victims wishes say churc' at 0x1a0f0878340>\n",
      "<TarInfo 'articles/2018-09-06/sott.net/sott.net--2018-09-06--Iraqis set government building on fire in Basra as at least 1 killed 20 injured in fresh protests' at 0x1a0f08784c0>\n",
      "<TarInfo 'articles/2018-09-06/sott.net/sott.net--2018-09-06--Russian MOD releases footage of strikes on terrorist targets in Idlib' at 0x1a0f0878580>\n",
      "<TarInfo 'articles/2018-09-06/sott.net/sott.net--2018-09-06--NY Times publishes Trump insiders admission of working against the president Still says Deep State' at 0x1a0f0878700>\n",
      "<TarInfo 'articles/2018-09-06/sott.net/sott.net--2018-09-06--A journey beyond MSM headlines Four US citizens travel to Crimea here to make a small difference' at 0x1a0f0878640>\n",
      "<TarInfo 'articles/2018-09-06/sott.net/sott.net--2018-09-06--Preventing the spread of shantytowns 500 migrants moved from French camp infamous for riots c' at 0x1a0f0878880>\n",
      "<TarInfo 'articles/2018-09-06/sott.net/sott.net--2018-09-06--Humorless authoritarian state Saudi Arabia criminalizes satire on social media' at 0x1a0f08787c0>\n",
      "<TarInfo 'articles/2018-09-06/sott.net/sott.net--2018-09-06--Roy Moore to sue Sacha Baron Cohen over bogus pedophile detector interview' at 0x1a0f0878ac0>\n",
      "<TarInfo 'articles/2018-09-06/sott.net/sott.net--2018-09-06--Mad scientists want to use Earth to catch asteroids for mining' at 0x1a0f0878a00>\n",
      "<TarInfo 'articles/2018-09-06/sott.net/sott.net--2018-09-06--The New York Times gives voice to a revolution of indignity' at 0x1a0f0878b80>\n",
      "<TarInfo 'articles/2018-09-06/sott.net/sott.net--2018-09-06--Lying Mattis Pentagon has zero intelligence on Syrian militants abilities to stage a chemical we' at 0x1a0f0878d00>\n",
      "<TarInfo 'articles/2018-09-06/sott.net/sott.net--2018-09-06--Hurricane Florence upgraded to Category 4 storm as Gordon moves inland' at 0x1a0f0878dc0>\n",
      "<TarInfo 'articles/2018-09-06/sott.net/sott.net--2018-09-06--Last battle Syrian army ready to launch offensive liberate Idlib says Syrian MP' at 0x1a0f0878c40>\n",
      "<TarInfo 'articles/2018-09-06/sott.net/sott.net--2018-09-06--Trump saboteurs op-ed becomes Times dumpster fire LA Times calls author a coward Greenwald Un' at 0x1a0f0878f40>\n",
      "<TarInfo 'articles/2018-09-06/sott.net/sott.net--2018-09-06--UK Labour MP suggests teenagers inciting violence should be banned from social media' at 0x1a0f087c040>\n",
      "<TarInfo 'articles/2018-09-06/sott.net/sott.net--2018-09-06--2 families displaced after large sinkhole opens in New Fort Richey Florida' at 0x1a0f087c280>\n",
      "<TarInfo 'articles/2018-09-06/sott.net/sott.net--2018-09-06--Strong and shallow M67 earthquake hits Hokkaido Japan - Day after strongest typhoon in 25 years' at 0x1a0f087c1c0>\n",
      "<TarInfo 'articles/2018-09-06/sott.net/sott.net--2018-09-06--Adapt 2030 Ice Age Report UK extreme cold late summer as Atlantic ocean temperatures change' at 0x1a0f087c340>\n",
      "<TarInfo 'articles/2018-09-06/sott.net/sott.net--2018-09-06--After summer fails to show snow is earliest since 1982 in Yellowknife Canada' at 0x1a0f087c4c0>\n",
      "<TarInfo 'articles/2018-09-06/sott.net/sott.net--2018-09-06--Use of word lodestar has some convinced Mike Pence wrote anonymous New York Times op-ed' at 0x1a0f087c640>\n",
      "<TarInfo 'articles/2018-09-06/sott.net/sott.net--2018-09-06--Russia demands OSCE action over Ukraines treatment of journalist in custody' at 0x1a0f087c700>\n",
      "<TarInfo 'articles/2018-09-06/sott.net/sott.net--2018-09-06--Volcano south of Anchorage Alaska blows smoke ash' at 0x1a0f0878400>\n",
      "<TarInfo 'articles/2018-09-06/sott.net/sott.net--2018-09-06--Many economically distressed older Americans are living a desperate nomadic life to find work' at 0x1a0f087c7c0>\n",
      "<TarInfo 'articles/2018-09-06/sott.net/sott.net--2018-09-06--Palestinians call on intl community to intervene as Israeli court approves demolishing Bedouin villa' at 0x1a0f087ca00>\n",
      "<TarInfo 'articles/2018-09-06/sott.net/sott.net--2018-09-06--Amazon is far more dangerous and powerful than people want to admit' at 0x1a0f087c940>\n",
      "<TarInfo 'articles/2018-09-06/sott.net/sott.net--2018-09-06--I would join protests if I wasnt minister Merkel interior chief Seehofer on Chemnitz unrest' at 0x1a0f087cb80>\n",
      "<TarInfo 'articles/2018-09-06/sott.net/sott.net--2018-09-06--The administration of the UNO is organizing the war' at 0x1a0f087cc40>\n",
      "<TarInfo 'articles/2018-09-06/sott.net/sott.net--2018-09-06--BEST OF THE WEB Another strong earthquake hits Japan - 2 dead 143 injured - Collapsed buildings an' at 0x1a0f087cdc0>\n",
      "<TarInfo 'articles/2018-09-06/sott.net/sott.net--2018-09-06--An Alastair Crooke observation on Suez Event' at 0x1a0f087c880>\n",
      "<TarInfo 'articles/2018-09-06/sott.net/sott.net--2018-09-06--Ukraine parliament speaker to be sued for saying Hitler was biggest democrat' at 0x1a0f087cf40>\n",
      "<TarInfo 'articles/2018-09-06/sott.net/sott.net--2018-09-06--India reducing its US Treasury securities and buying gold instead' at 0x1a0f087ce80>\n",
      "<TarInfo 'articles/2018-09-06/sott.net/sott.net--2018-09-06--The Power of Siberia gas pipeline from Russia to China nears completion' at 0x1a0f0880040>\n",
      "<TarInfo 'articles/2018-09-06/sott.net/sott.net--2018-09-06--China expressed anger over British warship sailing through disputed South China Sea' at 0x1a0f0880100>\n",
      "<TarInfo 'articles/2018-09-06/sott.net/sott.net--2018-09-06--The Skripal poisoning mystery deepens' at 0x1a0f087cd00>\n",
      "<TarInfo 'articles/2018-09-06/sott.net/sott.net--2018-09-06--Were watching an antidemocratic coup unfold in the United States' at 0x1a0f0880400>\n",
      "<TarInfo 'articles/2018-09-06/sott.net/sott.net--2018-09-06--Israel plans to sell Freedom Flotilla boats give money to illegal Settlers' at 0x1a0f08804c0>\n",
      "<TarInfo 'articles/2018-09-06/sott.net/sott.net--2018-09-06--Pakistan becoming worlds 5th largest nuclear superpower by 2025 would cause considerable concern' at 0x1a0f0880340>\n",
      "<TarInfo 'articles/2018-09-06/sott.net/sott.net--2018-09-06--Salisbury plot thickens as questions without answers multiply' at 0x1a0f0880580>\n",
      "<TarInfo 'articles/2018-09-06/sott.net/sott.net--2018-09-06--DOJ looks into social media stifling free speech and impartiality' at 0x1a0f0880700>\n",
      "<TarInfo 'articles/2018-09-06/sott.net/sott.net--2018-09-06--Americas descent into plutocracy is complete' at 0x1a0f0880280>\n",
      "<TarInfo 'articles/2018-09-06/sott.net/sott.net--2018-09-06--Censored Al Jazeera documentary exposes Israeli governments attack on Black Lives Matter' at 0x1a0f0880880>\n",
      "<TarInfo 'articles/2018-09-06/sott.net/sott.net--2018-09-06--Israel is a racist endeavour Metropolitan police investigate posters scattered around London' at 0x1a0f0880a00>\n",
      "<TarInfo 'articles/2018-09-06/sott.net/sott.net--2018-09-06--Bailout disaster moves to next victim after EU vultures picked Greeces bones clean' at 0x1a0f0880ac0>\n",
      "<TarInfo 'articles/2018-09-06/sott.net/sott.net--2018-09-06--Why so many older Americans are overdosing on opioids' at 0x1a0f0880c40>\n",
      "<TarInfo 'articles/2018-09-06/sott.net/sott.net--2018-09-06--Witnesses say they saw protesters receiving cash payments to disrupt Kavanaugh hearing' at 0x1a0f0880d00>\n",
      "<TarInfo 'articles/2018-09-06/sott.net/sott.net--2018-09-06--James Corbett The Secret Lie That Started The War In Afghanistan VIDEO' at 0x1a0f0880dc0>\n",
      "<TarInfo 'articles/2018-09-06/sott.net/sott.net--2018-09-06--Russian Church is completely free from any political influence declares Patriarch Kirill' at 0x1a0f0880f40>\n",
      "<TarInfo 'articles/2018-09-06/sott.net/sott.net--2018-09-06--Strong and shallow M67 earthquake hits Hokkaido Japan - UPDATE 2 dead 143 injured dozens missin' at 0x1a0f0884100>\n",
      "<TarInfo 'articles/2018-09-06/sott.net/sott.net--2018-09-06--2 families displaced after large sinkhole opens in New Port Richey Florida' at 0x1a0f08841c0>\n",
      "<TarInfo 'articles/2018-09-06/sott.net/sott.net--2018-09-06--N Korea vows denuclearization within Trumps first term' at 0x1a0f0884340>\n",
      "<TarInfo 'articles/2018-09-06/sott.net/sott.net--2018-09-06--Dublins rising homeless population jars with narrative of Irish economic boom' at 0x1a0f0884280>\n",
      "<TarInfo 'articles/2018-09-06/sott.net/sott.net--2018-09-06--911 cancer on steroids 10000 related cases including men with breast cancer' at 0x1a0f0884580>\n",
      "<TarInfo 'articles/2018-09-06/sott.net/sott.net--2018-09-06--Woman dies of heart attack while being mauled by pit bull terrier in Proctor Missouri' at 0x1a0f08844c0>\n",
      "<TarInfo 'articles/2018-09-06/sott.net/sott.net--2018-09-06--India decriminalizes gay sex in landmark Supreme Court ruling' at 0x1a0f0884640>\n",
      "<TarInfo 'articles/2018-09-06/sott.net/sott.net--2018-09-06--Midterm elections Voters report watching their ballots mysteriously switch to another candidate' at 0x1a0f08847c0>\n",
      "<TarInfo 'articles/2018-09-06/sott.net/sott.net--2018-09-06--Obama threatens to cancel taxpayer-funded speech in Denmark if his contract is released to the publi' at 0x1a0f0884940>\n",
      "<TarInfo 'articles/2018-09-06/sott.net/sott.net--2018-09-06--Red sprites caught on film above tropical storm Gordon' at 0x1a0f0884880>\n",
      "<TarInfo 'articles/2018-09-06/sott.net/sott.net--2018-09-06--India Parents of young boy who has 24 fingers and toes risks being sacrificed by his own family' at 0x1a0f0884a00>\n",
      "<TarInfo 'articles/2018-09-06/sott.net/sott.net--2018-09-06--Nikki Haley discovers psychic powers knows exactly who will use chemical weapons in Syria' at 0x1a0f0884b80>\n",
      "<TarInfo 'articles/2018-09-06/sott.net/sott.net--2018-09-06--A combined army of Libyan tribes fight UN-backed terrorist militias in Tripoli' at 0x1a0f0884c40>\n",
      "<TarInfo 'articles/2018-09-06/sott.net/sott.net--2018-09-06--Indonesian district governed by medieval Sharia law bans men and women from dining together' at 0x1a0f0884e80>\n",
      "<TarInfo 'articles/2018-09-06/sott.net/sott.net--2018-09-06--78 earthquake recorded near Suva Fiji' at 0x1a0f0880640>\n",
      "<TarInfo 'articles/2018-09-06/sott.net/sott.net--2018-09-06--As ice and snow return summers over in Nunavut Canada' at 0x1a0f0886040>\n",
      "<TarInfo 'articles/2018-09-06/sott.net/sott.net--2018-09-06--Stunningly complex sun halo snapped above Yellowknife Canada' at 0x1a0f08861c0>\n",
      "<TarInfo 'articles/2018-09-06/sott.net/sott.net--2018-09-06--Global cooling Anomalous cold across vast expanses of Siberia - with over a foot of snow' at 0x1a0f0886100>\n",
      "<TarInfo 'articles/2018-09-06/sott.net/sott.net--2018-09-06--The American Dream has drastically shrunk and the reason why is debt' at 0x1a0f0886340>\n",
      "<TarInfo 'articles/2018-09-06/sott.net/sott.net--2018-09-06--President Trump may declassify the 20 FISA docs Congress wants' at 0x1a0f0886400>\n",
      "<TarInfo 'articles/2018-09-06/sott.net/sott.net--2018-09-06--New study finds 1 in 4 Americans and nearly half of millennials deleted Facebook after censorship an' at 0x1a0f0886580>\n",
      "<TarInfo 'articles/2018-09-06/sott.net/sott.net--2018-09-06--Second Seagrams heiress sued for ensnaring women in fraudulent scheme as part of NXIVM cult' at 0x1a0f0886640>\n",
      "<TarInfo 'articles/2018-09-06/LewRockwell' at 0x1a0f0884f40>\n",
      "<TarInfo 'articles/2018-09-06/LewRockwell/LewRockwell--2018-09-06--Metaphor in a Government-Founded Church' at 0x1a0f0886700>\n",
      "<TarInfo 'articles/2018-09-06/LewRockwell/LewRockwell--2018-09-06--The 4 Levels of Disasters' at 0x1a0f08867c0>\n",
      "<TarInfo 'articles/2018-09-06/LewRockwell/LewRockwell--2018-09-06--Latest Smear From Crazed Lefties' at 0x1a0f0886940>\n",
      "<TarInfo 'articles/2018-09-06/LewRockwell/LewRockwell--2018-09-06--Fixing vs Buying' at 0x1a0f0886a00>\n",
      "<TarInfo 'articles/2018-09-06/LewRockwell/LewRockwell--2018-09-06--Psychic Nikki Haley' at 0x1a0f0886ac0>\n",
      "<TarInfo 'articles/2018-09-06/LewRockwell/LewRockwell--2018-09-06--The Global Financial System Is Unraveling' at 0x1a0f0886880>\n",
      "<TarInfo 'articles/2018-09-06/LewRockwell/LewRockwell--2018-09-06--Napoleon Was Defeated by Volcanoes' at 0x1a0f0886c40>\n",
      "<TarInfo 'articles/2018-09-06/LewRockwell/LewRockwell--2018-09-06--What Goes Around' at 0x1a0f0886b80>\n",
      "<TarInfo 'articles/2018-09-06/LewRockwell/LewRockwell--2018-09-06--Natural Allopathic Intensive Care' at 0x1a0f0886d00>\n",
      "<TarInfo 'articles/2018-09-06/LewRockwell/LewRockwell--2018-09-06--Ellsberg Says Assange as a Journalist' at 0x1a0f0886e80>\n",
      "<TarInfo 'articles/2018-09-06/LewRockwell/LewRockwell--2018-09-06--Athens Invaded' at 0x1a0f0886f40>\n",
      "<TarInfo 'articles/2018-09-06/LewRockwell/LewRockwell--2018-09-06--What Should Putin Do' at 0x1a0f0886dc0>\n",
      "<TarInfo 'articles/2018-09-06/Infowars' at 0x1a0f088a040>\n",
      "<TarInfo 'articles/2018-09-06/Infowars/Infowars--2018-09-06--WATCH Rep Markwayne Mullin Reads Sarah Jeongs Bigoted Tweets to Jack Dorsey' at 0x1a0f088a100>\n",
      "<TarInfo 'articles/2018-09-06/Infowars/Infowars--2018-09-06--Alex Jones Storms The Swamp 1 Trending On Twitter Trump Warns Snakes Are Everywhere' at 0x1a0f088a280>\n",
      "<TarInfo 'articles/2018-09-06/Infowars/Infowars--2018-09-06--Nike Becomes Face of Social Justice Despite History of Outsourcing Employing Slave Labor' at 0x1a0f088a400>\n",
      "<TarInfo 'articles/2018-09-06/Infowars/Infowars--2018-09-06--Fantasy Football Meets Politics Trumps Options to QB the DOJ' at 0x1a0f088a640>\n",
      "<TarInfo 'articles/2018-09-06/Infowars/Infowars--2018-09-06--Cher Our Lives Will Never Be the Same If Fcking Train Wreck Kavanaugh Confirmed' at 0x1a0f088a580>\n",
      "<TarInfo 'articles/2018-09-06/Infowars/Infowars--2018-09-06--A Stunning Betrayal Hannity Slams Swamp Sewer Creature Behind Anonymous NYT Hit Piece' at 0x1a0f088a880>\n",
      "<TarInfo 'articles/2018-09-06/Infowars/Infowars--2018-09-06--DOJ to Charge North Koreans for Sony WannaCry Cyberattacks' at 0x1a0f088a940>\n",
      "<TarInfo 'articles/2018-09-06/Infowars/Infowars--2018-09-06--Man Caught Paying Off Kavanaugh Protesters Works For Soros-Funded Organization' at 0x1a0f088aac0>\n",
      "<TarInfo 'articles/2018-09-06/Infowars/Infowars--2018-09-06--The Left is Now Claiming That Comedy No Longer Needs to be Funny' at 0x1a0f088ab80>\n",
      "<TarInfo 'articles/2018-09-06/Spiegel' at 0x1a0f088a1c0>\n",
      "<TarInfo 'articles/2018-09-06/Spiegel/Spiegel--2018-09-06--Luxusartikel fur Dutzende Millionen Euro zerstort Burberry stoppt Verbrennen unverkaufter Ware' at 0x1a0f088ac40>\n",
      "<TarInfo 'articles/2018-09-06/Spiegel/Spiegel--2018-09-06--Abschlussbericht Behorden raumen Fehler im Staufener Missbrauchsfall ein' at 0x1a0f088ae80>\n",
      "<TarInfo 'articles/2018-09-06/Spiegel/Spiegel--2018-09-06--Warenhauskonzerne Fusion von Kaufhof und Karstadt ist perfekt' at 0x1a0f088af40>\n",
      "<TarInfo 'articles/2018-09-06/Spiegel/Spiegel--2018-09-06--Aussagen zur Migration Merkel widerspricht Seehofer' at 0x1a0f088ad00>\n",
      "<TarInfo 'articles/2018-09-06/Spiegel/Spiegel--2018-09-06--Giftattacke auf Ex-Agent Verbundete stutzen britische Ermittlungsergebnisse im Fall Skripal' at 0x1a0f088e1c0>\n",
      "<TarInfo 'articles/2018-09-06/Spiegel/Spiegel--2018-09-06--Annaherung von Sud- und Nordkorea Moon Jae In reist am 18 September zu Kim Jong Un' at 0x1a0f088e280>\n",
      "<TarInfo 'articles/2018-09-06/Spiegel/Spiegel--2018-09-06--CSU-Chef Seehofers Masterproblem' at 0x1a0f088e100>\n",
      "<TarInfo 'articles/2018-09-06/Spiegel/Spiegel--2018-09-06--Statistisches Bundesamt Anteil der Akademikerinnen verdoppelt' at 0x1a0f088e580>\n",
      "<TarInfo 'articles/2018-09-06/Spiegel/Spiegel--2018-09-06--Nordkoreas Denuklearisierung Kim will bis 2021 abrusten' at 0x1a0f088e4c0>\n",
      "<TarInfo 'articles/2018-09-06/Spiegel/Spiegel--2018-09-06--Landesverband von Bjorn Hocke Thuringer Verfassungsschutz nimmt AfD in den Fokus' at 0x1a0f088e640>\n",
      "<TarInfo 'articles/2018-09-06/Spiegel/Spiegel--2018-09-06--Studie uber Sorgen der Bundesburger Trump macht den Deutschen Angst' at 0x1a0f088e700>\n",
      "<TarInfo 'articles/2018-09-06/Spiegel/Spiegel--2018-09-06--Vermisstes Madchen aus Freiburg Maria H lebte offenbar jahrelang in Italien' at 0x1a0f088e880>\n",
      "<TarInfo 'articles/2018-09-06/Spiegel/Spiegel--2018-09-06--Reaktionen auf Seehofer-Aussagen Grovater aller Berliner Regierungsprobleme' at 0x1a0f088ea00>\n",
      "<TarInfo 'articles/2018-09-06/Spiegel/Spiegel--2018-09-06--Prognosen Institute erwarten stabiles Wachstum bis 2020' at 0x1a0f088e940>\n",
      "<TarInfo 'articles/2018-09-06/Spiegel/Spiegel--2018-09-06--Fall Skripal Britische Regierung macht Prasident Putin fur Giftanschlag verantwortlich' at 0x1a0f088eb80>\n",
      "<TarInfo 'articles/2018-09-06/Spiegel/Spiegel--2018-09-06--Handelsstreit China warnt USA vor weiteren Strafzollen' at 0x1a0f088ec40>\n",
      "<TarInfo 'articles/2018-09-06/Spiegel/Spiegel--2018-09-06--Japan Tote und Verletzte bei Erdbeben auf Hokkaido' at 0x1a0f088e400>\n",
      "<TarInfo 'articles/2018-09-06/Spiegel/Spiegel--2018-09-06--Entscheidung des Obersten Gerichts Sex von Homosexuellen in Indien nicht mehr strafbar' at 0x1a0f088ed00>\n",
      "<TarInfo 'articles/2018-09-06/Spiegel/Spiegel--2018-09-06--Antarktis Rieseneisberg driftet in warmere Gewasser' at 0x1a0f088edc0>\n",
      "<TarInfo 'articles/2018-09-06/Spiegel/Spiegel--2018-09-06--Grobritannien Astrophysikerin gewinnt Millionenpreis und verschenkt ihn weiter' at 0x1a0f0891100>\n",
      "<TarInfo 'articles/2018-09-06/Spiegel/Spiegel--2018-09-06--Nations-League-Liveticker Frankreich macht Druck - Neuer pariert gegen Griezmann' at 0x1a0f0891040>\n",
      "<TarInfo 'articles/2018-09-06/Spiegel/Spiegel--2018-09-06--Kroatien Forscher entdecken 7000 Jahre alte Kasespuren' at 0x1a0f0891280>\n",
      "<TarInfo 'articles/2018-09-06/Spiegel/Spiegel--2018-09-06--Mord an Studentin in Dessau Sie tat wie er befahl' at 0x1a0f088ef40>\n",
      "<TarInfo 'articles/2018-09-06/Spiegel/Spiegel--2018-09-06--Macron zu Manfred Weber Man kann nicht gleichzeitig Merkel und Orban unterstutzen' at 0x1a0f0891340>\n",
      "<TarInfo 'articles/2018-09-06/Spiegel/Spiegel--2018-09-06--US-Schauspieler Burt Reynolds mit 82 Jahren gestorben' at 0x1a0f0891640>\n",
      "<TarInfo 'articles/2018-09-06/Spiegel/Spiegel--2018-09-06--EU-Aufenthaltserlaubnis Griechenland weitet Milliardengeschaft mit goldenen Visa aus' at 0x1a0f0891580>\n",
      "<TarInfo 'articles/2018-09-06/Spiegel/Spiegel--2018-09-06--Warenhauskonzerne Fusion von Kaufhof und Karstadt offenbar perfekt' at 0x1a0f0891880>\n",
      "<TarInfo 'articles/2018-09-06/Spiegel/Spiegel--2018-09-06--Bruckeneinsturz in Genua Staatsanwalt ermittelt gegen Autobahnbetreiber' at 0x1a0f08917c0>\n",
      "<TarInfo 'articles/2018-09-06/Spiegel/Spiegel--2018-09-06--Kampf gegen den Suff Reiterverband fuhrt erstmals Alkoholkontrollen bei Jugendmeisterschaften durch' at 0x1a0f0891940>\n",
      "<TarInfo 'articles/2018-09-06/Spiegel/Spiegel--2018-09-06--Obduktionsbericht Cranberries-Sangerin ist ertrunken' at 0x1a0f0891ac0>\n",
      "<TarInfo 'articles/2018-09-06/Waking Times' at 0x1a0f0891400>\n",
      "<TarInfo 'articles/2018-09-06/Waking Times/Waking Times--2018-09-06--Taoist Ascended Masters Comment on How Religions Enslave Us Instead of Awaken Us' at 0x1a0f0891b80>\n"
     ]
    }
   ],
   "source": [
    "#https://dataverse.harvard.edu/dataset.xhtml?persistentId=doi:10.7910/DVN/ULHLCB\n",
    "import tarfile\n",
    "\n",
    "def get_content(member):\n",
    "    with tar.extractfile(member) as f:\n",
    "        review = f.read().decode()\n",
    "        return review\n",
    "\n",
    "with tarfile.open(\"data/articles.tar.gz\", \"r:gz\") as tar:\n",
    "    for member in tar.getmembers():\n",
    "        print(member)\n",
    "        '''\n",
    "        if member.isreg(): \n",
    "            if 'train' in member.name:\n",
    "                if '/neg/' in member.name:\n",
    "                    score_10 = member.name[-5:-4]\n",
    "                    score = 0\n",
    "                    data.append([get_content(member), score, score_10])\n",
    "                elif '/pos/' in member.name:\n",
    "                    score_10 = member.name[-6:-4].replace('_','')\n",
    "                    score = 1\n",
    "                    data.append([get_content(member), score, score_10])\n",
    "                else:\n",
    "                    pass\n",
    "        '''"
   ]
  },
  {
   "cell_type": "code",
   "execution_count": 7,
   "metadata": {},
   "outputs": [
    {
     "output_type": "execute_result",
     "data": {
      "text/plain": [
       "       Unnamed: 0     id                                              title  \\\n",
       "0               0  17283  House Republicans Fret About Winning Their Hea...   \n",
       "1               1  17284  Rift Between Officers and Residents as Killing...   \n",
       "2               2  17285  Tyrus Wong, ‘Bambi’ Artist Thwarted by Racial ...   \n",
       "3               3  17286  Among Deaths in 2016, a Heavy Toll in Pop Musi...   \n",
       "4               4  17287  Kim Jong-un Says North Korea Is Preparing to T...   \n",
       "...           ...    ...                                                ...   \n",
       "49995       53287  73465   Rex Tillerson Says Climate Change Is Real, but …   \n",
       "49996       53288  73466  The Biggest Intelligence Questions Raised by t...   \n",
       "49997       53289  73467  Trump Announces Plan That Does Little to Resol...   \n",
       "49998       53290  73468    Dozens of For-Profit Colleges Could Soon Close    \n",
       "49999       53291  73469                       The Milky Way’s Stolen Stars   \n",
       "\n",
       "          publication                         author        date    year  \\\n",
       "0      New York Times                     Carl Hulse  2016-12-31  2016.0   \n",
       "1      New York Times  Benjamin Mueller and Al Baker  2017-06-19  2017.0   \n",
       "2      New York Times                   Margalit Fox  2017-01-06  2017.0   \n",
       "3      New York Times               William McDonald  2017-04-10  2017.0   \n",
       "4      New York Times                  Choe Sang-Hun  2017-01-02  2017.0   \n",
       "...               ...                            ...         ...     ...   \n",
       "49995        Atlantic                 Robinson Meyer  2017-01-11  2017.0   \n",
       "49996        Atlantic                     Amy Zegart  2017-01-11  2017.0   \n",
       "49997        Atlantic                  Jeremy Venook  2017-01-11  2017.0   \n",
       "49998        Atlantic                    Emily DeRuy  2017-01-11  2017.0   \n",
       "49999        Atlantic                   Marina Koren  2017-01-11  2017.0   \n",
       "\n",
       "       month  url                                            content  \n",
       "0       12.0  NaN  WASHINGTON  —   Congressional Republicans have...  \n",
       "1        6.0  NaN  After the bullet shells get counted, the blood...  \n",
       "2        1.0  NaN  When Walt Disney’s “Bambi” opened in 1942, cri...  \n",
       "3        4.0  NaN  Death may be the great equalizer, but it isn’t...  \n",
       "4        1.0  NaN  SEOUL, South Korea  —   North Korea’s leader, ...  \n",
       "...      ...  ...                                                ...  \n",
       "49995    1.0  NaN  As chairman and CEO of ExxonMobil, Rex Tillers...  \n",
       "49996    1.0  NaN  I’ve spent nearly 20 years looking at intellig...  \n",
       "49997    1.0  NaN    Donald Trump will not be taking necessary st...  \n",
       "49998    1.0  NaN  Dozens of   colleges could be forced to close ...  \n",
       "49999    1.0  NaN  The force of gravity can be described using a ...  \n",
       "\n",
       "[50000 rows x 10 columns]"
      ],
      "text/html": "<div>\n<style scoped>\n    .dataframe tbody tr th:only-of-type {\n        vertical-align: middle;\n    }\n\n    .dataframe tbody tr th {\n        vertical-align: top;\n    }\n\n    .dataframe thead th {\n        text-align: right;\n    }\n</style>\n<table border=\"1\" class=\"dataframe\">\n  <thead>\n    <tr style=\"text-align: right;\">\n      <th></th>\n      <th>Unnamed: 0</th>\n      <th>id</th>\n      <th>title</th>\n      <th>publication</th>\n      <th>author</th>\n      <th>date</th>\n      <th>year</th>\n      <th>month</th>\n      <th>url</th>\n      <th>content</th>\n    </tr>\n  </thead>\n  <tbody>\n    <tr>\n      <th>0</th>\n      <td>0</td>\n      <td>17283</td>\n      <td>House Republicans Fret About Winning Their Hea...</td>\n      <td>New York Times</td>\n      <td>Carl Hulse</td>\n      <td>2016-12-31</td>\n      <td>2016.0</td>\n      <td>12.0</td>\n      <td>NaN</td>\n      <td>WASHINGTON  —   Congressional Republicans have...</td>\n    </tr>\n    <tr>\n      <th>1</th>\n      <td>1</td>\n      <td>17284</td>\n      <td>Rift Between Officers and Residents as Killing...</td>\n      <td>New York Times</td>\n      <td>Benjamin Mueller and Al Baker</td>\n      <td>2017-06-19</td>\n      <td>2017.0</td>\n      <td>6.0</td>\n      <td>NaN</td>\n      <td>After the bullet shells get counted, the blood...</td>\n    </tr>\n    <tr>\n      <th>2</th>\n      <td>2</td>\n      <td>17285</td>\n      <td>Tyrus Wong, ‘Bambi’ Artist Thwarted by Racial ...</td>\n      <td>New York Times</td>\n      <td>Margalit Fox</td>\n      <td>2017-01-06</td>\n      <td>2017.0</td>\n      <td>1.0</td>\n      <td>NaN</td>\n      <td>When Walt Disney’s “Bambi” opened in 1942, cri...</td>\n    </tr>\n    <tr>\n      <th>3</th>\n      <td>3</td>\n      <td>17286</td>\n      <td>Among Deaths in 2016, a Heavy Toll in Pop Musi...</td>\n      <td>New York Times</td>\n      <td>William McDonald</td>\n      <td>2017-04-10</td>\n      <td>2017.0</td>\n      <td>4.0</td>\n      <td>NaN</td>\n      <td>Death may be the great equalizer, but it isn’t...</td>\n    </tr>\n    <tr>\n      <th>4</th>\n      <td>4</td>\n      <td>17287</td>\n      <td>Kim Jong-un Says North Korea Is Preparing to T...</td>\n      <td>New York Times</td>\n      <td>Choe Sang-Hun</td>\n      <td>2017-01-02</td>\n      <td>2017.0</td>\n      <td>1.0</td>\n      <td>NaN</td>\n      <td>SEOUL, South Korea  —   North Korea’s leader, ...</td>\n    </tr>\n    <tr>\n      <th>...</th>\n      <td>...</td>\n      <td>...</td>\n      <td>...</td>\n      <td>...</td>\n      <td>...</td>\n      <td>...</td>\n      <td>...</td>\n      <td>...</td>\n      <td>...</td>\n      <td>...</td>\n    </tr>\n    <tr>\n      <th>49995</th>\n      <td>53287</td>\n      <td>73465</td>\n      <td>Rex Tillerson Says Climate Change Is Real, but …</td>\n      <td>Atlantic</td>\n      <td>Robinson Meyer</td>\n      <td>2017-01-11</td>\n      <td>2017.0</td>\n      <td>1.0</td>\n      <td>NaN</td>\n      <td>As chairman and CEO of ExxonMobil, Rex Tillers...</td>\n    </tr>\n    <tr>\n      <th>49996</th>\n      <td>53288</td>\n      <td>73466</td>\n      <td>The Biggest Intelligence Questions Raised by t...</td>\n      <td>Atlantic</td>\n      <td>Amy Zegart</td>\n      <td>2017-01-11</td>\n      <td>2017.0</td>\n      <td>1.0</td>\n      <td>NaN</td>\n      <td>I’ve spent nearly 20 years looking at intellig...</td>\n    </tr>\n    <tr>\n      <th>49997</th>\n      <td>53289</td>\n      <td>73467</td>\n      <td>Trump Announces Plan That Does Little to Resol...</td>\n      <td>Atlantic</td>\n      <td>Jeremy Venook</td>\n      <td>2017-01-11</td>\n      <td>2017.0</td>\n      <td>1.0</td>\n      <td>NaN</td>\n      <td>Donald Trump will not be taking necessary st...</td>\n    </tr>\n    <tr>\n      <th>49998</th>\n      <td>53290</td>\n      <td>73468</td>\n      <td>Dozens of For-Profit Colleges Could Soon Close</td>\n      <td>Atlantic</td>\n      <td>Emily DeRuy</td>\n      <td>2017-01-11</td>\n      <td>2017.0</td>\n      <td>1.0</td>\n      <td>NaN</td>\n      <td>Dozens of   colleges could be forced to close ...</td>\n    </tr>\n    <tr>\n      <th>49999</th>\n      <td>53291</td>\n      <td>73469</td>\n      <td>The Milky Way’s Stolen Stars</td>\n      <td>Atlantic</td>\n      <td>Marina Koren</td>\n      <td>2017-01-11</td>\n      <td>2017.0</td>\n      <td>1.0</td>\n      <td>NaN</td>\n      <td>The force of gravity can be described using a ...</td>\n    </tr>\n  </tbody>\n</table>\n<p>50000 rows × 10 columns</p>\n</div>"
     },
     "metadata": {},
     "execution_count": 7
    }
   ],
   "source": [
    "data = pd.read_csv('data/articles1.csv.zip', compression='zip')\n",
    "data"
   ]
  },
  {
   "cell_type": "code",
   "execution_count": 2,
   "metadata": {},
   "outputs": [],
   "source": [
    "data = pd.read_csv('data/newsArticlesWithLabelsAndText.csv')"
   ]
  },
  {
   "cell_type": "code",
   "execution_count": 3,
   "metadata": {},
   "outputs": [],
   "source": [
    "sub = data.loc[data.perceived == 0]"
   ]
  },
  {
   "cell_type": "code",
   "execution_count": 4,
   "metadata": {},
   "outputs": [
    {
     "output_type": "execute_result",
     "data": {
      "text/plain": [
       "array(['Neutral', 'SomewhatPositive', 'SomewhatNegative', 'Positive',\n",
       "       'Negative'], dtype=object)"
      ]
     },
     "metadata": {},
     "execution_count": 4
    }
   ],
   "source": [
    "sub['republican.vote'].unique()"
   ]
  },
  {
   "cell_type": "code",
   "execution_count": 5,
   "metadata": {},
   "outputs": [],
   "source": [
    "train = pd.DataFrame()\n",
    "train['left'] = sub['democrat.vote'].replace(['Neutral', 'SomewhatPositive', 'SomewhatNegative', 'Positive', 'Negative'], [0,1,-1,1,-1])\n",
    "train['right'] = sub['republican.vote'].replace(['Neutral', 'SomewhatPositive', 'SomewhatNegative', 'Positive', 'Negative'], [0,1,-1,1,-1])\n",
    "#train['bias'] = \n",
    "train['text'] = sub['text']\n",
    "df = train.dropna()"
   ]
  },
  {
   "cell_type": "code",
   "execution_count": 21,
   "metadata": {},
   "outputs": [
    {
     "output_type": "execute_result",
     "data": {
      "text/plain": [
       "'MOSCOW (AP) — Former National Security Agency systems analyst Edward Snowden says surveillance programs used by the United States to tap into phone and Internet connections around the world are making people less safe.\\n\\nIn short video clips posted by the WikiLeaks website on Friday, Snowden said the NSA mass surveillance he revealed before fleeing to Russia \"puts us at risk of coming into conflict with our own government.\"\\n\\nSnowden, who faces espionage charges in the U.S. over the leak, described the techniques as \"dragnet mass surveillance that puts entire populations under sort of an eye that sees everything even when it\\'s not needed.\"\\n\\n\"They hurt our economy. They hurt our country. They limit our ability to speak and think and live and be creative, to have relationships and to associate freely,\" Snowden said.\\n\\nThe videos are the first of Snowden speaking since July 12, when he was shown at a Moscow airport pleading with Russian authorities to grant him asylum, which they did on Aug. 1.\\n\\nThat decision has strained the relations between the U.S. and Russia. President Barack Obama called off a meeting with President Vladimir Putin at a summit hosted by Russia in September.\\n\\nSnowden said the U.S. government was \"unwilling to prosecute high officials who lied to Congress and the country on camera, but they\\'ll stop at nothing to persecute someone who told them the truth.\"\\n\\nIn a note accompanying the videos, WikiLeaks said Snowden spoke on Wednesday in Moscow as he accepted the Sam Adams Award, given annually by a group of retired U.S. national security officers and named for a CIA analyst during the Vietnam War who accused the U.S. military of deliberately underestimating the enemy\\'s strength for political purposes.\\n\\nFour former U.S. government officials who were at the ceremony told The Associated Press on Thursday that Snowden is adjusting to life in Russia and said they saw no evidence that he was under the control of local security services. They refused to say where they met with Snowden or where he is living.'"
      ]
     },
     "metadata": {},
     "execution_count": 21
    }
   ],
   "source": [
    "train['text'][54]"
   ]
  },
  {
   "cell_type": "code",
   "execution_count": 18,
   "metadata": {},
   "outputs": [],
   "source": [
    "from sklearn.feature_extraction.text import TfidfVectorizer\n",
    "\n",
    "def preclean_text(text):\n",
    "    text = re.sub(r'<.*?>', '', text)\n",
    "    text = re.sub('\\\\s', ' ', text)\n",
    "    text = re.sub(' +', ' ', text)\n",
    "    #text = text.split(' ')\n",
    "    return text\n",
    "\n",
    "def clean_text(text):\n",
    "    text = re.sub(r'<.*?>', '', text)\n",
    "    text = text.lower()\n",
    "    text = re.sub('\\\\s', ' ', text)\n",
    "    text = re.sub(\"[^a-zA-Z' ]\", \"\", text)\n",
    "    text = re.sub(' +', ' ', text)\n",
    "    #text = text.split(' ')\n",
    "    return text\n",
    "\n",
    "tfidf = TfidfVectorizer(\n",
    "    stop_words=\"english\",\n",
    "    preprocessor=clean_text,\n",
    "    ngram_range=(1, 2),\n",
    "    max_df=0.95,\n",
    "    min_df=2,\n",
    "    max_features=2000\n",
    ")"
   ]
  },
  {
   "cell_type": "code",
   "execution_count": 72,
   "metadata": {},
   "outputs": [
    {
     "output_type": "execute_result",
     "data": {
      "text/plain": [
       "'I’m sure Jeffrey Goldberg got it right. Whatever the reason the President leaked his unhappiness with Bibi to Goldberg just a few days before the Israeli election–whether in an effort to influence the vote against Bibi, serve payback to Bibi for a perceived preference for Romney, or because the President could simply no longer suppress his dissatisfaction–it must indeed be unnerving to be the most powerful man on earth and have the elected leader of a tiny Middle Eastern country defy you. Especially when that country, in your opinion, owes you so much!\\n\\nYou are their only reliable friend who watches helplessly as that little nation continues to isolate itself through its self-destructive policies. According to Goldberg, Obama has “become inured to what he sees as self-defeating policies of his Israeli counterpart…Obama said privately and repeatedly, “Israel doesn’t know what its own best interests are… Netanyahu is moving his country down a path toward near-total isolation.”\\n\\nIf only Israel would recognize the President’s genius. If only it would stop building in Jerusalem and E1 and allow the President to sprinkle his magic peace dust, then Hamas would beat its rockets into ploughshares and Hezbollah would turn its bombs into pruning hooks. But no. Ungrateful to the last, Bibi insists on disobeying the President and claiming all of Jerusalem as Israel’s undivided capitol.\\n\\nNo doubt the President is likewise mystified at the Israeli people as well. How could the polls show that they will this week re-elect the intransigent Prime Minister who is doing so much to harm their country? The most powerful man on earth is reduced to watching from the sidelines and complaining to journalists that he knows how to protect Israel far better than the Israelis themselves.\\n\\nSuch an ungrateful nation.\\n\\nAnd yet, perhaps the Israelis have finally figured out that they are a sovereign people whom, while immensely grateful to America for its friendship and support, are still best qualified to judge their security needs better than anyone else. Perhaps they have come to understand that another Democratic president named Bill Clinton, whom noone would argue has a sincere love of the Jewish people and a Jewish son-in-law, still pushed Israel into the Oslo agreements that left a thousand Israeli civilians blown to bits. Perhaps they have come to understand that if Chuck Hagel, President Obama’s nominee for Secretary of Defense, was correct that, as a legislator from Nebraska he was “not an Israeli senator. I’m a United States senator,” then the Prime Minister of Israel is the likewise the leader of the Jewish state who must put the security of the Israeli people even before a nod of approval from the President of the United States.\\n\\nOver the past four years Bibi has grown into one of Israel’s greatest ever leaders. The country is booming economically and in terms of security. Cranes dot the skyline of expanding Israeli cities, terror incidents are negligible compared to the Clinton era, and unlike the anemic American economy, Israel is humming along at about four percent annual growth. And if President Obama is right that, in spite of this prosperity, Israel is isolated in world opinion, then it is arguably no more so than it has been in the past, and, besides, what is better, a popular Israel riddled with dead Jews or an unpopular Israel filled with living ones?\\n\\nBut what President Obama does not understand about Netanyahu is that the inflexibility he accuses him of is born not of a narrow-minded obstinacy but rather of a confident Jewish pride and deep-seated conviction that has been Bibi’s lifelong hallmark.\\n\\nIn my desire in 1990 to launch a robust response to anti-Israel speeches at the Oxford Union, I booked Netanyahu to lecture at the University. Bibi, just 41 years old, had already electrified the world as Israel’s most capable defender at the UN. Bibi agreed to come with a single stipulation: “If I’m already making the trip, then work me like a horse.”\\n\\nWe obliged.\\n\\nWe picked him up in a special branch police car and as we drove through the grandeur of Oxford’s ancient center, he commented on the majesty of British academia and its incongruence with some of the petty anti-Israel sentiment that is often expressed within its halls. Arriving at St. Antony’s College for a private forum with Oxford Middle East experts, Bibi put one foot on a chair and for the next 90 minutes held forth on the justice of Israel’s cause, surrounded as it was by nation’s sworn to its destruction. As he finished, the attacks came in fast and furious in what had to be one of the most hostile audiences he ever addressed. He did not blink, he did not flinch, he did not bend. When the last question ended, he turned to me to ask what next. After two more speeches, we took him to my home where we had arranged a dinner with Rhodes Scholars, many of them Jewish, most critical of Israeli policy. This time Bibi was softer in presentation but just as firm in conviction. Israel was a righteous nation, focused on maintaining democracy and human rights while facing existential threats on nearly every border. He spoke to the students of their responsibility to be proud defenders of their people and never bend in the face of opposition. The climax of the day was a lecture at the Union itself. Palestinian and Jewish protesters rallied outside in their hundreds with the rallying cry: “Net-an-ya-hu you should know, we support the P-L-O.” Bibi left his security bubble and walked over to the protesters. “Come inside and listen. Then you can protest. I’ll answer every question you ask.”\\n\\nMany left their barricades and joined the large crowd inside. What followed was one of the great speeches I have heard, a mesmerizing presentation of the need for democracy across the Middle East and the liberalization of Arab governments that deny their citizens their God-given human rights. At its high point Bibi said, “Many of us in Israel have buried children and lost brothers, in fulfillment of a simple dream for Jews to finally live and prosper in a country of their own in peace.” He did not have to mention whom he was referring to as even his detractors knew of Entebbe and the hero-brother he had lost.\\n\\nAgain he was bombarded with hostile questions. He responded patiently but forcefully. When he finished he was given a standing ovation by most of the students in the hall. It was a night few of us would forget.\\n\\nNo Israeli Prime Minister has ever been as American as Bibi. And yet no Prime Minister has so successfully resisted the pressure from the leader of a country he loves so much for a country he loves even more. And the Israeli people, in supporting Bibi regardless of the absence of a stamp of approval from President Obama, are finally realizing that Israel cannot ultimately be protected from Washington but Jerusalem, especially when the current American Administration is not in step with the strong sympathy of the American people for a tiny and just nation fighting for its life.\\n\\nShmuley Boteach, “America’s Rabbi” whom The Washington Post calls “the most famous Rabbi in America,” has just published his newest best-seller, “The Fed-up Man of Faith: Challenging God in the Face of Tragedy and Suffering.” Follow him on Twitter @RabbiShmuley.\\n\\nThis column is dedicated to the memory of Machla Debakarov, the mother of a close friend of Rabbi Shmuley’s.'"
      ]
     },
     "metadata": {},
     "execution_count": 72
    }
   ],
   "source": [
    "train['text'][28]"
   ]
  },
  {
   "cell_type": "code",
   "execution_count": 26,
   "metadata": {},
   "outputs": [
    {
     "output_type": "execute_result",
     "data": {
      "text/plain": [
       "(3575, 2)"
      ]
     },
     "metadata": {},
     "execution_count": 26
    }
   ],
   "source": [
    "from keras.utils import to_categorical\n",
    "\n",
    "# preclean only\n",
    "#X = df[\"text\"].apply(lambda x: preclean_text(x))\n",
    "\n",
    "tfidf_fit = tfidf.fit(df[\"text\"])\n",
    "X = tfidf_fit.transform(df[\"text\"]).toarray()\n",
    "\n",
    "#y = to_categorical(df[[\"right\",\"left\"]])\n",
    "y = to_categorical(df[\"opinion\"])\n",
    "#y = to_categorical(sub['republican.vote'])\n",
    "#y = df[\"Score\"]\n",
    "\n",
    "X_train, X_test, y_train, y_test = train_test_split(X, y, test_size=0.2, random_state=42)\n",
    "np.shape(X_train)\n",
    "np.shape(y)"
   ]
  },
  {
   "cell_type": "code",
   "execution_count": 17,
   "metadata": {},
   "outputs": [
    {
     "output_type": "execute_result",
     "data": {
      "text/plain": [
       "['models/tfidf_fit.pkl']"
      ]
     },
     "metadata": {},
     "execution_count": 17
    }
   ],
   "source": [
    "import joblib\n",
    "# Save to file in the current working directory\n",
    "joblib.dump(tfidf_fit, 'models/tfidf_fit.pkl')"
   ]
  },
  {
   "cell_type": "code",
   "execution_count": 18,
   "id": "brave-hamilton",
   "metadata": {},
   "outputs": [
    {
     "output_type": "stream",
     "name": "stdout",
     "text": [
      "Model: \"sequential\"\n_________________________________________________________________\nLayer (type)                 Output Shape              Param #   \n=================================================================\ndense (Dense)                (None, 2000)              4002000   \n_________________________________________________________________\nbatch_normalization (BatchNo (None, 2000)              8000      \n_________________________________________________________________\nactivation (Activation)      (None, 2000)              0         \n_________________________________________________________________\ndropout (Dropout)            (None, 2000)              0         \n_________________________________________________________________\ndense_1 (Dense)              (None, 500)               1000500   \n_________________________________________________________________\nbatch_normalization_1 (Batch (None, 500)               2000      \n_________________________________________________________________\nactivation_1 (Activation)    (None, 500)               0         \n_________________________________________________________________\ndropout_1 (Dropout)          (None, 500)               0         \n_________________________________________________________________\ndense_2 (Dense)              (None, 100)               50100     \n_________________________________________________________________\nbatch_normalization_2 (Batch (None, 100)               400       \n_________________________________________________________________\nactivation_2 (Activation)    (None, 100)               0         \n_________________________________________________________________\ndropout_2 (Dropout)          (None, 100)               0         \n_________________________________________________________________\ndense_3 (Dense)              (None, 2)                 202       \n_________________________________________________________________\nbatch_normalization_3 (Batch (None, 2)                 8         \n_________________________________________________________________\nactivation_3 (Activation)    (None, 2)                 0         \n=================================================================\nTotal params: 5,063,210\nTrainable params: 5,058,006\nNon-trainable params: 5,204\n_________________________________________________________________\n"
     ]
    }
   ],
   "source": [
    "# FFNN Model\n",
    "num_classes = 2\n",
    "\n",
    "model = keras.Sequential()\n",
    "# Input layer\n",
    "model.add(Dense(2000, input_dim=2000))\n",
    "model.add(BatchNormalization())\n",
    "model.add(Activation('relu'))\n",
    "model.add(Dropout(0.5))\n",
    "# hidden layer\n",
    "model.add(Dense(500))\n",
    "model.add(BatchNormalization())\n",
    "model.add(Activation('relu'))\n",
    "model.add(Dropout(0.5))\n",
    "# hidden layer\n",
    "model.add(Dense(100))\n",
    "model.add(BatchNormalization())\n",
    "model.add(Activation('relu'))\n",
    "model.add(Dropout(0.5))\n",
    "# Output Layer\n",
    "model.add(Dense(num_classes))\n",
    "model.add(BatchNormalization())\n",
    "model.add(Activation('softmax'))\n",
    "\n",
    "#model.compile(loss='binary_crossentropy', optimizer='adam', metrics=['accuracy'])\n",
    "model.compile(loss='categorical_crossentropy', optimizer='adam', metrics=['accuracy'])\n",
    "model.summary()"
   ]
  },
  {
   "cell_type": "code",
   "execution_count": 19,
   "metadata": {},
   "outputs": [
    {
     "output_type": "stream",
     "name": "stdout",
     "text": [
      "Epoch 1/20\n",
      "21/21 [==============================] - 8s 208ms/step - loss: 0.8235 - accuracy: 0.5356 - val_loss: 0.7092 - val_accuracy: 0.3189\n",
      "Epoch 2/20\n",
      "21/21 [==============================] - 4s 168ms/step - loss: 0.5868 - accuracy: 0.7030 - val_loss: 0.7765 - val_accuracy: 0.2928\n",
      "Epoch 3/20\n",
      "21/21 [==============================] - 3s 165ms/step - loss: 0.4884 - accuracy: 0.7843 - val_loss: 0.8282 - val_accuracy: 0.2928\n",
      "Epoch 4/20\n",
      "21/21 [==============================] - 4s 171ms/step - loss: 0.3984 - accuracy: 0.8635 - val_loss: 0.8821 - val_accuracy: 0.2928\n",
      "Epoch 5/20\n",
      "21/21 [==============================] - 3s 167ms/step - loss: 0.3152 - accuracy: 0.9125 - val_loss: 0.9012 - val_accuracy: 0.2928\n",
      "Epoch 6/20\n",
      "21/21 [==============================] - 3s 166ms/step - loss: 0.2658 - accuracy: 0.9481 - val_loss: 0.8937 - val_accuracy: 0.2928\n",
      "Epoch 7/20\n",
      "21/21 [==============================] - 3s 165ms/step - loss: 0.2527 - accuracy: 0.9550 - val_loss: 0.8597 - val_accuracy: 0.2950\n",
      "Epoch 8/20\n",
      "21/21 [==============================] - 4s 174ms/step - loss: 0.2347 - accuracy: 0.9562 - val_loss: 0.8380 - val_accuracy: 0.2972\n",
      "Epoch 9/20\n",
      "21/21 [==============================] - 4s 186ms/step - loss: 0.2138 - accuracy: 0.9666 - val_loss: 0.7971 - val_accuracy: 0.3362\n",
      "Epoch 10/20\n",
      "21/21 [==============================] - 4s 182ms/step - loss: 0.2125 - accuracy: 0.9581 - val_loss: 0.7646 - val_accuracy: 0.4013\n",
      "Epoch 11/20\n",
      "21/21 [==============================] - 4s 169ms/step - loss: 0.1930 - accuracy: 0.9681 - val_loss: 0.7352 - val_accuracy: 0.4707\n",
      "Epoch 12/20\n",
      "21/21 [==============================] - 4s 172ms/step - loss: 0.1855 - accuracy: 0.9652 - val_loss: 0.7040 - val_accuracy: 0.5640\n",
      "Epoch 13/20\n",
      "21/21 [==============================] - 4s 188ms/step - loss: 0.1741 - accuracy: 0.9666 - val_loss: 0.6656 - val_accuracy: 0.6182\n",
      "Epoch 14/20\n",
      "21/21 [==============================] - 4s 173ms/step - loss: 0.1700 - accuracy: 0.9692 - val_loss: 0.6553 - val_accuracy: 0.6334\n",
      "Epoch 15/20\n",
      "21/21 [==============================] - 4s 172ms/step - loss: 0.1723 - accuracy: 0.9664 - val_loss: 0.6353 - val_accuracy: 0.6573\n",
      "Epoch 16/20\n",
      "21/21 [==============================] - 4s 183ms/step - loss: 0.1606 - accuracy: 0.9696 - val_loss: 0.6335 - val_accuracy: 0.6508\n",
      "Epoch 17/20\n",
      "21/21 [==============================] - 4s 200ms/step - loss: 0.1564 - accuracy: 0.9691 - val_loss: 0.6094 - val_accuracy: 0.6963\n",
      "Epoch 18/20\n",
      "21/21 [==============================] - 4s 184ms/step - loss: 0.1521 - accuracy: 0.9665 - val_loss: 0.6042 - val_accuracy: 0.6941\n",
      "Epoch 19/20\n",
      "21/21 [==============================] - 4s 180ms/step - loss: 0.1444 - accuracy: 0.9730 - val_loss: 0.6035 - val_accuracy: 0.6941\n",
      "Epoch 20/20\n",
      "21/21 [==============================] - 4s 184ms/step - loss: 0.1491 - accuracy: 0.9702 - val_loss: 0.5978 - val_accuracy: 0.7072\n",
      "Loss: 57.89\n",
      "Accuracy: 68.10\n"
     ]
    }
   ],
   "source": [
    "# Fit and evaluate\n",
    "batch_size = 128\n",
    "epochs = 20\n",
    "\n",
    "history = model.fit(X_train, y_train, batch_size=batch_size, \n",
    "                    epochs=epochs, validation_split=0.15, verbose=1)\n",
    "\n",
    "scores = model.evaluate(X_test, y_test, verbose=0)\n",
    "\n",
    "print(f'Loss: {(scores[0]*100):.2f}')\n",
    "print(f'Accuracy: {(scores[1]*100):.2f}')"
   ]
  },
  {
   "cell_type": "code",
   "execution_count": 62,
   "metadata": {},
   "outputs": [],
   "source": [
    "#model.predict(X_test)[:30]"
   ]
  },
  {
   "cell_type": "code",
   "execution_count": 20,
   "metadata": {},
   "outputs": [],
   "source": [
    "model.save('models/right_bias_model-FFNN_2000_500_100-epochs_20.h5')"
   ]
  },
  {
   "cell_type": "code",
   "execution_count": 72,
   "metadata": {},
   "outputs": [
    {
     "output_type": "display_data",
     "data": {
      "text/plain": "<Figure size 576x360 with 1 Axes>",
      "image/svg+xml": "<?xml version=\"1.0\" encoding=\"utf-8\" standalone=\"no\"?>\r\n<!DOCTYPE svg PUBLIC \"-//W3C//DTD SVG 1.1//EN\"\r\n  \"http://www.w3.org/Graphics/SVG/1.1/DTD/svg11.dtd\">\r\n<!-- Created with matplotlib (https://matplotlib.org/) -->\r\n<svg height=\"305.650643pt\" version=\"1.1\" viewBox=\"0 0 483.703125 305.650643\" width=\"483.703125pt\" xmlns=\"http://www.w3.org/2000/svg\" xmlns:xlink=\"http://www.w3.org/1999/xlink\">\r\n <defs>\r\n  <style type=\"text/css\">\r\n*{stroke-linecap:butt;stroke-linejoin:round;}\r\n  </style>\r\n </defs>\r\n <g id=\"figure_1\">\r\n  <g id=\"patch_1\">\r\n   <path d=\"M 0 305.650643 \r\nL 483.703125 305.650643 \r\nL 483.703125 0 \r\nL 0 0 \r\nz\r\n\" style=\"fill:none;\"/>\r\n  </g>\r\n  <g id=\"axes_1\">\r\n   <g id=\"patch_2\">\r\n    <path d=\"M 30.103125 281.772518 \r\nL 476.503125 281.772518 \r\nL 476.503125 9.972518 \r\nL 30.103125 9.972518 \r\nz\r\n\" style=\"fill:#ffffff;\"/>\r\n   </g>\r\n   <g id=\"matplotlib.axis_1\">\r\n    <g id=\"xtick_1\">\r\n     <g id=\"line2d_1\">\r\n      <defs>\r\n       <path d=\"M 0 0 \r\nL 0 3.5 \r\n\" id=\"m1cd1bfc1db\" style=\"stroke:#000000;stroke-width:0.8;\"/>\r\n      </defs>\r\n      <g>\r\n       <use style=\"stroke:#000000;stroke-width:0.8;\" x=\"50.394034\" xlink:href=\"#m1cd1bfc1db\" y=\"281.772518\"/>\r\n      </g>\r\n     </g>\r\n     <g id=\"text_1\">\r\n      <!-- 0.0 -->\r\n      <defs>\r\n       <path d=\"M 31.78125 66.40625 \r\nQ 24.171875 66.40625 20.328125 58.90625 \r\nQ 16.5 51.421875 16.5 36.375 \r\nQ 16.5 21.390625 20.328125 13.890625 \r\nQ 24.171875 6.390625 31.78125 6.390625 \r\nQ 39.453125 6.390625 43.28125 13.890625 \r\nQ 47.125 21.390625 47.125 36.375 \r\nQ 47.125 51.421875 43.28125 58.90625 \r\nQ 39.453125 66.40625 31.78125 66.40625 \r\nz\r\nM 31.78125 74.21875 \r\nQ 44.046875 74.21875 50.515625 64.515625 \r\nQ 56.984375 54.828125 56.984375 36.375 \r\nQ 56.984375 17.96875 50.515625 8.265625 \r\nQ 44.046875 -1.421875 31.78125 -1.421875 \r\nQ 19.53125 -1.421875 13.0625 8.265625 \r\nQ 6.59375 17.96875 6.59375 36.375 \r\nQ 6.59375 54.828125 13.0625 64.515625 \r\nQ 19.53125 74.21875 31.78125 74.21875 \r\nz\r\n\" id=\"DejaVuSans-48\"/>\r\n       <path d=\"M 10.6875 12.40625 \r\nL 21 12.40625 \r\nL 21 0 \r\nL 10.6875 0 \r\nz\r\n\" id=\"DejaVuSans-46\"/>\r\n      </defs>\r\n      <g transform=\"translate(42.442472 296.370956)scale(0.1 -0.1)\">\r\n       <use xlink:href=\"#DejaVuSans-48\"/>\r\n       <use x=\"63.623047\" xlink:href=\"#DejaVuSans-46\"/>\r\n       <use x=\"95.410156\" xlink:href=\"#DejaVuSans-48\"/>\r\n      </g>\r\n     </g>\r\n    </g>\r\n    <g id=\"xtick_2\">\r\n     <g id=\"line2d_2\">\r\n      <g>\r\n       <use style=\"stroke:#000000;stroke-width:0.8;\" x=\"103.791163\" xlink:href=\"#m1cd1bfc1db\" y=\"281.772518\"/>\r\n      </g>\r\n     </g>\r\n     <g id=\"text_2\">\r\n      <!-- 2.5 -->\r\n      <defs>\r\n       <path d=\"M 19.1875 8.296875 \r\nL 53.609375 8.296875 \r\nL 53.609375 0 \r\nL 7.328125 0 \r\nL 7.328125 8.296875 \r\nQ 12.9375 14.109375 22.625 23.890625 \r\nQ 32.328125 33.6875 34.8125 36.53125 \r\nQ 39.546875 41.84375 41.421875 45.53125 \r\nQ 43.3125 49.21875 43.3125 52.78125 \r\nQ 43.3125 58.59375 39.234375 62.25 \r\nQ 35.15625 65.921875 28.609375 65.921875 \r\nQ 23.96875 65.921875 18.8125 64.3125 \r\nQ 13.671875 62.703125 7.8125 59.421875 \r\nL 7.8125 69.390625 \r\nQ 13.765625 71.78125 18.9375 73 \r\nQ 24.125 74.21875 28.421875 74.21875 \r\nQ 39.75 74.21875 46.484375 68.546875 \r\nQ 53.21875 62.890625 53.21875 53.421875 \r\nQ 53.21875 48.921875 51.53125 44.890625 \r\nQ 49.859375 40.875 45.40625 35.40625 \r\nQ 44.1875 33.984375 37.640625 27.21875 \r\nQ 31.109375 20.453125 19.1875 8.296875 \r\nz\r\n\" id=\"DejaVuSans-50\"/>\r\n       <path d=\"M 10.796875 72.90625 \r\nL 49.515625 72.90625 \r\nL 49.515625 64.59375 \r\nL 19.828125 64.59375 \r\nL 19.828125 46.734375 \r\nQ 21.96875 47.46875 24.109375 47.828125 \r\nQ 26.265625 48.1875 28.421875 48.1875 \r\nQ 40.625 48.1875 47.75 41.5 \r\nQ 54.890625 34.8125 54.890625 23.390625 \r\nQ 54.890625 11.625 47.5625 5.09375 \r\nQ 40.234375 -1.421875 26.90625 -1.421875 \r\nQ 22.3125 -1.421875 17.546875 -0.640625 \r\nQ 12.796875 0.140625 7.71875 1.703125 \r\nL 7.71875 11.625 \r\nQ 12.109375 9.234375 16.796875 8.0625 \r\nQ 21.484375 6.890625 26.703125 6.890625 \r\nQ 35.15625 6.890625 40.078125 11.328125 \r\nQ 45.015625 15.765625 45.015625 23.390625 \r\nQ 45.015625 31 40.078125 35.4375 \r\nQ 35.15625 39.890625 26.703125 39.890625 \r\nQ 22.75 39.890625 18.8125 39.015625 \r\nQ 14.890625 38.140625 10.796875 36.28125 \r\nz\r\n\" id=\"DejaVuSans-53\"/>\r\n      </defs>\r\n      <g transform=\"translate(95.839601 296.370956)scale(0.1 -0.1)\">\r\n       <use xlink:href=\"#DejaVuSans-50\"/>\r\n       <use x=\"63.623047\" xlink:href=\"#DejaVuSans-46\"/>\r\n       <use x=\"95.410156\" xlink:href=\"#DejaVuSans-53\"/>\r\n      </g>\r\n     </g>\r\n    </g>\r\n    <g id=\"xtick_3\">\r\n     <g id=\"line2d_3\">\r\n      <g>\r\n       <use style=\"stroke:#000000;stroke-width:0.8;\" x=\"157.188292\" xlink:href=\"#m1cd1bfc1db\" y=\"281.772518\"/>\r\n      </g>\r\n     </g>\r\n     <g id=\"text_3\">\r\n      <!-- 5.0 -->\r\n      <g transform=\"translate(149.23673 296.370956)scale(0.1 -0.1)\">\r\n       <use xlink:href=\"#DejaVuSans-53\"/>\r\n       <use x=\"63.623047\" xlink:href=\"#DejaVuSans-46\"/>\r\n       <use x=\"95.410156\" xlink:href=\"#DejaVuSans-48\"/>\r\n      </g>\r\n     </g>\r\n    </g>\r\n    <g id=\"xtick_4\">\r\n     <g id=\"line2d_4\">\r\n      <g>\r\n       <use style=\"stroke:#000000;stroke-width:0.8;\" x=\"210.585422\" xlink:href=\"#m1cd1bfc1db\" y=\"281.772518\"/>\r\n      </g>\r\n     </g>\r\n     <g id=\"text_4\">\r\n      <!-- 7.5 -->\r\n      <defs>\r\n       <path d=\"M 8.203125 72.90625 \r\nL 55.078125 72.90625 \r\nL 55.078125 68.703125 \r\nL 28.609375 0 \r\nL 18.3125 0 \r\nL 43.21875 64.59375 \r\nL 8.203125 64.59375 \r\nz\r\n\" id=\"DejaVuSans-55\"/>\r\n      </defs>\r\n      <g transform=\"translate(202.633859 296.370956)scale(0.1 -0.1)\">\r\n       <use xlink:href=\"#DejaVuSans-55\"/>\r\n       <use x=\"63.623047\" xlink:href=\"#DejaVuSans-46\"/>\r\n       <use x=\"95.410156\" xlink:href=\"#DejaVuSans-53\"/>\r\n      </g>\r\n     </g>\r\n    </g>\r\n    <g id=\"xtick_5\">\r\n     <g id=\"line2d_5\">\r\n      <g>\r\n       <use style=\"stroke:#000000;stroke-width:0.8;\" x=\"263.982551\" xlink:href=\"#m1cd1bfc1db\" y=\"281.772518\"/>\r\n      </g>\r\n     </g>\r\n     <g id=\"text_5\">\r\n      <!-- 10.0 -->\r\n      <defs>\r\n       <path d=\"M 12.40625 8.296875 \r\nL 28.515625 8.296875 \r\nL 28.515625 63.921875 \r\nL 10.984375 60.40625 \r\nL 10.984375 69.390625 \r\nL 28.421875 72.90625 \r\nL 38.28125 72.90625 \r\nL 38.28125 8.296875 \r\nL 54.390625 8.296875 \r\nL 54.390625 0 \r\nL 12.40625 0 \r\nz\r\n\" id=\"DejaVuSans-49\"/>\r\n      </defs>\r\n      <g transform=\"translate(252.849738 296.370956)scale(0.1 -0.1)\">\r\n       <use xlink:href=\"#DejaVuSans-49\"/>\r\n       <use x=\"63.623047\" xlink:href=\"#DejaVuSans-48\"/>\r\n       <use x=\"127.246094\" xlink:href=\"#DejaVuSans-46\"/>\r\n       <use x=\"159.033203\" xlink:href=\"#DejaVuSans-48\"/>\r\n      </g>\r\n     </g>\r\n    </g>\r\n    <g id=\"xtick_6\">\r\n     <g id=\"line2d_6\">\r\n      <g>\r\n       <use style=\"stroke:#000000;stroke-width:0.8;\" x=\"317.37968\" xlink:href=\"#m1cd1bfc1db\" y=\"281.772518\"/>\r\n      </g>\r\n     </g>\r\n     <g id=\"text_6\">\r\n      <!-- 12.5 -->\r\n      <g transform=\"translate(306.246868 296.370956)scale(0.1 -0.1)\">\r\n       <use xlink:href=\"#DejaVuSans-49\"/>\r\n       <use x=\"63.623047\" xlink:href=\"#DejaVuSans-50\"/>\r\n       <use x=\"127.246094\" xlink:href=\"#DejaVuSans-46\"/>\r\n       <use x=\"159.033203\" xlink:href=\"#DejaVuSans-53\"/>\r\n      </g>\r\n     </g>\r\n    </g>\r\n    <g id=\"xtick_7\">\r\n     <g id=\"line2d_7\">\r\n      <g>\r\n       <use style=\"stroke:#000000;stroke-width:0.8;\" x=\"370.776809\" xlink:href=\"#m1cd1bfc1db\" y=\"281.772518\"/>\r\n      </g>\r\n     </g>\r\n     <g id=\"text_7\">\r\n      <!-- 15.0 -->\r\n      <g transform=\"translate(359.643997 296.370956)scale(0.1 -0.1)\">\r\n       <use xlink:href=\"#DejaVuSans-49\"/>\r\n       <use x=\"63.623047\" xlink:href=\"#DejaVuSans-53\"/>\r\n       <use x=\"127.246094\" xlink:href=\"#DejaVuSans-46\"/>\r\n       <use x=\"159.033203\" xlink:href=\"#DejaVuSans-48\"/>\r\n      </g>\r\n     </g>\r\n    </g>\r\n    <g id=\"xtick_8\">\r\n     <g id=\"line2d_8\">\r\n      <g>\r\n       <use style=\"stroke:#000000;stroke-width:0.8;\" x=\"424.173938\" xlink:href=\"#m1cd1bfc1db\" y=\"281.772518\"/>\r\n      </g>\r\n     </g>\r\n     <g id=\"text_8\">\r\n      <!-- 17.5 -->\r\n      <g transform=\"translate(413.041126 296.370956)scale(0.1 -0.1)\">\r\n       <use xlink:href=\"#DejaVuSans-49\"/>\r\n       <use x=\"63.623047\" xlink:href=\"#DejaVuSans-55\"/>\r\n       <use x=\"127.246094\" xlink:href=\"#DejaVuSans-46\"/>\r\n       <use x=\"159.033203\" xlink:href=\"#DejaVuSans-53\"/>\r\n      </g>\r\n     </g>\r\n    </g>\r\n   </g>\r\n   <g id=\"matplotlib.axis_2\">\r\n    <g id=\"ytick_1\">\r\n     <g id=\"line2d_9\">\r\n      <defs>\r\n       <path d=\"M 0 0 \r\nL -3.5 0 \r\n\" id=\"m7a5b3e48c6\" style=\"stroke:#000000;stroke-width:0.8;\"/>\r\n      </defs>\r\n      <g>\r\n       <use style=\"stroke:#000000;stroke-width:0.8;\" x=\"30.103125\" xlink:href=\"#m7a5b3e48c6\" y=\"260.068745\"/>\r\n      </g>\r\n     </g>\r\n     <g id=\"text_9\">\r\n      <!-- 0.2 -->\r\n      <g transform=\"translate(7.2 263.867964)scale(0.1 -0.1)\">\r\n       <use xlink:href=\"#DejaVuSans-48\"/>\r\n       <use x=\"63.623047\" xlink:href=\"#DejaVuSans-46\"/>\r\n       <use x=\"95.410156\" xlink:href=\"#DejaVuSans-50\"/>\r\n      </g>\r\n     </g>\r\n    </g>\r\n    <g id=\"ytick_2\">\r\n     <g id=\"line2d_10\">\r\n      <g>\r\n       <use style=\"stroke:#000000;stroke-width:0.8;\" x=\"30.103125\" xlink:href=\"#m7a5b3e48c6\" y=\"228.935054\"/>\r\n      </g>\r\n     </g>\r\n     <g id=\"text_10\">\r\n      <!-- 0.3 -->\r\n      <defs>\r\n       <path d=\"M 40.578125 39.3125 \r\nQ 47.65625 37.796875 51.625 33 \r\nQ 55.609375 28.21875 55.609375 21.1875 \r\nQ 55.609375 10.40625 48.1875 4.484375 \r\nQ 40.765625 -1.421875 27.09375 -1.421875 \r\nQ 22.515625 -1.421875 17.65625 -0.515625 \r\nQ 12.796875 0.390625 7.625 2.203125 \r\nL 7.625 11.71875 \r\nQ 11.71875 9.328125 16.59375 8.109375 \r\nQ 21.484375 6.890625 26.8125 6.890625 \r\nQ 36.078125 6.890625 40.9375 10.546875 \r\nQ 45.796875 14.203125 45.796875 21.1875 \r\nQ 45.796875 27.640625 41.28125 31.265625 \r\nQ 36.765625 34.90625 28.71875 34.90625 \r\nL 20.21875 34.90625 \r\nL 20.21875 43.015625 \r\nL 29.109375 43.015625 \r\nQ 36.375 43.015625 40.234375 45.921875 \r\nQ 44.09375 48.828125 44.09375 54.296875 \r\nQ 44.09375 59.90625 40.109375 62.90625 \r\nQ 36.140625 65.921875 28.71875 65.921875 \r\nQ 24.65625 65.921875 20.015625 65.03125 \r\nQ 15.375 64.15625 9.8125 62.3125 \r\nL 9.8125 71.09375 \r\nQ 15.4375 72.65625 20.34375 73.4375 \r\nQ 25.25 74.21875 29.59375 74.21875 \r\nQ 40.828125 74.21875 47.359375 69.109375 \r\nQ 53.90625 64.015625 53.90625 55.328125 \r\nQ 53.90625 49.265625 50.4375 45.09375 \r\nQ 46.96875 40.921875 40.578125 39.3125 \r\nz\r\n\" id=\"DejaVuSans-51\"/>\r\n      </defs>\r\n      <g transform=\"translate(7.2 232.734273)scale(0.1 -0.1)\">\r\n       <use xlink:href=\"#DejaVuSans-48\"/>\r\n       <use x=\"63.623047\" xlink:href=\"#DejaVuSans-46\"/>\r\n       <use x=\"95.410156\" xlink:href=\"#DejaVuSans-51\"/>\r\n      </g>\r\n     </g>\r\n    </g>\r\n    <g id=\"ytick_3\">\r\n     <g id=\"line2d_11\">\r\n      <g>\r\n       <use style=\"stroke:#000000;stroke-width:0.8;\" x=\"30.103125\" xlink:href=\"#m7a5b3e48c6\" y=\"197.801364\"/>\r\n      </g>\r\n     </g>\r\n     <g id=\"text_11\">\r\n      <!-- 0.4 -->\r\n      <defs>\r\n       <path d=\"M 37.796875 64.3125 \r\nL 12.890625 25.390625 \r\nL 37.796875 25.390625 \r\nz\r\nM 35.203125 72.90625 \r\nL 47.609375 72.90625 \r\nL 47.609375 25.390625 \r\nL 58.015625 25.390625 \r\nL 58.015625 17.1875 \r\nL 47.609375 17.1875 \r\nL 47.609375 0 \r\nL 37.796875 0 \r\nL 37.796875 17.1875 \r\nL 4.890625 17.1875 \r\nL 4.890625 26.703125 \r\nz\r\n\" id=\"DejaVuSans-52\"/>\r\n      </defs>\r\n      <g transform=\"translate(7.2 201.600582)scale(0.1 -0.1)\">\r\n       <use xlink:href=\"#DejaVuSans-48\"/>\r\n       <use x=\"63.623047\" xlink:href=\"#DejaVuSans-46\"/>\r\n       <use x=\"95.410156\" xlink:href=\"#DejaVuSans-52\"/>\r\n      </g>\r\n     </g>\r\n    </g>\r\n    <g id=\"ytick_4\">\r\n     <g id=\"line2d_12\">\r\n      <g>\r\n       <use style=\"stroke:#000000;stroke-width:0.8;\" x=\"30.103125\" xlink:href=\"#m7a5b3e48c6\" y=\"166.667673\"/>\r\n      </g>\r\n     </g>\r\n     <g id=\"text_12\">\r\n      <!-- 0.5 -->\r\n      <g transform=\"translate(7.2 170.466892)scale(0.1 -0.1)\">\r\n       <use xlink:href=\"#DejaVuSans-48\"/>\r\n       <use x=\"63.623047\" xlink:href=\"#DejaVuSans-46\"/>\r\n       <use x=\"95.410156\" xlink:href=\"#DejaVuSans-53\"/>\r\n      </g>\r\n     </g>\r\n    </g>\r\n    <g id=\"ytick_5\">\r\n     <g id=\"line2d_13\">\r\n      <g>\r\n       <use style=\"stroke:#000000;stroke-width:0.8;\" x=\"30.103125\" xlink:href=\"#m7a5b3e48c6\" y=\"135.533982\"/>\r\n      </g>\r\n     </g>\r\n     <g id=\"text_13\">\r\n      <!-- 0.6 -->\r\n      <defs>\r\n       <path d=\"M 33.015625 40.375 \r\nQ 26.375 40.375 22.484375 35.828125 \r\nQ 18.609375 31.296875 18.609375 23.390625 \r\nQ 18.609375 15.53125 22.484375 10.953125 \r\nQ 26.375 6.390625 33.015625 6.390625 \r\nQ 39.65625 6.390625 43.53125 10.953125 \r\nQ 47.40625 15.53125 47.40625 23.390625 \r\nQ 47.40625 31.296875 43.53125 35.828125 \r\nQ 39.65625 40.375 33.015625 40.375 \r\nz\r\nM 52.59375 71.296875 \r\nL 52.59375 62.3125 \r\nQ 48.875 64.0625 45.09375 64.984375 \r\nQ 41.3125 65.921875 37.59375 65.921875 \r\nQ 27.828125 65.921875 22.671875 59.328125 \r\nQ 17.53125 52.734375 16.796875 39.40625 \r\nQ 19.671875 43.65625 24.015625 45.921875 \r\nQ 28.375 48.1875 33.59375 48.1875 \r\nQ 44.578125 48.1875 50.953125 41.515625 \r\nQ 57.328125 34.859375 57.328125 23.390625 \r\nQ 57.328125 12.15625 50.6875 5.359375 \r\nQ 44.046875 -1.421875 33.015625 -1.421875 \r\nQ 20.359375 -1.421875 13.671875 8.265625 \r\nQ 6.984375 17.96875 6.984375 36.375 \r\nQ 6.984375 53.65625 15.1875 63.9375 \r\nQ 23.390625 74.21875 37.203125 74.21875 \r\nQ 40.921875 74.21875 44.703125 73.484375 \r\nQ 48.484375 72.75 52.59375 71.296875 \r\nz\r\n\" id=\"DejaVuSans-54\"/>\r\n      </defs>\r\n      <g transform=\"translate(7.2 139.333201)scale(0.1 -0.1)\">\r\n       <use xlink:href=\"#DejaVuSans-48\"/>\r\n       <use x=\"63.623047\" xlink:href=\"#DejaVuSans-46\"/>\r\n       <use x=\"95.410156\" xlink:href=\"#DejaVuSans-54\"/>\r\n      </g>\r\n     </g>\r\n    </g>\r\n    <g id=\"ytick_6\">\r\n     <g id=\"line2d_14\">\r\n      <g>\r\n       <use style=\"stroke:#000000;stroke-width:0.8;\" x=\"30.103125\" xlink:href=\"#m7a5b3e48c6\" y=\"104.400291\"/>\r\n      </g>\r\n     </g>\r\n     <g id=\"text_14\">\r\n      <!-- 0.7 -->\r\n      <g transform=\"translate(7.2 108.19951)scale(0.1 -0.1)\">\r\n       <use xlink:href=\"#DejaVuSans-48\"/>\r\n       <use x=\"63.623047\" xlink:href=\"#DejaVuSans-46\"/>\r\n       <use x=\"95.410156\" xlink:href=\"#DejaVuSans-55\"/>\r\n      </g>\r\n     </g>\r\n    </g>\r\n    <g id=\"ytick_7\">\r\n     <g id=\"line2d_15\">\r\n      <g>\r\n       <use style=\"stroke:#000000;stroke-width:0.8;\" x=\"30.103125\" xlink:href=\"#m7a5b3e48c6\" y=\"73.2666\"/>\r\n      </g>\r\n     </g>\r\n     <g id=\"text_15\">\r\n      <!-- 0.8 -->\r\n      <defs>\r\n       <path d=\"M 31.78125 34.625 \r\nQ 24.75 34.625 20.71875 30.859375 \r\nQ 16.703125 27.09375 16.703125 20.515625 \r\nQ 16.703125 13.921875 20.71875 10.15625 \r\nQ 24.75 6.390625 31.78125 6.390625 \r\nQ 38.8125 6.390625 42.859375 10.171875 \r\nQ 46.921875 13.96875 46.921875 20.515625 \r\nQ 46.921875 27.09375 42.890625 30.859375 \r\nQ 38.875 34.625 31.78125 34.625 \r\nz\r\nM 21.921875 38.8125 \r\nQ 15.578125 40.375 12.03125 44.71875 \r\nQ 8.5 49.078125 8.5 55.328125 \r\nQ 8.5 64.0625 14.71875 69.140625 \r\nQ 20.953125 74.21875 31.78125 74.21875 \r\nQ 42.671875 74.21875 48.875 69.140625 \r\nQ 55.078125 64.0625 55.078125 55.328125 \r\nQ 55.078125 49.078125 51.53125 44.71875 \r\nQ 48 40.375 41.703125 38.8125 \r\nQ 48.828125 37.15625 52.796875 32.3125 \r\nQ 56.78125 27.484375 56.78125 20.515625 \r\nQ 56.78125 9.90625 50.3125 4.234375 \r\nQ 43.84375 -1.421875 31.78125 -1.421875 \r\nQ 19.734375 -1.421875 13.25 4.234375 \r\nQ 6.78125 9.90625 6.78125 20.515625 \r\nQ 6.78125 27.484375 10.78125 32.3125 \r\nQ 14.796875 37.15625 21.921875 38.8125 \r\nz\r\nM 18.3125 54.390625 \r\nQ 18.3125 48.734375 21.84375 45.5625 \r\nQ 25.390625 42.390625 31.78125 42.390625 \r\nQ 38.140625 42.390625 41.71875 45.5625 \r\nQ 45.3125 48.734375 45.3125 54.390625 \r\nQ 45.3125 60.0625 41.71875 63.234375 \r\nQ 38.140625 66.40625 31.78125 66.40625 \r\nQ 25.390625 66.40625 21.84375 63.234375 \r\nQ 18.3125 60.0625 18.3125 54.390625 \r\nz\r\n\" id=\"DejaVuSans-56\"/>\r\n      </defs>\r\n      <g transform=\"translate(7.2 77.065819)scale(0.1 -0.1)\">\r\n       <use xlink:href=\"#DejaVuSans-48\"/>\r\n       <use x=\"63.623047\" xlink:href=\"#DejaVuSans-46\"/>\r\n       <use x=\"95.410156\" xlink:href=\"#DejaVuSans-56\"/>\r\n      </g>\r\n     </g>\r\n    </g>\r\n    <g id=\"ytick_8\">\r\n     <g id=\"line2d_16\">\r\n      <g>\r\n       <use style=\"stroke:#000000;stroke-width:0.8;\" x=\"30.103125\" xlink:href=\"#m7a5b3e48c6\" y=\"42.13291\"/>\r\n      </g>\r\n     </g>\r\n     <g id=\"text_16\">\r\n      <!-- 0.9 -->\r\n      <defs>\r\n       <path d=\"M 10.984375 1.515625 \r\nL 10.984375 10.5 \r\nQ 14.703125 8.734375 18.5 7.8125 \r\nQ 22.3125 6.890625 25.984375 6.890625 \r\nQ 35.75 6.890625 40.890625 13.453125 \r\nQ 46.046875 20.015625 46.78125 33.40625 \r\nQ 43.953125 29.203125 39.59375 26.953125 \r\nQ 35.25 24.703125 29.984375 24.703125 \r\nQ 19.046875 24.703125 12.671875 31.3125 \r\nQ 6.296875 37.9375 6.296875 49.421875 \r\nQ 6.296875 60.640625 12.9375 67.421875 \r\nQ 19.578125 74.21875 30.609375 74.21875 \r\nQ 43.265625 74.21875 49.921875 64.515625 \r\nQ 56.59375 54.828125 56.59375 36.375 \r\nQ 56.59375 19.140625 48.40625 8.859375 \r\nQ 40.234375 -1.421875 26.421875 -1.421875 \r\nQ 22.703125 -1.421875 18.890625 -0.6875 \r\nQ 15.09375 0.046875 10.984375 1.515625 \r\nz\r\nM 30.609375 32.421875 \r\nQ 37.25 32.421875 41.125 36.953125 \r\nQ 45.015625 41.5 45.015625 49.421875 \r\nQ 45.015625 57.28125 41.125 61.84375 \r\nQ 37.25 66.40625 30.609375 66.40625 \r\nQ 23.96875 66.40625 20.09375 61.84375 \r\nQ 16.21875 57.28125 16.21875 49.421875 \r\nQ 16.21875 41.5 20.09375 36.953125 \r\nQ 23.96875 32.421875 30.609375 32.421875 \r\nz\r\n\" id=\"DejaVuSans-57\"/>\r\n      </defs>\r\n      <g transform=\"translate(7.2 45.932128)scale(0.1 -0.1)\">\r\n       <use xlink:href=\"#DejaVuSans-48\"/>\r\n       <use x=\"63.623047\" xlink:href=\"#DejaVuSans-46\"/>\r\n       <use x=\"95.410156\" xlink:href=\"#DejaVuSans-57\"/>\r\n      </g>\r\n     </g>\r\n    </g>\r\n    <g id=\"ytick_9\">\r\n     <g id=\"line2d_17\">\r\n      <g>\r\n       <use style=\"stroke:#000000;stroke-width:0.8;\" x=\"30.103125\" xlink:href=\"#m7a5b3e48c6\" y=\"10.999219\"/>\r\n      </g>\r\n     </g>\r\n     <g id=\"text_17\">\r\n      <!-- 1.0 -->\r\n      <g transform=\"translate(7.2 14.798437)scale(0.1 -0.1)\">\r\n       <use xlink:href=\"#DejaVuSans-49\"/>\r\n       <use x=\"63.623047\" xlink:href=\"#DejaVuSans-46\"/>\r\n       <use x=\"95.410156\" xlink:href=\"#DejaVuSans-48\"/>\r\n      </g>\r\n     </g>\r\n    </g>\r\n   </g>\r\n   <g id=\"line2d_18\">\r\n    <path clip-path=\"url(#p5079a5ecdd)\" d=\"M 50.394034 67.090228 \r\nL 71.752886 120.367829 \r\nL 93.111737 137.755411 \r\nL 114.470589 152.535104 \r\nL 135.829441 168.372015 \r\nL 157.188292 185.97433 \r\nL 178.547144 200.669106 \r\nL 199.905996 213.340505 \r\nL 221.264847 226.196706 \r\nL 242.623699 233.202995 \r\nL 263.982551 242.396334 \r\nL 285.341403 246.581954 \r\nL 306.700254 253.273756 \r\nL 328.059106 254.548139 \r\nL 349.417958 260.285004 \r\nL 370.776809 262.170107 \r\nL 392.135661 262.558238 \r\nL 413.494513 265.225078 \r\nL 434.853364 266.776514 \r\nL 456.212216 269.417973 \r\n\" style=\"fill:none;stroke:#1f77b4;stroke-linecap:square;stroke-width:1.5;\"/>\r\n   </g>\r\n   <g id=\"line2d_19\">\r\n    <path clip-path=\"url(#p5079a5ecdd)\" d=\"M 50.394034 154.445523 \r\nL 71.752886 121.058192 \r\nL 93.111737 108.418692 \r\nL 114.470589 93.394398 \r\nL 135.829441 81.231872 \r\nL 157.188292 69.546301 \r\nL 178.547144 56.668324 \r\nL 199.905996 49.513902 \r\nL 221.264847 41.047826 \r\nL 242.623699 34.847315 \r\nL 263.982551 30.79314 \r\nL 285.341403 29.00453 \r\nL 306.700254 26.023513 \r\nL 328.059106 26.738965 \r\nL 349.417958 23.877196 \r\nL 370.776809 23.51947 \r\nL 392.135661 24.592629 \r\nL 413.494513 22.923267 \r\nL 434.853364 22.327064 \r\nL 456.212216 23.042515 \r\n\" style=\"fill:none;stroke:#ff7f0e;stroke-linecap:square;stroke-width:1.5;\"/>\r\n   </g>\r\n   <g id=\"line2d_20\">\r\n    <path clip-path=\"url(#p5079a5ecdd)\" d=\"M 50.394034 105.623655 \r\nL 71.752886 102.29497 \r\nL 93.111737 101.211234 \r\nL 114.470589 104.175364 \r\nL 135.829441 106.001107 \r\nL 157.188292 106.06962 \r\nL 178.547144 107.551536 \r\nL 199.905996 109.870286 \r\nL 221.264847 115.317916 \r\nL 242.623699 119.604612 \r\nL 263.982551 119.947937 \r\nL 285.341403 123.746006 \r\nL 306.700254 125.579171 \r\nL 328.059106 128.136213 \r\nL 349.417958 130.125853 \r\nL 370.776809 132.950507 \r\nL 392.135661 138.395502 \r\nL 413.494513 132.596363 \r\nL 434.853364 132.62997 \r\nL 456.212216 132.009698 \r\n\" style=\"fill:none;stroke:#2ca02c;stroke-linecap:square;stroke-width:1.5;\"/>\r\n   </g>\r\n   <g id=\"line2d_21\">\r\n    <path clip-path=\"url(#p5079a5ecdd)\" d=\"M 50.394034 189.967285 \r\nL 71.752886 213.604582 \r\nL 93.111737 218.332038 \r\nL 114.470589 200.097556 \r\nL 135.829441 171.057454 \r\nL 157.188292 163.628591 \r\nL 178.547144 146.069467 \r\nL 199.905996 135.939188 \r\nL 221.264847 119.055414 \r\nL 242.623699 112.3019 \r\nL 263.982551 119.730763 \r\nL 285.341403 110.275852 \r\nL 306.700254 112.3019 \r\nL 328.059106 110.275852 \r\nL 349.417958 110.275852 \r\nL 370.776809 106.223737 \r\nL 392.135661 102.17164 \r\nL 413.494513 105.548387 \r\nL 434.853364 103.522339 \r\nL 456.212216 103.522339 \r\n\" style=\"fill:none;stroke:#d62728;stroke-linecap:square;stroke-width:1.5;\"/>\r\n   </g>\r\n   <g id=\"patch_3\">\r\n    <path d=\"M 30.103125 281.772518 \r\nL 30.103125 9.972518 \r\n\" style=\"fill:none;stroke:#000000;stroke-linecap:square;stroke-linejoin:miter;stroke-width:0.8;\"/>\r\n   </g>\r\n   <g id=\"patch_4\">\r\n    <path d=\"M 476.503125 281.772518 \r\nL 476.503125 9.972518 \r\n\" style=\"fill:none;stroke:#000000;stroke-linecap:square;stroke-linejoin:miter;stroke-width:0.8;\"/>\r\n   </g>\r\n   <g id=\"patch_5\">\r\n    <path d=\"M 30.103125 281.772518 \r\nL 476.503125 281.772518 \r\n\" style=\"fill:none;stroke:#000000;stroke-linecap:square;stroke-linejoin:miter;stroke-width:0.8;\"/>\r\n   </g>\r\n   <g id=\"patch_6\">\r\n    <path d=\"M 30.103125 9.972518 \r\nL 476.503125 9.972518 \r\n\" style=\"fill:none;stroke:#000000;stroke-linecap:square;stroke-linejoin:miter;stroke-width:0.8;\"/>\r\n   </g>\r\n   <g id=\"legend_1\">\r\n    <g id=\"patch_7\">\r\n     <path d=\"M 37.103125 77.241268 \r\nL 134.046875 77.241268 \r\nQ 136.046875 77.241268 136.046875 75.241268 \r\nL 136.046875 16.972518 \r\nQ 136.046875 14.972518 134.046875 14.972518 \r\nL 37.103125 14.972518 \r\nQ 35.103125 14.972518 35.103125 16.972518 \r\nL 35.103125 75.241268 \r\nQ 35.103125 77.241268 37.103125 77.241268 \r\nz\r\n\" style=\"fill:#ffffff;opacity:0.8;stroke:#cccccc;stroke-linejoin:miter;\"/>\r\n    </g>\r\n    <g id=\"line2d_22\">\r\n     <path d=\"M 39.103125 23.070956 \r\nL 59.103125 23.070956 \r\n\" style=\"fill:none;stroke:#1f77b4;stroke-linecap:square;stroke-width:1.5;\"/>\r\n    </g>\r\n    <g id=\"line2d_23\"/>\r\n    <g id=\"text_18\">\r\n     <!-- loss -->\r\n     <defs>\r\n      <path d=\"M 9.421875 75.984375 \r\nL 18.40625 75.984375 \r\nL 18.40625 0 \r\nL 9.421875 0 \r\nz\r\n\" id=\"DejaVuSans-108\"/>\r\n      <path d=\"M 30.609375 48.390625 \r\nQ 23.390625 48.390625 19.1875 42.75 \r\nQ 14.984375 37.109375 14.984375 27.296875 \r\nQ 14.984375 17.484375 19.15625 11.84375 \r\nQ 23.34375 6.203125 30.609375 6.203125 \r\nQ 37.796875 6.203125 41.984375 11.859375 \r\nQ 46.1875 17.53125 46.1875 27.296875 \r\nQ 46.1875 37.015625 41.984375 42.703125 \r\nQ 37.796875 48.390625 30.609375 48.390625 \r\nz\r\nM 30.609375 56 \r\nQ 42.328125 56 49.015625 48.375 \r\nQ 55.71875 40.765625 55.71875 27.296875 \r\nQ 55.71875 13.875 49.015625 6.21875 \r\nQ 42.328125 -1.421875 30.609375 -1.421875 \r\nQ 18.84375 -1.421875 12.171875 6.21875 \r\nQ 5.515625 13.875 5.515625 27.296875 \r\nQ 5.515625 40.765625 12.171875 48.375 \r\nQ 18.84375 56 30.609375 56 \r\nz\r\n\" id=\"DejaVuSans-111\"/>\r\n      <path d=\"M 44.28125 53.078125 \r\nL 44.28125 44.578125 \r\nQ 40.484375 46.53125 36.375 47.5 \r\nQ 32.28125 48.484375 27.875 48.484375 \r\nQ 21.1875 48.484375 17.84375 46.4375 \r\nQ 14.5 44.390625 14.5 40.28125 \r\nQ 14.5 37.15625 16.890625 35.375 \r\nQ 19.28125 33.59375 26.515625 31.984375 \r\nL 29.59375 31.296875 \r\nQ 39.15625 29.25 43.1875 25.515625 \r\nQ 47.21875 21.78125 47.21875 15.09375 \r\nQ 47.21875 7.46875 41.1875 3.015625 \r\nQ 35.15625 -1.421875 24.609375 -1.421875 \r\nQ 20.21875 -1.421875 15.453125 -0.5625 \r\nQ 10.6875 0.296875 5.421875 2 \r\nL 5.421875 11.28125 \r\nQ 10.40625 8.6875 15.234375 7.390625 \r\nQ 20.0625 6.109375 24.8125 6.109375 \r\nQ 31.15625 6.109375 34.5625 8.28125 \r\nQ 37.984375 10.453125 37.984375 14.40625 \r\nQ 37.984375 18.0625 35.515625 20.015625 \r\nQ 33.0625 21.96875 24.703125 23.78125 \r\nL 21.578125 24.515625 \r\nQ 13.234375 26.265625 9.515625 29.90625 \r\nQ 5.8125 33.546875 5.8125 39.890625 \r\nQ 5.8125 47.609375 11.28125 51.796875 \r\nQ 16.75 56 26.8125 56 \r\nQ 31.78125 56 36.171875 55.265625 \r\nQ 40.578125 54.546875 44.28125 53.078125 \r\nz\r\n\" id=\"DejaVuSans-115\"/>\r\n     </defs>\r\n     <g transform=\"translate(67.103125 26.570956)scale(0.1 -0.1)\">\r\n      <use xlink:href=\"#DejaVuSans-108\"/>\r\n      <use x=\"27.783203\" xlink:href=\"#DejaVuSans-111\"/>\r\n      <use x=\"88.964844\" xlink:href=\"#DejaVuSans-115\"/>\r\n      <use x=\"141.064453\" xlink:href=\"#DejaVuSans-115\"/>\r\n     </g>\r\n    </g>\r\n    <g id=\"line2d_24\">\r\n     <path d=\"M 39.103125 37.749081 \r\nL 59.103125 37.749081 \r\n\" style=\"fill:none;stroke:#ff7f0e;stroke-linecap:square;stroke-width:1.5;\"/>\r\n    </g>\r\n    <g id=\"line2d_25\"/>\r\n    <g id=\"text_19\">\r\n     <!-- accuracy -->\r\n     <defs>\r\n      <path d=\"M 34.28125 27.484375 \r\nQ 23.390625 27.484375 19.1875 25 \r\nQ 14.984375 22.515625 14.984375 16.5 \r\nQ 14.984375 11.71875 18.140625 8.90625 \r\nQ 21.296875 6.109375 26.703125 6.109375 \r\nQ 34.1875 6.109375 38.703125 11.40625 \r\nQ 43.21875 16.703125 43.21875 25.484375 \r\nL 43.21875 27.484375 \r\nz\r\nM 52.203125 31.203125 \r\nL 52.203125 0 \r\nL 43.21875 0 \r\nL 43.21875 8.296875 \r\nQ 40.140625 3.328125 35.546875 0.953125 \r\nQ 30.953125 -1.421875 24.3125 -1.421875 \r\nQ 15.921875 -1.421875 10.953125 3.296875 \r\nQ 6 8.015625 6 15.921875 \r\nQ 6 25.140625 12.171875 29.828125 \r\nQ 18.359375 34.515625 30.609375 34.515625 \r\nL 43.21875 34.515625 \r\nL 43.21875 35.40625 \r\nQ 43.21875 41.609375 39.140625 45 \r\nQ 35.0625 48.390625 27.6875 48.390625 \r\nQ 23 48.390625 18.546875 47.265625 \r\nQ 14.109375 46.140625 10.015625 43.890625 \r\nL 10.015625 52.203125 \r\nQ 14.9375 54.109375 19.578125 55.046875 \r\nQ 24.21875 56 28.609375 56 \r\nQ 40.484375 56 46.34375 49.84375 \r\nQ 52.203125 43.703125 52.203125 31.203125 \r\nz\r\n\" id=\"DejaVuSans-97\"/>\r\n      <path d=\"M 48.78125 52.59375 \r\nL 48.78125 44.1875 \r\nQ 44.96875 46.296875 41.140625 47.34375 \r\nQ 37.3125 48.390625 33.40625 48.390625 \r\nQ 24.65625 48.390625 19.8125 42.84375 \r\nQ 14.984375 37.3125 14.984375 27.296875 \r\nQ 14.984375 17.28125 19.8125 11.734375 \r\nQ 24.65625 6.203125 33.40625 6.203125 \r\nQ 37.3125 6.203125 41.140625 7.25 \r\nQ 44.96875 8.296875 48.78125 10.40625 \r\nL 48.78125 2.09375 \r\nQ 45.015625 0.34375 40.984375 -0.53125 \r\nQ 36.96875 -1.421875 32.421875 -1.421875 \r\nQ 20.0625 -1.421875 12.78125 6.34375 \r\nQ 5.515625 14.109375 5.515625 27.296875 \r\nQ 5.515625 40.671875 12.859375 48.328125 \r\nQ 20.21875 56 33.015625 56 \r\nQ 37.15625 56 41.109375 55.140625 \r\nQ 45.0625 54.296875 48.78125 52.59375 \r\nz\r\n\" id=\"DejaVuSans-99\"/>\r\n      <path d=\"M 8.5 21.578125 \r\nL 8.5 54.6875 \r\nL 17.484375 54.6875 \r\nL 17.484375 21.921875 \r\nQ 17.484375 14.15625 20.5 10.265625 \r\nQ 23.53125 6.390625 29.59375 6.390625 \r\nQ 36.859375 6.390625 41.078125 11.03125 \r\nQ 45.3125 15.671875 45.3125 23.6875 \r\nL 45.3125 54.6875 \r\nL 54.296875 54.6875 \r\nL 54.296875 0 \r\nL 45.3125 0 \r\nL 45.3125 8.40625 \r\nQ 42.046875 3.421875 37.71875 1 \r\nQ 33.40625 -1.421875 27.6875 -1.421875 \r\nQ 18.265625 -1.421875 13.375 4.4375 \r\nQ 8.5 10.296875 8.5 21.578125 \r\nz\r\nM 31.109375 56 \r\nz\r\n\" id=\"DejaVuSans-117\"/>\r\n      <path d=\"M 41.109375 46.296875 \r\nQ 39.59375 47.171875 37.8125 47.578125 \r\nQ 36.03125 48 33.890625 48 \r\nQ 26.265625 48 22.1875 43.046875 \r\nQ 18.109375 38.09375 18.109375 28.8125 \r\nL 18.109375 0 \r\nL 9.078125 0 \r\nL 9.078125 54.6875 \r\nL 18.109375 54.6875 \r\nL 18.109375 46.1875 \r\nQ 20.953125 51.171875 25.484375 53.578125 \r\nQ 30.03125 56 36.53125 56 \r\nQ 37.453125 56 38.578125 55.875 \r\nQ 39.703125 55.765625 41.0625 55.515625 \r\nz\r\n\" id=\"DejaVuSans-114\"/>\r\n      <path d=\"M 32.171875 -5.078125 \r\nQ 28.375 -14.84375 24.75 -17.8125 \r\nQ 21.140625 -20.796875 15.09375 -20.796875 \r\nL 7.90625 -20.796875 \r\nL 7.90625 -13.28125 \r\nL 13.1875 -13.28125 \r\nQ 16.890625 -13.28125 18.9375 -11.515625 \r\nQ 21 -9.765625 23.484375 -3.21875 \r\nL 25.09375 0.875 \r\nL 2.984375 54.6875 \r\nL 12.5 54.6875 \r\nL 29.59375 11.921875 \r\nL 46.6875 54.6875 \r\nL 56.203125 54.6875 \r\nz\r\n\" id=\"DejaVuSans-121\"/>\r\n     </defs>\r\n     <g transform=\"translate(67.103125 41.249081)scale(0.1 -0.1)\">\r\n      <use xlink:href=\"#DejaVuSans-97\"/>\r\n      <use x=\"61.279297\" xlink:href=\"#DejaVuSans-99\"/>\r\n      <use x=\"116.259766\" xlink:href=\"#DejaVuSans-99\"/>\r\n      <use x=\"171.240234\" xlink:href=\"#DejaVuSans-117\"/>\r\n      <use x=\"234.619141\" xlink:href=\"#DejaVuSans-114\"/>\r\n      <use x=\"275.732422\" xlink:href=\"#DejaVuSans-97\"/>\r\n      <use x=\"337.011719\" xlink:href=\"#DejaVuSans-99\"/>\r\n      <use x=\"391.992188\" xlink:href=\"#DejaVuSans-121\"/>\r\n     </g>\r\n    </g>\r\n    <g id=\"line2d_26\">\r\n     <path d=\"M 39.103125 52.427206 \r\nL 59.103125 52.427206 \r\n\" style=\"fill:none;stroke:#2ca02c;stroke-linecap:square;stroke-width:1.5;\"/>\r\n    </g>\r\n    <g id=\"line2d_27\"/>\r\n    <g id=\"text_20\">\r\n     <!-- val_loss -->\r\n     <defs>\r\n      <path d=\"M 2.984375 54.6875 \r\nL 12.5 54.6875 \r\nL 29.59375 8.796875 \r\nL 46.6875 54.6875 \r\nL 56.203125 54.6875 \r\nL 35.6875 0 \r\nL 23.484375 0 \r\nz\r\n\" id=\"DejaVuSans-118\"/>\r\n      <path d=\"M 50.984375 -16.609375 \r\nL 50.984375 -23.578125 \r\nL -0.984375 -23.578125 \r\nL -0.984375 -16.609375 \r\nz\r\n\" id=\"DejaVuSans-95\"/>\r\n     </defs>\r\n     <g transform=\"translate(67.103125 55.927206)scale(0.1 -0.1)\">\r\n      <use xlink:href=\"#DejaVuSans-118\"/>\r\n      <use x=\"59.179688\" xlink:href=\"#DejaVuSans-97\"/>\r\n      <use x=\"120.458984\" xlink:href=\"#DejaVuSans-108\"/>\r\n      <use x=\"148.242188\" xlink:href=\"#DejaVuSans-95\"/>\r\n      <use x=\"198.242188\" xlink:href=\"#DejaVuSans-108\"/>\r\n      <use x=\"226.025391\" xlink:href=\"#DejaVuSans-111\"/>\r\n      <use x=\"287.207031\" xlink:href=\"#DejaVuSans-115\"/>\r\n      <use x=\"339.306641\" xlink:href=\"#DejaVuSans-115\"/>\r\n     </g>\r\n    </g>\r\n    <g id=\"line2d_28\">\r\n     <path d=\"M 39.103125 67.383456 \r\nL 59.103125 67.383456 \r\n\" style=\"fill:none;stroke:#d62728;stroke-linecap:square;stroke-width:1.5;\"/>\r\n    </g>\r\n    <g id=\"line2d_29\"/>\r\n    <g id=\"text_21\">\r\n     <!-- val_accuracy -->\r\n     <g transform=\"translate(67.103125 70.883456)scale(0.1 -0.1)\">\r\n      <use xlink:href=\"#DejaVuSans-118\"/>\r\n      <use x=\"59.179688\" xlink:href=\"#DejaVuSans-97\"/>\r\n      <use x=\"120.458984\" xlink:href=\"#DejaVuSans-108\"/>\r\n      <use x=\"148.242188\" xlink:href=\"#DejaVuSans-95\"/>\r\n      <use x=\"198.242188\" xlink:href=\"#DejaVuSans-97\"/>\r\n      <use x=\"259.521484\" xlink:href=\"#DejaVuSans-99\"/>\r\n      <use x=\"314.501953\" xlink:href=\"#DejaVuSans-99\"/>\r\n      <use x=\"369.482422\" xlink:href=\"#DejaVuSans-117\"/>\r\n      <use x=\"432.861328\" xlink:href=\"#DejaVuSans-114\"/>\r\n      <use x=\"473.974609\" xlink:href=\"#DejaVuSans-97\"/>\r\n      <use x=\"535.253906\" xlink:href=\"#DejaVuSans-99\"/>\r\n      <use x=\"590.234375\" xlink:href=\"#DejaVuSans-121\"/>\r\n     </g>\r\n    </g>\r\n   </g>\r\n  </g>\r\n </g>\r\n <defs>\r\n  <clipPath id=\"p5079a5ecdd\">\r\n   <rect height=\"271.8\" width=\"446.4\" x=\"30.103125\" y=\"9.972518\"/>\r\n  </clipPath>\r\n </defs>\r\n</svg>\r\n",
      "image/png": "[encoded data removed]"
     },
     "metadata": {
      "needs_background": "light"
     }
    }
   ],
   "source": [
    "pd.DataFrame(history.history).plot(figsize=(8,5));"
   ]
  },
  {
   "cell_type": "code",
   "execution_count": 74,
   "metadata": {},
   "outputs": [
    {
     "output_type": "stream",
     "name": "stderr",
     "text": [
      "<ipython-input-74-edb93c3c070d>:5: SettingWithCopyWarning: \nA value is trying to be set on a copy of a slice from a DataFrame.\nTry using .loc[row_indexer,col_indexer] = value instead\n\nSee the caveats in the documentation: https://pandas.pydata.org/pandas-docs/stable/user_guide/indexing.html#returning-a-view-versus-a-copy\n  df[\"text\"] = df[\"text\"].apply(lambda x: clean_text(x))\n"
     ]
    }
   ],
   "source": [
    "from tensorflow.keras.preprocessing.text import Tokenizer\n",
    "vocab = 1000\n",
    "max_len = 500\n",
    "\n",
    "df[\"text\"] = df[\"text\"].apply(lambda x: clean_text(x))\n",
    "tokenizer = Tokenizer(num_words=vocab)\n",
    "tokenizer.fit_on_texts(df[\"text\"])\n",
    "X = tfidf.fit_transform(df[\"text\"]).toarray()\n",
    "#y = to_categorical(df[[\"right\",\"left\"]])\n",
    "y = to_categorical(df[\"right\"])\n",
    "\n",
    "X_train, X_test, y_train, y_test = train_test_split(X, y, test_size=0.2, random_state=42)\n",
    "#np.shape(X_train)"
   ]
  },
  {
   "cell_type": "code",
   "execution_count": 75,
   "metadata": {},
   "outputs": [
    {
     "output_type": "stream",
     "name": "stdout",
     "text": [
      "Model: \"sequential_8\"\n_________________________________________________________________\nLayer (type)                 Output Shape              Param #   \n=================================================================\nembedding_1 (Embedding)      (None, 500, 128)          128000    \n_________________________________________________________________\ngru_1 (GRU)                  (None, 128)               99072     \n_________________________________________________________________\ndense_30 (Dense)             (None, 64)                8256      \n_________________________________________________________________\ndense_31 (Dense)             (None, 2)                 130       \n=================================================================\nTotal params: 235,458\nTrainable params: 235,458\nNon-trainable params: 0\n_________________________________________________________________\n"
     ]
    }
   ],
   "source": [
    "# GRU Model\n",
    "num_classes = 2\n",
    "\n",
    "model = keras.Sequential()\n",
    "# Input layer\n",
    "model.add(Embedding(vocab, 128, input_length=max_len))\n",
    "model.add(GRU(128, dropout=0.2, recurrent_dropout=0.2))\n",
    "model.add(Dense(64, activation='relu'))\n",
    "# Output layer\n",
    "model.add(Dense(num_classes, activation='sigmoid'))\n",
    "\n",
    "model.compile(loss='categorical_crossentropy', optimizer='adam', metrics=['accuracy'])\n",
    "#model.compile(loss='binary_crossentropy', optimizer='adam', metrics=['accuracy'])\n",
    "model.summary()"
   ]
  },
  {
   "cell_type": "code",
   "execution_count": 76,
   "metadata": {},
   "outputs": [
    {
     "output_type": "stream",
     "name": "stdout",
     "text": [
      "Epoch 1/5\n",
      "41/41 [==============================] - 299s 7s/step - loss: 0.6425 - accuracy: 0.6873 - val_loss: 0.6066 - val_accuracy: 0.7072\n",
      "Epoch 2/5\n",
      "41/41 [==============================] - 303s 7s/step - loss: 0.6270 - accuracy: 0.6810 - val_loss: 0.6050 - val_accuracy: 0.7072\n",
      "Epoch 3/5\n",
      "41/41 [==============================] - 299s 7s/step - loss: 0.6319 - accuracy: 0.6758 - val_loss: 0.6101 - val_accuracy: 0.7072\n",
      "Epoch 4/5\n",
      "41/41 [==============================] - 299s 7s/step - loss: 0.6163 - accuracy: 0.6963 - val_loss: 0.6069 - val_accuracy: 0.7072\n",
      "Epoch 5/5\n",
      "41/41 [==============================] - 298s 7s/step - loss: 0.6174 - accuracy: 0.6942 - val_loss: 0.6120 - val_accuracy: 0.7072\n",
      "Loss: 61.45\n",
      "Accuracy: 70.31\n"
     ]
    }
   ],
   "source": [
    "# Fit and evaluate\n",
    "\n",
    "batch_size = 64\n",
    "epochs = 5\n",
    "\n",
    "X_train = sequence.pad_sequences(X_train, maxlen=max_len)\n",
    "X_test = sequence.pad_sequences(X_test, maxlen=max_len)\n",
    "\n",
    "history = model.fit(X_train, y_train, batch_size=batch_size, \n",
    "                    epochs=epochs, validation_split=0.15, verbose=1)\n",
    "\n",
    "scores = model.evaluate(X_test, y_test, verbose=0)\n",
    "\n",
    "print(f'Loss: {(scores[0]*100):.2f}')\n",
    "print(f'Accuracy: {(scores[1]*100):.2f}')"
   ]
  },
  {
   "cell_type": "code",
   "execution_count": 33,
   "metadata": {},
   "outputs": [],
   "source": [
    "model.save('models/right_bias_model-GRU_128-epochs_5.h5')"
   ]
  },
  {
   "cell_type": "code",
   "execution_count": 77,
   "metadata": {},
   "outputs": [
    {
     "output_type": "display_data",
     "data": {
      "text/plain": "<Figure size 576x360 with 1 Axes>",
      "image/svg+xml": "<?xml version=\"1.0\" encoding=\"utf-8\" standalone=\"no\"?>\r\n<!DOCTYPE svg PUBLIC \"-//W3C//DTD SVG 1.1//EN\"\r\n  \"http://www.w3.org/Graphics/SVG/1.1/DTD/svg11.dtd\">\r\n<!-- Created with matplotlib (https://matplotlib.org/) -->\r\n<svg height=\"302.878125pt\" version=\"1.1\" viewBox=\"0 0 490.065625 302.878125\" width=\"490.065625pt\" xmlns=\"http://www.w3.org/2000/svg\" xmlns:xlink=\"http://www.w3.org/1999/xlink\">\r\n <defs>\r\n  <style type=\"text/css\">\r\n*{stroke-linecap:butt;stroke-linejoin:round;}\r\n  </style>\r\n </defs>\r\n <g id=\"figure_1\">\r\n  <g id=\"patch_1\">\r\n   <path d=\"M 0 302.878125 \r\nL 490.065625 302.878125 \r\nL 490.065625 0 \r\nL 0 0 \r\nz\r\n\" style=\"fill:none;\"/>\r\n  </g>\r\n  <g id=\"axes_1\">\r\n   <g id=\"patch_2\">\r\n    <path d=\"M 36.465625 279 \r\nL 482.865625 279 \r\nL 482.865625 7.2 \r\nL 36.465625 7.2 \r\nz\r\n\" style=\"fill:#ffffff;\"/>\r\n   </g>\r\n   <g id=\"matplotlib.axis_1\">\r\n    <g id=\"xtick_1\">\r\n     <g id=\"line2d_1\">\r\n      <defs>\r\n       <path d=\"M 0 0 \r\nL 0 3.5 \r\n\" id=\"m3ddd46f3b4\" style=\"stroke:#000000;stroke-width:0.8;\"/>\r\n      </defs>\r\n      <g>\r\n       <use style=\"stroke:#000000;stroke-width:0.8;\" x=\"56.756534\" xlink:href=\"#m3ddd46f3b4\" y=\"279\"/>\r\n      </g>\r\n     </g>\r\n     <g id=\"text_1\">\r\n      <!-- 0.0 -->\r\n      <defs>\r\n       <path d=\"M 31.78125 66.40625 \r\nQ 24.171875 66.40625 20.328125 58.90625 \r\nQ 16.5 51.421875 16.5 36.375 \r\nQ 16.5 21.390625 20.328125 13.890625 \r\nQ 24.171875 6.390625 31.78125 6.390625 \r\nQ 39.453125 6.390625 43.28125 13.890625 \r\nQ 47.125 21.390625 47.125 36.375 \r\nQ 47.125 51.421875 43.28125 58.90625 \r\nQ 39.453125 66.40625 31.78125 66.40625 \r\nz\r\nM 31.78125 74.21875 \r\nQ 44.046875 74.21875 50.515625 64.515625 \r\nQ 56.984375 54.828125 56.984375 36.375 \r\nQ 56.984375 17.96875 50.515625 8.265625 \r\nQ 44.046875 -1.421875 31.78125 -1.421875 \r\nQ 19.53125 -1.421875 13.0625 8.265625 \r\nQ 6.59375 17.96875 6.59375 36.375 \r\nQ 6.59375 54.828125 13.0625 64.515625 \r\nQ 19.53125 74.21875 31.78125 74.21875 \r\nz\r\n\" id=\"DejaVuSans-48\"/>\r\n       <path d=\"M 10.6875 12.40625 \r\nL 21 12.40625 \r\nL 21 0 \r\nL 10.6875 0 \r\nz\r\n\" id=\"DejaVuSans-46\"/>\r\n      </defs>\r\n      <g transform=\"translate(48.804972 293.598437)scale(0.1 -0.1)\">\r\n       <use xlink:href=\"#DejaVuSans-48\"/>\r\n       <use x=\"63.623047\" xlink:href=\"#DejaVuSans-46\"/>\r\n       <use x=\"95.410156\" xlink:href=\"#DejaVuSans-48\"/>\r\n      </g>\r\n     </g>\r\n    </g>\r\n    <g id=\"xtick_2\">\r\n     <g id=\"line2d_2\">\r\n      <g>\r\n       <use style=\"stroke:#000000;stroke-width:0.8;\" x=\"107.483807\" xlink:href=\"#m3ddd46f3b4\" y=\"279\"/>\r\n      </g>\r\n     </g>\r\n     <g id=\"text_2\">\r\n      <!-- 0.5 -->\r\n      <defs>\r\n       <path d=\"M 10.796875 72.90625 \r\nL 49.515625 72.90625 \r\nL 49.515625 64.59375 \r\nL 19.828125 64.59375 \r\nL 19.828125 46.734375 \r\nQ 21.96875 47.46875 24.109375 47.828125 \r\nQ 26.265625 48.1875 28.421875 48.1875 \r\nQ 40.625 48.1875 47.75 41.5 \r\nQ 54.890625 34.8125 54.890625 23.390625 \r\nQ 54.890625 11.625 47.5625 5.09375 \r\nQ 40.234375 -1.421875 26.90625 -1.421875 \r\nQ 22.3125 -1.421875 17.546875 -0.640625 \r\nQ 12.796875 0.140625 7.71875 1.703125 \r\nL 7.71875 11.625 \r\nQ 12.109375 9.234375 16.796875 8.0625 \r\nQ 21.484375 6.890625 26.703125 6.890625 \r\nQ 35.15625 6.890625 40.078125 11.328125 \r\nQ 45.015625 15.765625 45.015625 23.390625 \r\nQ 45.015625 31 40.078125 35.4375 \r\nQ 35.15625 39.890625 26.703125 39.890625 \r\nQ 22.75 39.890625 18.8125 39.015625 \r\nQ 14.890625 38.140625 10.796875 36.28125 \r\nz\r\n\" id=\"DejaVuSans-53\"/>\r\n      </defs>\r\n      <g transform=\"translate(99.532244 293.598437)scale(0.1 -0.1)\">\r\n       <use xlink:href=\"#DejaVuSans-48\"/>\r\n       <use x=\"63.623047\" xlink:href=\"#DejaVuSans-46\"/>\r\n       <use x=\"95.410156\" xlink:href=\"#DejaVuSans-53\"/>\r\n      </g>\r\n     </g>\r\n    </g>\r\n    <g id=\"xtick_3\">\r\n     <g id=\"line2d_3\">\r\n      <g>\r\n       <use style=\"stroke:#000000;stroke-width:0.8;\" x=\"158.21108\" xlink:href=\"#m3ddd46f3b4\" y=\"279\"/>\r\n      </g>\r\n     </g>\r\n     <g id=\"text_3\">\r\n      <!-- 1.0 -->\r\n      <defs>\r\n       <path d=\"M 12.40625 8.296875 \r\nL 28.515625 8.296875 \r\nL 28.515625 63.921875 \r\nL 10.984375 60.40625 \r\nL 10.984375 69.390625 \r\nL 28.421875 72.90625 \r\nL 38.28125 72.90625 \r\nL 38.28125 8.296875 \r\nL 54.390625 8.296875 \r\nL 54.390625 0 \r\nL 12.40625 0 \r\nz\r\n\" id=\"DejaVuSans-49\"/>\r\n      </defs>\r\n      <g transform=\"translate(150.259517 293.598437)scale(0.1 -0.1)\">\r\n       <use xlink:href=\"#DejaVuSans-49\"/>\r\n       <use x=\"63.623047\" xlink:href=\"#DejaVuSans-46\"/>\r\n       <use x=\"95.410156\" xlink:href=\"#DejaVuSans-48\"/>\r\n      </g>\r\n     </g>\r\n    </g>\r\n    <g id=\"xtick_4\">\r\n     <g id=\"line2d_4\">\r\n      <g>\r\n       <use style=\"stroke:#000000;stroke-width:0.8;\" x=\"208.938352\" xlink:href=\"#m3ddd46f3b4\" y=\"279\"/>\r\n      </g>\r\n     </g>\r\n     <g id=\"text_4\">\r\n      <!-- 1.5 -->\r\n      <g transform=\"translate(200.98679 293.598437)scale(0.1 -0.1)\">\r\n       <use xlink:href=\"#DejaVuSans-49\"/>\r\n       <use x=\"63.623047\" xlink:href=\"#DejaVuSans-46\"/>\r\n       <use x=\"95.410156\" xlink:href=\"#DejaVuSans-53\"/>\r\n      </g>\r\n     </g>\r\n    </g>\r\n    <g id=\"xtick_5\">\r\n     <g id=\"line2d_5\">\r\n      <g>\r\n       <use style=\"stroke:#000000;stroke-width:0.8;\" x=\"259.665625\" xlink:href=\"#m3ddd46f3b4\" y=\"279\"/>\r\n      </g>\r\n     </g>\r\n     <g id=\"text_5\">\r\n      <!-- 2.0 -->\r\n      <defs>\r\n       <path d=\"M 19.1875 8.296875 \r\nL 53.609375 8.296875 \r\nL 53.609375 0 \r\nL 7.328125 0 \r\nL 7.328125 8.296875 \r\nQ 12.9375 14.109375 22.625 23.890625 \r\nQ 32.328125 33.6875 34.8125 36.53125 \r\nQ 39.546875 41.84375 41.421875 45.53125 \r\nQ 43.3125 49.21875 43.3125 52.78125 \r\nQ 43.3125 58.59375 39.234375 62.25 \r\nQ 35.15625 65.921875 28.609375 65.921875 \r\nQ 23.96875 65.921875 18.8125 64.3125 \r\nQ 13.671875 62.703125 7.8125 59.421875 \r\nL 7.8125 69.390625 \r\nQ 13.765625 71.78125 18.9375 73 \r\nQ 24.125 74.21875 28.421875 74.21875 \r\nQ 39.75 74.21875 46.484375 68.546875 \r\nQ 53.21875 62.890625 53.21875 53.421875 \r\nQ 53.21875 48.921875 51.53125 44.890625 \r\nQ 49.859375 40.875 45.40625 35.40625 \r\nQ 44.1875 33.984375 37.640625 27.21875 \r\nQ 31.109375 20.453125 19.1875 8.296875 \r\nz\r\n\" id=\"DejaVuSans-50\"/>\r\n      </defs>\r\n      <g transform=\"translate(251.714062 293.598437)scale(0.1 -0.1)\">\r\n       <use xlink:href=\"#DejaVuSans-50\"/>\r\n       <use x=\"63.623047\" xlink:href=\"#DejaVuSans-46\"/>\r\n       <use x=\"95.410156\" xlink:href=\"#DejaVuSans-48\"/>\r\n      </g>\r\n     </g>\r\n    </g>\r\n    <g id=\"xtick_6\">\r\n     <g id=\"line2d_6\">\r\n      <g>\r\n       <use style=\"stroke:#000000;stroke-width:0.8;\" x=\"310.392898\" xlink:href=\"#m3ddd46f3b4\" y=\"279\"/>\r\n      </g>\r\n     </g>\r\n     <g id=\"text_6\">\r\n      <!-- 2.5 -->\r\n      <g transform=\"translate(302.441335 293.598437)scale(0.1 -0.1)\">\r\n       <use xlink:href=\"#DejaVuSans-50\"/>\r\n       <use x=\"63.623047\" xlink:href=\"#DejaVuSans-46\"/>\r\n       <use x=\"95.410156\" xlink:href=\"#DejaVuSans-53\"/>\r\n      </g>\r\n     </g>\r\n    </g>\r\n    <g id=\"xtick_7\">\r\n     <g id=\"line2d_7\">\r\n      <g>\r\n       <use style=\"stroke:#000000;stroke-width:0.8;\" x=\"361.12017\" xlink:href=\"#m3ddd46f3b4\" y=\"279\"/>\r\n      </g>\r\n     </g>\r\n     <g id=\"text_7\">\r\n      <!-- 3.0 -->\r\n      <defs>\r\n       <path d=\"M 40.578125 39.3125 \r\nQ 47.65625 37.796875 51.625 33 \r\nQ 55.609375 28.21875 55.609375 21.1875 \r\nQ 55.609375 10.40625 48.1875 4.484375 \r\nQ 40.765625 -1.421875 27.09375 -1.421875 \r\nQ 22.515625 -1.421875 17.65625 -0.515625 \r\nQ 12.796875 0.390625 7.625 2.203125 \r\nL 7.625 11.71875 \r\nQ 11.71875 9.328125 16.59375 8.109375 \r\nQ 21.484375 6.890625 26.8125 6.890625 \r\nQ 36.078125 6.890625 40.9375 10.546875 \r\nQ 45.796875 14.203125 45.796875 21.1875 \r\nQ 45.796875 27.640625 41.28125 31.265625 \r\nQ 36.765625 34.90625 28.71875 34.90625 \r\nL 20.21875 34.90625 \r\nL 20.21875 43.015625 \r\nL 29.109375 43.015625 \r\nQ 36.375 43.015625 40.234375 45.921875 \r\nQ 44.09375 48.828125 44.09375 54.296875 \r\nQ 44.09375 59.90625 40.109375 62.90625 \r\nQ 36.140625 65.921875 28.71875 65.921875 \r\nQ 24.65625 65.921875 20.015625 65.03125 \r\nQ 15.375 64.15625 9.8125 62.3125 \r\nL 9.8125 71.09375 \r\nQ 15.4375 72.65625 20.34375 73.4375 \r\nQ 25.25 74.21875 29.59375 74.21875 \r\nQ 40.828125 74.21875 47.359375 69.109375 \r\nQ 53.90625 64.015625 53.90625 55.328125 \r\nQ 53.90625 49.265625 50.4375 45.09375 \r\nQ 46.96875 40.921875 40.578125 39.3125 \r\nz\r\n\" id=\"DejaVuSans-51\"/>\r\n      </defs>\r\n      <g transform=\"translate(353.168608 293.598437)scale(0.1 -0.1)\">\r\n       <use xlink:href=\"#DejaVuSans-51\"/>\r\n       <use x=\"63.623047\" xlink:href=\"#DejaVuSans-46\"/>\r\n       <use x=\"95.410156\" xlink:href=\"#DejaVuSans-48\"/>\r\n      </g>\r\n     </g>\r\n    </g>\r\n    <g id=\"xtick_8\">\r\n     <g id=\"line2d_8\">\r\n      <g>\r\n       <use style=\"stroke:#000000;stroke-width:0.8;\" x=\"411.847443\" xlink:href=\"#m3ddd46f3b4\" y=\"279\"/>\r\n      </g>\r\n     </g>\r\n     <g id=\"text_8\">\r\n      <!-- 3.5 -->\r\n      <g transform=\"translate(403.895881 293.598437)scale(0.1 -0.1)\">\r\n       <use xlink:href=\"#DejaVuSans-51\"/>\r\n       <use x=\"63.623047\" xlink:href=\"#DejaVuSans-46\"/>\r\n       <use x=\"95.410156\" xlink:href=\"#DejaVuSans-53\"/>\r\n      </g>\r\n     </g>\r\n    </g>\r\n    <g id=\"xtick_9\">\r\n     <g id=\"line2d_9\">\r\n      <g>\r\n       <use style=\"stroke:#000000;stroke-width:0.8;\" x=\"462.574716\" xlink:href=\"#m3ddd46f3b4\" y=\"279\"/>\r\n      </g>\r\n     </g>\r\n     <g id=\"text_9\">\r\n      <!-- 4.0 -->\r\n      <defs>\r\n       <path d=\"M 37.796875 64.3125 \r\nL 12.890625 25.390625 \r\nL 37.796875 25.390625 \r\nz\r\nM 35.203125 72.90625 \r\nL 47.609375 72.90625 \r\nL 47.609375 25.390625 \r\nL 58.015625 25.390625 \r\nL 58.015625 17.1875 \r\nL 47.609375 17.1875 \r\nL 47.609375 0 \r\nL 37.796875 0 \r\nL 37.796875 17.1875 \r\nL 4.890625 17.1875 \r\nL 4.890625 26.703125 \r\nz\r\n\" id=\"DejaVuSans-52\"/>\r\n      </defs>\r\n      <g transform=\"translate(454.623153 293.598437)scale(0.1 -0.1)\">\r\n       <use xlink:href=\"#DejaVuSans-52\"/>\r\n       <use x=\"63.623047\" xlink:href=\"#DejaVuSans-46\"/>\r\n       <use x=\"95.410156\" xlink:href=\"#DejaVuSans-48\"/>\r\n      </g>\r\n     </g>\r\n    </g>\r\n   </g>\r\n   <g id=\"matplotlib.axis_2\">\r\n    <g id=\"ytick_1\">\r\n     <g id=\"line2d_10\">\r\n      <defs>\r\n       <path d=\"M 0 0 \r\nL -3.5 0 \r\n\" id=\"m400fc3b746\" style=\"stroke:#000000;stroke-width:0.8;\"/>\r\n      </defs>\r\n      <g>\r\n       <use style=\"stroke:#000000;stroke-width:0.8;\" x=\"36.465625\" xlink:href=\"#m400fc3b746\" y=\"278.662686\"/>\r\n      </g>\r\n     </g>\r\n     <g id=\"text_10\">\r\n      <!-- 0.60 -->\r\n      <defs>\r\n       <path d=\"M 33.015625 40.375 \r\nQ 26.375 40.375 22.484375 35.828125 \r\nQ 18.609375 31.296875 18.609375 23.390625 \r\nQ 18.609375 15.53125 22.484375 10.953125 \r\nQ 26.375 6.390625 33.015625 6.390625 \r\nQ 39.65625 6.390625 43.53125 10.953125 \r\nQ 47.40625 15.53125 47.40625 23.390625 \r\nQ 47.40625 31.296875 43.53125 35.828125 \r\nQ 39.65625 40.375 33.015625 40.375 \r\nz\r\nM 52.59375 71.296875 \r\nL 52.59375 62.3125 \r\nQ 48.875 64.0625 45.09375 64.984375 \r\nQ 41.3125 65.921875 37.59375 65.921875 \r\nQ 27.828125 65.921875 22.671875 59.328125 \r\nQ 17.53125 52.734375 16.796875 39.40625 \r\nQ 19.671875 43.65625 24.015625 45.921875 \r\nQ 28.375 48.1875 33.59375 48.1875 \r\nQ 44.578125 48.1875 50.953125 41.515625 \r\nQ 57.328125 34.859375 57.328125 23.390625 \r\nQ 57.328125 12.15625 50.6875 5.359375 \r\nQ 44.046875 -1.421875 33.015625 -1.421875 \r\nQ 20.359375 -1.421875 13.671875 8.265625 \r\nQ 6.984375 17.96875 6.984375 36.375 \r\nQ 6.984375 53.65625 15.1875 63.9375 \r\nQ 23.390625 74.21875 37.203125 74.21875 \r\nQ 40.921875 74.21875 44.703125 73.484375 \r\nQ 48.484375 72.75 52.59375 71.296875 \r\nz\r\n\" id=\"DejaVuSans-54\"/>\r\n      </defs>\r\n      <g transform=\"translate(7.2 282.461905)scale(0.1 -0.1)\">\r\n       <use xlink:href=\"#DejaVuSans-48\"/>\r\n       <use x=\"63.623047\" xlink:href=\"#DejaVuSans-46\"/>\r\n       <use x=\"95.410156\" xlink:href=\"#DejaVuSans-54\"/>\r\n       <use x=\"159.033203\" xlink:href=\"#DejaVuSans-48\"/>\r\n      </g>\r\n     </g>\r\n    </g>\r\n    <g id=\"ytick_2\">\r\n     <g id=\"line2d_11\">\r\n      <g>\r\n       <use style=\"stroke:#000000;stroke-width:0.8;\" x=\"36.465625\" xlink:href=\"#m400fc3b746\" y=\"230.302815\"/>\r\n      </g>\r\n     </g>\r\n     <g id=\"text_11\">\r\n      <!-- 0.62 -->\r\n      <g transform=\"translate(7.2 234.102034)scale(0.1 -0.1)\">\r\n       <use xlink:href=\"#DejaVuSans-48\"/>\r\n       <use x=\"63.623047\" xlink:href=\"#DejaVuSans-46\"/>\r\n       <use x=\"95.410156\" xlink:href=\"#DejaVuSans-54\"/>\r\n       <use x=\"159.033203\" xlink:href=\"#DejaVuSans-50\"/>\r\n      </g>\r\n     </g>\r\n    </g>\r\n    <g id=\"ytick_3\">\r\n     <g id=\"line2d_12\">\r\n      <g>\r\n       <use style=\"stroke:#000000;stroke-width:0.8;\" x=\"36.465625\" xlink:href=\"#m400fc3b746\" y=\"181.942945\"/>\r\n      </g>\r\n     </g>\r\n     <g id=\"text_12\">\r\n      <!-- 0.64 -->\r\n      <g transform=\"translate(7.2 185.742164)scale(0.1 -0.1)\">\r\n       <use xlink:href=\"#DejaVuSans-48\"/>\r\n       <use x=\"63.623047\" xlink:href=\"#DejaVuSans-46\"/>\r\n       <use x=\"95.410156\" xlink:href=\"#DejaVuSans-54\"/>\r\n       <use x=\"159.033203\" xlink:href=\"#DejaVuSans-52\"/>\r\n      </g>\r\n     </g>\r\n    </g>\r\n    <g id=\"ytick_4\">\r\n     <g id=\"line2d_13\">\r\n      <g>\r\n       <use style=\"stroke:#000000;stroke-width:0.8;\" x=\"36.465625\" xlink:href=\"#m400fc3b746\" y=\"133.583075\"/>\r\n      </g>\r\n     </g>\r\n     <g id=\"text_13\">\r\n      <!-- 0.66 -->\r\n      <g transform=\"translate(7.2 137.382293)scale(0.1 -0.1)\">\r\n       <use xlink:href=\"#DejaVuSans-48\"/>\r\n       <use x=\"63.623047\" xlink:href=\"#DejaVuSans-46\"/>\r\n       <use x=\"95.410156\" xlink:href=\"#DejaVuSans-54\"/>\r\n       <use x=\"159.033203\" xlink:href=\"#DejaVuSans-54\"/>\r\n      </g>\r\n     </g>\r\n    </g>\r\n    <g id=\"ytick_5\">\r\n     <g id=\"line2d_14\">\r\n      <g>\r\n       <use style=\"stroke:#000000;stroke-width:0.8;\" x=\"36.465625\" xlink:href=\"#m400fc3b746\" y=\"85.223204\"/>\r\n      </g>\r\n     </g>\r\n     <g id=\"text_14\">\r\n      <!-- 0.68 -->\r\n      <defs>\r\n       <path d=\"M 31.78125 34.625 \r\nQ 24.75 34.625 20.71875 30.859375 \r\nQ 16.703125 27.09375 16.703125 20.515625 \r\nQ 16.703125 13.921875 20.71875 10.15625 \r\nQ 24.75 6.390625 31.78125 6.390625 \r\nQ 38.8125 6.390625 42.859375 10.171875 \r\nQ 46.921875 13.96875 46.921875 20.515625 \r\nQ 46.921875 27.09375 42.890625 30.859375 \r\nQ 38.875 34.625 31.78125 34.625 \r\nz\r\nM 21.921875 38.8125 \r\nQ 15.578125 40.375 12.03125 44.71875 \r\nQ 8.5 49.078125 8.5 55.328125 \r\nQ 8.5 64.0625 14.71875 69.140625 \r\nQ 20.953125 74.21875 31.78125 74.21875 \r\nQ 42.671875 74.21875 48.875 69.140625 \r\nQ 55.078125 64.0625 55.078125 55.328125 \r\nQ 55.078125 49.078125 51.53125 44.71875 \r\nQ 48 40.375 41.703125 38.8125 \r\nQ 48.828125 37.15625 52.796875 32.3125 \r\nQ 56.78125 27.484375 56.78125 20.515625 \r\nQ 56.78125 9.90625 50.3125 4.234375 \r\nQ 43.84375 -1.421875 31.78125 -1.421875 \r\nQ 19.734375 -1.421875 13.25 4.234375 \r\nQ 6.78125 9.90625 6.78125 20.515625 \r\nQ 6.78125 27.484375 10.78125 32.3125 \r\nQ 14.796875 37.15625 21.921875 38.8125 \r\nz\r\nM 18.3125 54.390625 \r\nQ 18.3125 48.734375 21.84375 45.5625 \r\nQ 25.390625 42.390625 31.78125 42.390625 \r\nQ 38.140625 42.390625 41.71875 45.5625 \r\nQ 45.3125 48.734375 45.3125 54.390625 \r\nQ 45.3125 60.0625 41.71875 63.234375 \r\nQ 38.140625 66.40625 31.78125 66.40625 \r\nQ 25.390625 66.40625 21.84375 63.234375 \r\nQ 18.3125 60.0625 18.3125 54.390625 \r\nz\r\n\" id=\"DejaVuSans-56\"/>\r\n      </defs>\r\n      <g transform=\"translate(7.2 89.022423)scale(0.1 -0.1)\">\r\n       <use xlink:href=\"#DejaVuSans-48\"/>\r\n       <use x=\"63.623047\" xlink:href=\"#DejaVuSans-46\"/>\r\n       <use x=\"95.410156\" xlink:href=\"#DejaVuSans-54\"/>\r\n       <use x=\"159.033203\" xlink:href=\"#DejaVuSans-56\"/>\r\n      </g>\r\n     </g>\r\n    </g>\r\n    <g id=\"ytick_6\">\r\n     <g id=\"line2d_15\">\r\n      <g>\r\n       <use style=\"stroke:#000000;stroke-width:0.8;\" x=\"36.465625\" xlink:href=\"#m400fc3b746\" y=\"36.863334\"/>\r\n      </g>\r\n     </g>\r\n     <g id=\"text_15\">\r\n      <!-- 0.70 -->\r\n      <defs>\r\n       <path d=\"M 8.203125 72.90625 \r\nL 55.078125 72.90625 \r\nL 55.078125 68.703125 \r\nL 28.609375 0 \r\nL 18.3125 0 \r\nL 43.21875 64.59375 \r\nL 8.203125 64.59375 \r\nz\r\n\" id=\"DejaVuSans-55\"/>\r\n      </defs>\r\n      <g transform=\"translate(7.2 40.662553)scale(0.1 -0.1)\">\r\n       <use xlink:href=\"#DejaVuSans-48\"/>\r\n       <use x=\"63.623047\" xlink:href=\"#DejaVuSans-46\"/>\r\n       <use x=\"95.410156\" xlink:href=\"#DejaVuSans-55\"/>\r\n       <use x=\"159.033203\" xlink:href=\"#DejaVuSans-48\"/>\r\n      </g>\r\n     </g>\r\n    </g>\r\n   </g>\r\n   <g id=\"line2d_16\">\r\n    <path clip-path=\"url(#pa5a9165ec9)\" d=\"M 56.756534 206.850572 \r\nL 158.21108 227.514732 \r\nL 259.665625 226.367075 \r\nL 361.12017 224.658201 \r\nL 462.574716 226.512064 \r\n\" style=\"fill:none;stroke:#1f77b4;stroke-linecap:square;stroke-width:1.5;\"/>\r\n   </g>\r\n   <g id=\"line2d_17\">\r\n    <path clip-path=\"url(#pa5a9165ec9)\" d=\"M 56.756534 63.441781 \r\nL 158.21108 63.441781 \r\nL 259.665625 63.441781 \r\nL 361.12017 63.441781 \r\nL 462.574716 63.441781 \r\n\" style=\"fill:none;stroke:#ff7f0e;stroke-linecap:square;stroke-width:1.5;\"/>\r\n   </g>\r\n   <g id=\"line2d_18\">\r\n    <path clip-path=\"url(#pa5a9165ec9)\" d=\"M 56.756534 262.625125 \r\nL 158.21108 266.645455 \r\nL 259.665625 254.197928 \r\nL 361.12017 262.08077 \r\nL 462.574716 249.714818 \r\n\" style=\"fill:none;stroke:#2ca02c;stroke-linecap:square;stroke-width:1.5;\"/>\r\n   </g>\r\n   <g id=\"line2d_19\">\r\n    <path clip-path=\"url(#pa5a9165ec9)\" d=\"M 56.756534 19.554545 \r\nL 158.21108 19.554545 \r\nL 259.665625 19.554545 \r\nL 361.12017 19.554545 \r\nL 462.574716 19.554545 \r\n\" style=\"fill:none;stroke:#d62728;stroke-linecap:square;stroke-width:1.5;\"/>\r\n   </g>\r\n   <g id=\"patch_3\">\r\n    <path d=\"M 36.465625 279 \r\nL 36.465625 7.2 \r\n\" style=\"fill:none;stroke:#000000;stroke-linecap:square;stroke-linejoin:miter;stroke-width:0.8;\"/>\r\n   </g>\r\n   <g id=\"patch_4\">\r\n    <path d=\"M 482.865625 279 \r\nL 482.865625 7.2 \r\n\" style=\"fill:none;stroke:#000000;stroke-linecap:square;stroke-linejoin:miter;stroke-width:0.8;\"/>\r\n   </g>\r\n   <g id=\"patch_5\">\r\n    <path d=\"M 36.465625 279 \r\nL 482.865625 279 \r\n\" style=\"fill:none;stroke:#000000;stroke-linecap:square;stroke-linejoin:miter;stroke-width:0.8;\"/>\r\n   </g>\r\n   <g id=\"patch_6\">\r\n    <path d=\"M 36.465625 7.2 \r\nL 482.865625 7.2 \r\n\" style=\"fill:none;stroke:#000000;stroke-linecap:square;stroke-linejoin:miter;stroke-width:0.8;\"/>\r\n   </g>\r\n   <g id=\"legend_1\">\r\n    <g id=\"patch_7\">\r\n     <path d=\"M 378.921875 174.234375 \r\nL 475.865625 174.234375 \r\nQ 477.865625 174.234375 477.865625 172.234375 \r\nL 477.865625 113.965625 \r\nQ 477.865625 111.965625 475.865625 111.965625 \r\nL 378.921875 111.965625 \r\nQ 376.921875 111.965625 376.921875 113.965625 \r\nL 376.921875 172.234375 \r\nQ 376.921875 174.234375 378.921875 174.234375 \r\nz\r\n\" style=\"fill:#ffffff;opacity:0.8;stroke:#cccccc;stroke-linejoin:miter;\"/>\r\n    </g>\r\n    <g id=\"line2d_20\">\r\n     <path d=\"M 380.921875 120.064063 \r\nL 400.921875 120.064063 \r\n\" style=\"fill:none;stroke:#1f77b4;stroke-linecap:square;stroke-width:1.5;\"/>\r\n    </g>\r\n    <g id=\"line2d_21\"/>\r\n    <g id=\"text_16\">\r\n     <!-- loss -->\r\n     <defs>\r\n      <path d=\"M 9.421875 75.984375 \r\nL 18.40625 75.984375 \r\nL 18.40625 0 \r\nL 9.421875 0 \r\nz\r\n\" id=\"DejaVuSans-108\"/>\r\n      <path d=\"M 30.609375 48.390625 \r\nQ 23.390625 48.390625 19.1875 42.75 \r\nQ 14.984375 37.109375 14.984375 27.296875 \r\nQ 14.984375 17.484375 19.15625 11.84375 \r\nQ 23.34375 6.203125 30.609375 6.203125 \r\nQ 37.796875 6.203125 41.984375 11.859375 \r\nQ 46.1875 17.53125 46.1875 27.296875 \r\nQ 46.1875 37.015625 41.984375 42.703125 \r\nQ 37.796875 48.390625 30.609375 48.390625 \r\nz\r\nM 30.609375 56 \r\nQ 42.328125 56 49.015625 48.375 \r\nQ 55.71875 40.765625 55.71875 27.296875 \r\nQ 55.71875 13.875 49.015625 6.21875 \r\nQ 42.328125 -1.421875 30.609375 -1.421875 \r\nQ 18.84375 -1.421875 12.171875 6.21875 \r\nQ 5.515625 13.875 5.515625 27.296875 \r\nQ 5.515625 40.765625 12.171875 48.375 \r\nQ 18.84375 56 30.609375 56 \r\nz\r\n\" id=\"DejaVuSans-111\"/>\r\n      <path d=\"M 44.28125 53.078125 \r\nL 44.28125 44.578125 \r\nQ 40.484375 46.53125 36.375 47.5 \r\nQ 32.28125 48.484375 27.875 48.484375 \r\nQ 21.1875 48.484375 17.84375 46.4375 \r\nQ 14.5 44.390625 14.5 40.28125 \r\nQ 14.5 37.15625 16.890625 35.375 \r\nQ 19.28125 33.59375 26.515625 31.984375 \r\nL 29.59375 31.296875 \r\nQ 39.15625 29.25 43.1875 25.515625 \r\nQ 47.21875 21.78125 47.21875 15.09375 \r\nQ 47.21875 7.46875 41.1875 3.015625 \r\nQ 35.15625 -1.421875 24.609375 -1.421875 \r\nQ 20.21875 -1.421875 15.453125 -0.5625 \r\nQ 10.6875 0.296875 5.421875 2 \r\nL 5.421875 11.28125 \r\nQ 10.40625 8.6875 15.234375 7.390625 \r\nQ 20.0625 6.109375 24.8125 6.109375 \r\nQ 31.15625 6.109375 34.5625 8.28125 \r\nQ 37.984375 10.453125 37.984375 14.40625 \r\nQ 37.984375 18.0625 35.515625 20.015625 \r\nQ 33.0625 21.96875 24.703125 23.78125 \r\nL 21.578125 24.515625 \r\nQ 13.234375 26.265625 9.515625 29.90625 \r\nQ 5.8125 33.546875 5.8125 39.890625 \r\nQ 5.8125 47.609375 11.28125 51.796875 \r\nQ 16.75 56 26.8125 56 \r\nQ 31.78125 56 36.171875 55.265625 \r\nQ 40.578125 54.546875 44.28125 53.078125 \r\nz\r\n\" id=\"DejaVuSans-115\"/>\r\n     </defs>\r\n     <g transform=\"translate(408.921875 123.564063)scale(0.1 -0.1)\">\r\n      <use xlink:href=\"#DejaVuSans-108\"/>\r\n      <use x=\"27.783203\" xlink:href=\"#DejaVuSans-111\"/>\r\n      <use x=\"88.964844\" xlink:href=\"#DejaVuSans-115\"/>\r\n      <use x=\"141.064453\" xlink:href=\"#DejaVuSans-115\"/>\r\n     </g>\r\n    </g>\r\n    <g id=\"line2d_22\">\r\n     <path d=\"M 380.921875 134.742188 \r\nL 400.921875 134.742188 \r\n\" style=\"fill:none;stroke:#ff7f0e;stroke-linecap:square;stroke-width:1.5;\"/>\r\n    </g>\r\n    <g id=\"line2d_23\"/>\r\n    <g id=\"text_17\">\r\n     <!-- accuracy -->\r\n     <defs>\r\n      <path d=\"M 34.28125 27.484375 \r\nQ 23.390625 27.484375 19.1875 25 \r\nQ 14.984375 22.515625 14.984375 16.5 \r\nQ 14.984375 11.71875 18.140625 8.90625 \r\nQ 21.296875 6.109375 26.703125 6.109375 \r\nQ 34.1875 6.109375 38.703125 11.40625 \r\nQ 43.21875 16.703125 43.21875 25.484375 \r\nL 43.21875 27.484375 \r\nz\r\nM 52.203125 31.203125 \r\nL 52.203125 0 \r\nL 43.21875 0 \r\nL 43.21875 8.296875 \r\nQ 40.140625 3.328125 35.546875 0.953125 \r\nQ 30.953125 -1.421875 24.3125 -1.421875 \r\nQ 15.921875 -1.421875 10.953125 3.296875 \r\nQ 6 8.015625 6 15.921875 \r\nQ 6 25.140625 12.171875 29.828125 \r\nQ 18.359375 34.515625 30.609375 34.515625 \r\nL 43.21875 34.515625 \r\nL 43.21875 35.40625 \r\nQ 43.21875 41.609375 39.140625 45 \r\nQ 35.0625 48.390625 27.6875 48.390625 \r\nQ 23 48.390625 18.546875 47.265625 \r\nQ 14.109375 46.140625 10.015625 43.890625 \r\nL 10.015625 52.203125 \r\nQ 14.9375 54.109375 19.578125 55.046875 \r\nQ 24.21875 56 28.609375 56 \r\nQ 40.484375 56 46.34375 49.84375 \r\nQ 52.203125 43.703125 52.203125 31.203125 \r\nz\r\n\" id=\"DejaVuSans-97\"/>\r\n      <path d=\"M 48.78125 52.59375 \r\nL 48.78125 44.1875 \r\nQ 44.96875 46.296875 41.140625 47.34375 \r\nQ 37.3125 48.390625 33.40625 48.390625 \r\nQ 24.65625 48.390625 19.8125 42.84375 \r\nQ 14.984375 37.3125 14.984375 27.296875 \r\nQ 14.984375 17.28125 19.8125 11.734375 \r\nQ 24.65625 6.203125 33.40625 6.203125 \r\nQ 37.3125 6.203125 41.140625 7.25 \r\nQ 44.96875 8.296875 48.78125 10.40625 \r\nL 48.78125 2.09375 \r\nQ 45.015625 0.34375 40.984375 -0.53125 \r\nQ 36.96875 -1.421875 32.421875 -1.421875 \r\nQ 20.0625 -1.421875 12.78125 6.34375 \r\nQ 5.515625 14.109375 5.515625 27.296875 \r\nQ 5.515625 40.671875 12.859375 48.328125 \r\nQ 20.21875 56 33.015625 56 \r\nQ 37.15625 56 41.109375 55.140625 \r\nQ 45.0625 54.296875 48.78125 52.59375 \r\nz\r\n\" id=\"DejaVuSans-99\"/>\r\n      <path d=\"M 8.5 21.578125 \r\nL 8.5 54.6875 \r\nL 17.484375 54.6875 \r\nL 17.484375 21.921875 \r\nQ 17.484375 14.15625 20.5 10.265625 \r\nQ 23.53125 6.390625 29.59375 6.390625 \r\nQ 36.859375 6.390625 41.078125 11.03125 \r\nQ 45.3125 15.671875 45.3125 23.6875 \r\nL 45.3125 54.6875 \r\nL 54.296875 54.6875 \r\nL 54.296875 0 \r\nL 45.3125 0 \r\nL 45.3125 8.40625 \r\nQ 42.046875 3.421875 37.71875 1 \r\nQ 33.40625 -1.421875 27.6875 -1.421875 \r\nQ 18.265625 -1.421875 13.375 4.4375 \r\nQ 8.5 10.296875 8.5 21.578125 \r\nz\r\nM 31.109375 56 \r\nz\r\n\" id=\"DejaVuSans-117\"/>\r\n      <path d=\"M 41.109375 46.296875 \r\nQ 39.59375 47.171875 37.8125 47.578125 \r\nQ 36.03125 48 33.890625 48 \r\nQ 26.265625 48 22.1875 43.046875 \r\nQ 18.109375 38.09375 18.109375 28.8125 \r\nL 18.109375 0 \r\nL 9.078125 0 \r\nL 9.078125 54.6875 \r\nL 18.109375 54.6875 \r\nL 18.109375 46.1875 \r\nQ 20.953125 51.171875 25.484375 53.578125 \r\nQ 30.03125 56 36.53125 56 \r\nQ 37.453125 56 38.578125 55.875 \r\nQ 39.703125 55.765625 41.0625 55.515625 \r\nz\r\n\" id=\"DejaVuSans-114\"/>\r\n      <path d=\"M 32.171875 -5.078125 \r\nQ 28.375 -14.84375 24.75 -17.8125 \r\nQ 21.140625 -20.796875 15.09375 -20.796875 \r\nL 7.90625 -20.796875 \r\nL 7.90625 -13.28125 \r\nL 13.1875 -13.28125 \r\nQ 16.890625 -13.28125 18.9375 -11.515625 \r\nQ 21 -9.765625 23.484375 -3.21875 \r\nL 25.09375 0.875 \r\nL 2.984375 54.6875 \r\nL 12.5 54.6875 \r\nL 29.59375 11.921875 \r\nL 46.6875 54.6875 \r\nL 56.203125 54.6875 \r\nz\r\n\" id=\"DejaVuSans-121\"/>\r\n     </defs>\r\n     <g transform=\"translate(408.921875 138.242188)scale(0.1 -0.1)\">\r\n      <use xlink:href=\"#DejaVuSans-97\"/>\r\n      <use x=\"61.279297\" xlink:href=\"#DejaVuSans-99\"/>\r\n      <use x=\"116.259766\" xlink:href=\"#DejaVuSans-99\"/>\r\n      <use x=\"171.240234\" xlink:href=\"#DejaVuSans-117\"/>\r\n      <use x=\"234.619141\" xlink:href=\"#DejaVuSans-114\"/>\r\n      <use x=\"275.732422\" xlink:href=\"#DejaVuSans-97\"/>\r\n      <use x=\"337.011719\" xlink:href=\"#DejaVuSans-99\"/>\r\n      <use x=\"391.992188\" xlink:href=\"#DejaVuSans-121\"/>\r\n     </g>\r\n    </g>\r\n    <g id=\"line2d_24\">\r\n     <path d=\"M 380.921875 149.420313 \r\nL 400.921875 149.420313 \r\n\" style=\"fill:none;stroke:#2ca02c;stroke-linecap:square;stroke-width:1.5;\"/>\r\n    </g>\r\n    <g id=\"line2d_25\"/>\r\n    <g id=\"text_18\">\r\n     <!-- val_loss -->\r\n     <defs>\r\n      <path d=\"M 2.984375 54.6875 \r\nL 12.5 54.6875 \r\nL 29.59375 8.796875 \r\nL 46.6875 54.6875 \r\nL 56.203125 54.6875 \r\nL 35.6875 0 \r\nL 23.484375 0 \r\nz\r\n\" id=\"DejaVuSans-118\"/>\r\n      <path d=\"M 50.984375 -16.609375 \r\nL 50.984375 -23.578125 \r\nL -0.984375 -23.578125 \r\nL -0.984375 -16.609375 \r\nz\r\n\" id=\"DejaVuSans-95\"/>\r\n     </defs>\r\n     <g transform=\"translate(408.921875 152.920313)scale(0.1 -0.1)\">\r\n      <use xlink:href=\"#DejaVuSans-118\"/>\r\n      <use x=\"59.179688\" xlink:href=\"#DejaVuSans-97\"/>\r\n      <use x=\"120.458984\" xlink:href=\"#DejaVuSans-108\"/>\r\n      <use x=\"148.242188\" xlink:href=\"#DejaVuSans-95\"/>\r\n      <use x=\"198.242188\" xlink:href=\"#DejaVuSans-108\"/>\r\n      <use x=\"226.025391\" xlink:href=\"#DejaVuSans-111\"/>\r\n      <use x=\"287.207031\" xlink:href=\"#DejaVuSans-115\"/>\r\n      <use x=\"339.306641\" xlink:href=\"#DejaVuSans-115\"/>\r\n     </g>\r\n    </g>\r\n    <g id=\"line2d_26\">\r\n     <path d=\"M 380.921875 164.376563 \r\nL 400.921875 164.376563 \r\n\" style=\"fill:none;stroke:#d62728;stroke-linecap:square;stroke-width:1.5;\"/>\r\n    </g>\r\n    <g id=\"line2d_27\"/>\r\n    <g id=\"text_19\">\r\n     <!-- val_accuracy -->\r\n     <g transform=\"translate(408.921875 167.876563)scale(0.1 -0.1)\">\r\n      <use xlink:href=\"#DejaVuSans-118\"/>\r\n      <use x=\"59.179688\" xlink:href=\"#DejaVuSans-97\"/>\r\n      <use x=\"120.458984\" xlink:href=\"#DejaVuSans-108\"/>\r\n      <use x=\"148.242188\" xlink:href=\"#DejaVuSans-95\"/>\r\n      <use x=\"198.242188\" xlink:href=\"#DejaVuSans-97\"/>\r\n      <use x=\"259.521484\" xlink:href=\"#DejaVuSans-99\"/>\r\n      <use x=\"314.501953\" xlink:href=\"#DejaVuSans-99\"/>\r\n      <use x=\"369.482422\" xlink:href=\"#DejaVuSans-117\"/>\r\n      <use x=\"432.861328\" xlink:href=\"#DejaVuSans-114\"/>\r\n      <use x=\"473.974609\" xlink:href=\"#DejaVuSans-97\"/>\r\n      <use x=\"535.253906\" xlink:href=\"#DejaVuSans-99\"/>\r\n      <use x=\"590.234375\" xlink:href=\"#DejaVuSans-121\"/>\r\n     </g>\r\n    </g>\r\n   </g>\r\n  </g>\r\n </g>\r\n <defs>\r\n  <clipPath id=\"pa5a9165ec9\">\r\n   <rect height=\"271.8\" width=\"446.4\" x=\"36.465625\" y=\"7.2\"/>\r\n  </clipPath>\r\n </defs>\r\n</svg>\r\n",
      "image/png": "[encoded data removed]"
     },
     "metadata": {
      "needs_background": "light"
     }
    }
   ],
   "source": [
    "pd.DataFrame(history.history).plot(figsize=(8,5));"
   ]
  },
  {
   "cell_type": "code",
   "execution_count": null,
   "metadata": {},
   "outputs": [],
   "source": [
    "#https://towardsdatascience.com/media-bias-detection-using-deep-learning-libraries-in-python-44efef4918d1"
   ]
  },
  {
   "cell_type": "code",
   "execution_count": 23,
   "metadata": {},
   "outputs": [],
   "source": [
    "op = pd.DataFrame()\n",
    "op['opinion'] = sub['q3'].replace(['Opinion', 'News', 'other'], [1,0,np.nan])\n",
    "op['text'] = sub['text']\n",
    "df = op.dropna()"
   ]
  },
  {
   "cell_type": "code",
   "execution_count": 83,
   "metadata": {},
   "outputs": [],
   "source": [
    "from sklearn.feature_extraction.text import TfidfVectorizer\n",
    "\n",
    "def clean_text(text):\n",
    "    text = re.sub(r'<.*?>', '', text)\n",
    "    text = text.lower()\n",
    "    text = re.sub(\"\\\\s\", \" \", text)\n",
    "    text = re.sub(\"[^a-zA-Z' ]\", \"\", text)\n",
    "    #text = text.split(' ')\n",
    "    return text\n",
    "\n",
    "tfidf = TfidfVectorizer(\n",
    "    stop_words=\"english\",\n",
    "    preprocessor=clean_text,\n",
    "    ngram_range=(1, 2),\n",
    "    max_df=0.95,\n",
    "    min_df=2,\n",
    "    max_features=2000\n",
    ")"
   ]
  },
  {
   "cell_type": "code",
   "execution_count": 33,
   "metadata": {},
   "outputs": [
    {
     "output_type": "execute_result",
     "data": {
      "text/plain": [
       "(3575,)"
      ]
     },
     "metadata": {},
     "execution_count": 33
    }
   ],
   "source": [
    "from keras.utils import to_categorical\n",
    "\n",
    "# preclean only\n",
    "X = df[\"text\"].apply(lambda x: preclean_text(x))\n",
    "\n",
    "\n",
    "#X = tfidf.fit_transform(df[\"text\"]).toarray()\n",
    "#y = to_categorical(df[[\"right\",\"left\"]])\n",
    "#y = to_categorical(df[\"opinion\"])\n",
    "#y = to_categorical(sub['republican.vote'])\n",
    "y = df[\"opinion\"]\n",
    "\n",
    "X_train, X_test, y_train, y_test = train_test_split(X, y, test_size=0.2, random_state=42)\n",
    "np.shape(X_train)\n",
    "np.shape(y)"
   ]
  },
  {
   "cell_type": "code",
   "execution_count": 131,
   "metadata": {},
   "outputs": [
    {
     "output_type": "stream",
     "name": "stdout",
     "text": [
      "Model: \"sequential_16\"\n_________________________________________________________________\nLayer (type)                 Output Shape              Param #   \n=================================================================\ndense_60 (Dense)             (None, 1000)              1001000   \n_________________________________________________________________\nbatch_normalization_56 (Batc (None, 1000)              4000      \n_________________________________________________________________\nactivation_56 (Activation)   (None, 1000)              0         \n_________________________________________________________________\ndropout_42 (Dropout)         (None, 1000)              0         \n_________________________________________________________________\ndense_61 (Dense)             (None, 500)               500500    \n_________________________________________________________________\nbatch_normalization_57 (Batc (None, 500)               2000      \n_________________________________________________________________\nactivation_57 (Activation)   (None, 500)               0         \n_________________________________________________________________\ndropout_43 (Dropout)         (None, 500)               0         \n_________________________________________________________________\ndense_62 (Dense)             (None, 100)               50100     \n_________________________________________________________________\nbatch_normalization_58 (Batc (None, 100)               400       \n_________________________________________________________________\nactivation_58 (Activation)   (None, 100)               0         \n_________________________________________________________________\ndropout_44 (Dropout)         (None, 100)               0         \n_________________________________________________________________\ndense_63 (Dense)             (None, 1)                 101       \n_________________________________________________________________\nbatch_normalization_59 (Batc (None, 1)                 4         \n_________________________________________________________________\nactivation_59 (Activation)   (None, 1)                 0         \n=================================================================\nTotal params: 1,558,105\nTrainable params: 1,554,903\nNon-trainable params: 3,202\n_________________________________________________________________\n"
     ]
    }
   ],
   "source": [
    "# FFNN Model\n",
    "num_classes = 1\n",
    "\n",
    "model = keras.Sequential()\n",
    "# Input layer\n",
    "model.add(Dense(1000, input_dim=1000))\n",
    "model.add(BatchNormalization())\n",
    "model.add(Activation('relu'))\n",
    "model.add(Dropout(0.5))\n",
    "# hidden layer\n",
    "model.add(Dense(500))\n",
    "model.add(BatchNormalization())\n",
    "model.add(Activation('relu'))\n",
    "model.add(Dropout(0.5))\n",
    "# hidden layer\n",
    "model.add(Dense(100))\n",
    "model.add(BatchNormalization())\n",
    "model.add(Activation('relu'))\n",
    "model.add(Dropout(0.5))\n",
    "# Output Layer\n",
    "model.add(Dense(num_classes))\n",
    "model.add(BatchNormalization())\n",
    "model.add(Activation('sigmoid'))\n",
    "\n",
    "model.compile(loss='binary_crossentropy', optimizer='adam', metrics=['accuracy'])\n",
    "#model.compile(loss='categorical_crossentropy', optimizer='adam', metrics=['accuracy'])\n",
    "model.summary()"
   ]
  },
  {
   "cell_type": "code",
   "execution_count": 132,
   "metadata": {},
   "outputs": [
    {
     "output_type": "stream",
     "name": "stdout",
     "text": [
      "Epoch 1/25\n",
      "11/11 [==============================] - 6s 136ms/step - loss: 0.7788 - accuracy: 0.5243 - val_loss: 0.6828 - val_accuracy: 0.6432\n",
      "Epoch 2/25\n",
      "11/11 [==============================] - 1s 77ms/step - loss: 0.6022 - accuracy: 0.6658 - val_loss: 0.6725 - val_accuracy: 0.6432\n",
      "Epoch 3/25\n",
      "11/11 [==============================] - 1s 84ms/step - loss: 0.5303 - accuracy: 0.7569 - val_loss: 0.6667 - val_accuracy: 0.6556\n",
      "Epoch 4/25\n",
      "11/11 [==============================] - 1s 76ms/step - loss: 0.4910 - accuracy: 0.8226 - val_loss: 0.6647 - val_accuracy: 0.6349\n",
      "Epoch 5/25\n",
      "11/11 [==============================] - 1s 76ms/step - loss: 0.4715 - accuracy: 0.8208 - val_loss: 0.6641 - val_accuracy: 0.6390\n",
      "Epoch 6/25\n",
      "11/11 [==============================] - 1s 79ms/step - loss: 0.4416 - accuracy: 0.8703 - val_loss: 0.6638 - val_accuracy: 0.6100\n",
      "Epoch 7/25\n",
      "11/11 [==============================] - 1s 77ms/step - loss: 0.4283 - accuracy: 0.8828 - val_loss: 0.6636 - val_accuracy: 0.6141\n",
      "Epoch 8/25\n",
      "11/11 [==============================] - 1s 108ms/step - loss: 0.4122 - accuracy: 0.9045 - val_loss: 0.6628 - val_accuracy: 0.6017\n",
      "Epoch 9/25\n",
      "11/11 [==============================] - 1s 85ms/step - loss: 0.3971 - accuracy: 0.9248 - val_loss: 0.6615 - val_accuracy: 0.6017\n",
      "Epoch 10/25\n",
      "11/11 [==============================] - 1s 80ms/step - loss: 0.3845 - accuracy: 0.9293 - val_loss: 0.6607 - val_accuracy: 0.5975\n",
      "Epoch 11/25\n",
      "11/11 [==============================] - 1s 80ms/step - loss: 0.3707 - accuracy: 0.9413 - val_loss: 0.6595 - val_accuracy: 0.6017\n",
      "Epoch 12/25\n",
      "11/11 [==============================] - 1s 85ms/step - loss: 0.3625 - accuracy: 0.9530 - val_loss: 0.6576 - val_accuracy: 0.6058\n",
      "Epoch 13/25\n",
      "11/11 [==============================] - 1s 76ms/step - loss: 0.3593 - accuracy: 0.9508 - val_loss: 0.6559 - val_accuracy: 0.6100\n",
      "Epoch 14/25\n",
      "11/11 [==============================] - 1s 82ms/step - loss: 0.3500 - accuracy: 0.9535 - val_loss: 0.6547 - val_accuracy: 0.6100\n",
      "Epoch 15/25\n",
      "11/11 [==============================] - 1s 78ms/step - loss: 0.3421 - accuracy: 0.9641 - val_loss: 0.6529 - val_accuracy: 0.6307\n",
      "Epoch 16/25\n",
      "11/11 [==============================] - 1s 93ms/step - loss: 0.3408 - accuracy: 0.9644 - val_loss: 0.6502 - val_accuracy: 0.6390\n",
      "Epoch 17/25\n",
      "11/11 [==============================] - 1s 88ms/step - loss: 0.3320 - accuracy: 0.9663 - val_loss: 0.6482 - val_accuracy: 0.6432\n",
      "Epoch 18/25\n",
      "11/11 [==============================] - 1s 78ms/step - loss: 0.3285 - accuracy: 0.9650 - val_loss: 0.6464 - val_accuracy: 0.6598\n",
      "Epoch 19/25\n",
      "11/11 [==============================] - 1s 79ms/step - loss: 0.3275 - accuracy: 0.9596 - val_loss: 0.6431 - val_accuracy: 0.6556\n",
      "Epoch 20/25\n",
      "11/11 [==============================] - 1s 76ms/step - loss: 0.3184 - accuracy: 0.9625 - val_loss: 0.6412 - val_accuracy: 0.6722\n",
      "Epoch 21/25\n",
      "11/11 [==============================] - 1s 77ms/step - loss: 0.3146 - accuracy: 0.9698 - val_loss: 0.6391 - val_accuracy: 0.6639\n",
      "Epoch 22/25\n",
      "11/11 [==============================] - 1s 77ms/step - loss: 0.3116 - accuracy: 0.9654 - val_loss: 0.6359 - val_accuracy: 0.6763\n",
      "Epoch 23/25\n",
      "11/11 [==============================] - 1s 80ms/step - loss: 0.3062 - accuracy: 0.9696 - val_loss: 0.6331 - val_accuracy: 0.6846\n",
      "Epoch 24/25\n",
      "11/11 [==============================] - 1s 82ms/step - loss: 0.2978 - accuracy: 0.9745 - val_loss: 0.6318 - val_accuracy: 0.6805\n",
      "Epoch 25/25\n",
      "11/11 [==============================] - 1s 84ms/step - loss: 0.2984 - accuracy: 0.9684 - val_loss: 0.6276 - val_accuracy: 0.6805\n",
      "Loss: 64.50\n",
      "Accuracy: 66.17\n"
     ]
    }
   ],
   "source": [
    "# Fit and evaluate\n",
    "batch_size = 128\n",
    "epochs = 25\n",
    "\n",
    "history = model.fit(X_train, y_train, batch_size=batch_size, \n",
    "                    epochs=epochs, validation_split=0.15, verbose=1)\n",
    "\n",
    "scores = model.evaluate(X_test, y_test, verbose=0)\n",
    "\n",
    "print(f'Loss: {(scores[0]*100):.2f}')\n",
    "print(f'Accuracy: {(scores[1]*100):.2f}')"
   ]
  },
  {
   "cell_type": "code",
   "execution_count": 133,
   "metadata": {},
   "outputs": [
    {
     "output_type": "display_data",
     "data": {
      "text/plain": "<Figure size 576x360 with 1 Axes>",
      "image/svg+xml": "<?xml version=\"1.0\" encoding=\"utf-8\" standalone=\"no\"?>\r\n<!DOCTYPE svg PUBLIC \"-//W3C//DTD SVG 1.1//EN\"\r\n  \"http://www.w3.org/Graphics/SVG/1.1/DTD/svg11.dtd\">\r\n<!-- Created with matplotlib (https://matplotlib.org/) -->\r\n<svg height=\"305.096463pt\" version=\"1.1\" viewBox=\"0 0 486.683807 305.096463\" width=\"486.683807pt\" xmlns=\"http://www.w3.org/2000/svg\" xmlns:xlink=\"http://www.w3.org/1999/xlink\">\r\n <defs>\r\n  <style type=\"text/css\">\r\n*{stroke-linecap:butt;stroke-linejoin:round;}\r\n  </style>\r\n </defs>\r\n <g id=\"figure_1\">\r\n  <g id=\"patch_1\">\r\n   <path d=\"M 0 305.096463 \r\nL 486.683807 305.096463 \r\nL 486.683807 0 \r\nL 0 0 \r\nz\r\n\" style=\"fill:none;\"/>\r\n  </g>\r\n  <g id=\"axes_1\">\r\n   <g id=\"patch_2\">\r\n    <path d=\"M 30.103125 281.218338 \r\nL 476.503125 281.218338 \r\nL 476.503125 9.418338 \r\nL 30.103125 9.418338 \r\nz\r\n\" style=\"fill:#ffffff;\"/>\r\n   </g>\r\n   <g id=\"matplotlib.axis_1\">\r\n    <g id=\"xtick_1\">\r\n     <g id=\"line2d_1\">\r\n      <defs>\r\n       <path d=\"M 0 0 \r\nL 0 3.5 \r\n\" id=\"mc9e0da1160\" style=\"stroke:#000000;stroke-width:0.8;\"/>\r\n      </defs>\r\n      <g>\r\n       <use style=\"stroke:#000000;stroke-width:0.8;\" x=\"50.394034\" xlink:href=\"#mc9e0da1160\" y=\"281.218338\"/>\r\n      </g>\r\n     </g>\r\n     <g id=\"text_1\">\r\n      <!-- 0 -->\r\n      <defs>\r\n       <path d=\"M 31.78125 66.40625 \r\nQ 24.171875 66.40625 20.328125 58.90625 \r\nQ 16.5 51.421875 16.5 36.375 \r\nQ 16.5 21.390625 20.328125 13.890625 \r\nQ 24.171875 6.390625 31.78125 6.390625 \r\nQ 39.453125 6.390625 43.28125 13.890625 \r\nQ 47.125 21.390625 47.125 36.375 \r\nQ 47.125 51.421875 43.28125 58.90625 \r\nQ 39.453125 66.40625 31.78125 66.40625 \r\nz\r\nM 31.78125 74.21875 \r\nQ 44.046875 74.21875 50.515625 64.515625 \r\nQ 56.984375 54.828125 56.984375 36.375 \r\nQ 56.984375 17.96875 50.515625 8.265625 \r\nQ 44.046875 -1.421875 31.78125 -1.421875 \r\nQ 19.53125 -1.421875 13.0625 8.265625 \r\nQ 6.59375 17.96875 6.59375 36.375 \r\nQ 6.59375 54.828125 13.0625 64.515625 \r\nQ 19.53125 74.21875 31.78125 74.21875 \r\nz\r\n\" id=\"DejaVuSans-48\"/>\r\n      </defs>\r\n      <g transform=\"translate(47.212784 295.816776)scale(0.1 -0.1)\">\r\n       <use xlink:href=\"#DejaVuSans-48\"/>\r\n      </g>\r\n     </g>\r\n    </g>\r\n    <g id=\"xtick_2\">\r\n     <g id=\"line2d_2\">\r\n      <g>\r\n       <use style=\"stroke:#000000;stroke-width:0.8;\" x=\"134.939489\" xlink:href=\"#mc9e0da1160\" y=\"281.218338\"/>\r\n      </g>\r\n     </g>\r\n     <g id=\"text_2\">\r\n      <!-- 5 -->\r\n      <defs>\r\n       <path d=\"M 10.796875 72.90625 \r\nL 49.515625 72.90625 \r\nL 49.515625 64.59375 \r\nL 19.828125 64.59375 \r\nL 19.828125 46.734375 \r\nQ 21.96875 47.46875 24.109375 47.828125 \r\nQ 26.265625 48.1875 28.421875 48.1875 \r\nQ 40.625 48.1875 47.75 41.5 \r\nQ 54.890625 34.8125 54.890625 23.390625 \r\nQ 54.890625 11.625 47.5625 5.09375 \r\nQ 40.234375 -1.421875 26.90625 -1.421875 \r\nQ 22.3125 -1.421875 17.546875 -0.640625 \r\nQ 12.796875 0.140625 7.71875 1.703125 \r\nL 7.71875 11.625 \r\nQ 12.109375 9.234375 16.796875 8.0625 \r\nQ 21.484375 6.890625 26.703125 6.890625 \r\nQ 35.15625 6.890625 40.078125 11.328125 \r\nQ 45.015625 15.765625 45.015625 23.390625 \r\nQ 45.015625 31 40.078125 35.4375 \r\nQ 35.15625 39.890625 26.703125 39.890625 \r\nQ 22.75 39.890625 18.8125 39.015625 \r\nQ 14.890625 38.140625 10.796875 36.28125 \r\nz\r\n\" id=\"DejaVuSans-53\"/>\r\n      </defs>\r\n      <g transform=\"translate(131.758239 295.816776)scale(0.1 -0.1)\">\r\n       <use xlink:href=\"#DejaVuSans-53\"/>\r\n      </g>\r\n     </g>\r\n    </g>\r\n    <g id=\"xtick_3\">\r\n     <g id=\"line2d_3\">\r\n      <g>\r\n       <use style=\"stroke:#000000;stroke-width:0.8;\" x=\"219.484943\" xlink:href=\"#mc9e0da1160\" y=\"281.218338\"/>\r\n      </g>\r\n     </g>\r\n     <g id=\"text_3\">\r\n      <!-- 10 -->\r\n      <defs>\r\n       <path d=\"M 12.40625 8.296875 \r\nL 28.515625 8.296875 \r\nL 28.515625 63.921875 \r\nL 10.984375 60.40625 \r\nL 10.984375 69.390625 \r\nL 28.421875 72.90625 \r\nL 38.28125 72.90625 \r\nL 38.28125 8.296875 \r\nL 54.390625 8.296875 \r\nL 54.390625 0 \r\nL 12.40625 0 \r\nz\r\n\" id=\"DejaVuSans-49\"/>\r\n      </defs>\r\n      <g transform=\"translate(213.122443 295.816776)scale(0.1 -0.1)\">\r\n       <use xlink:href=\"#DejaVuSans-49\"/>\r\n       <use x=\"63.623047\" xlink:href=\"#DejaVuSans-48\"/>\r\n      </g>\r\n     </g>\r\n    </g>\r\n    <g id=\"xtick_4\">\r\n     <g id=\"line2d_4\">\r\n      <g>\r\n       <use style=\"stroke:#000000;stroke-width:0.8;\" x=\"304.030398\" xlink:href=\"#mc9e0da1160\" y=\"281.218338\"/>\r\n      </g>\r\n     </g>\r\n     <g id=\"text_4\">\r\n      <!-- 15 -->\r\n      <g transform=\"translate(297.667898 295.816776)scale(0.1 -0.1)\">\r\n       <use xlink:href=\"#DejaVuSans-49\"/>\r\n       <use x=\"63.623047\" xlink:href=\"#DejaVuSans-53\"/>\r\n      </g>\r\n     </g>\r\n    </g>\r\n    <g id=\"xtick_5\">\r\n     <g id=\"line2d_5\">\r\n      <g>\r\n       <use style=\"stroke:#000000;stroke-width:0.8;\" x=\"388.575852\" xlink:href=\"#mc9e0da1160\" y=\"281.218338\"/>\r\n      </g>\r\n     </g>\r\n     <g id=\"text_5\">\r\n      <!-- 20 -->\r\n      <defs>\r\n       <path d=\"M 19.1875 8.296875 \r\nL 53.609375 8.296875 \r\nL 53.609375 0 \r\nL 7.328125 0 \r\nL 7.328125 8.296875 \r\nQ 12.9375 14.109375 22.625 23.890625 \r\nQ 32.328125 33.6875 34.8125 36.53125 \r\nQ 39.546875 41.84375 41.421875 45.53125 \r\nQ 43.3125 49.21875 43.3125 52.78125 \r\nQ 43.3125 58.59375 39.234375 62.25 \r\nQ 35.15625 65.921875 28.609375 65.921875 \r\nQ 23.96875 65.921875 18.8125 64.3125 \r\nQ 13.671875 62.703125 7.8125 59.421875 \r\nL 7.8125 69.390625 \r\nQ 13.765625 71.78125 18.9375 73 \r\nQ 24.125 74.21875 28.421875 74.21875 \r\nQ 39.75 74.21875 46.484375 68.546875 \r\nQ 53.21875 62.890625 53.21875 53.421875 \r\nQ 53.21875 48.921875 51.53125 44.890625 \r\nQ 49.859375 40.875 45.40625 35.40625 \r\nQ 44.1875 33.984375 37.640625 27.21875 \r\nQ 31.109375 20.453125 19.1875 8.296875 \r\nz\r\n\" id=\"DejaVuSans-50\"/>\r\n      </defs>\r\n      <g transform=\"translate(382.213352 295.816776)scale(0.1 -0.1)\">\r\n       <use xlink:href=\"#DejaVuSans-50\"/>\r\n       <use x=\"63.623047\" xlink:href=\"#DejaVuSans-48\"/>\r\n      </g>\r\n     </g>\r\n    </g>\r\n    <g id=\"xtick_6\">\r\n     <g id=\"line2d_6\">\r\n      <g>\r\n       <use style=\"stroke:#000000;stroke-width:0.8;\" x=\"473.121307\" xlink:href=\"#mc9e0da1160\" y=\"281.218338\"/>\r\n      </g>\r\n     </g>\r\n     <g id=\"text_6\">\r\n      <!-- 25 -->\r\n      <g transform=\"translate(466.758807 295.816776)scale(0.1 -0.1)\">\r\n       <use xlink:href=\"#DejaVuSans-50\"/>\r\n       <use x=\"63.623047\" xlink:href=\"#DejaVuSans-53\"/>\r\n      </g>\r\n     </g>\r\n    </g>\r\n   </g>\r\n   <g id=\"matplotlib.axis_2\">\r\n    <g id=\"ytick_1\">\r\n     <g id=\"line2d_7\">\r\n      <defs>\r\n       <path d=\"M 0 0 \r\nL -3.5 0 \r\n\" id=\"m165e788f39\" style=\"stroke:#000000;stroke-width:0.8;\"/>\r\n      </defs>\r\n      <g>\r\n       <use style=\"stroke:#000000;stroke-width:0.8;\" x=\"30.103125\" xlink:href=\"#m165e788f39\" y=\"267.978291\"/>\r\n      </g>\r\n     </g>\r\n     <g id=\"text_7\">\r\n      <!-- 0.3 -->\r\n      <defs>\r\n       <path d=\"M 10.6875 12.40625 \r\nL 21 12.40625 \r\nL 21 0 \r\nL 10.6875 0 \r\nz\r\n\" id=\"DejaVuSans-46\"/>\r\n       <path d=\"M 40.578125 39.3125 \r\nQ 47.65625 37.796875 51.625 33 \r\nQ 55.609375 28.21875 55.609375 21.1875 \r\nQ 55.609375 10.40625 48.1875 4.484375 \r\nQ 40.765625 -1.421875 27.09375 -1.421875 \r\nQ 22.515625 -1.421875 17.65625 -0.515625 \r\nQ 12.796875 0.390625 7.625 2.203125 \r\nL 7.625 11.71875 \r\nQ 11.71875 9.328125 16.59375 8.109375 \r\nQ 21.484375 6.890625 26.8125 6.890625 \r\nQ 36.078125 6.890625 40.9375 10.546875 \r\nQ 45.796875 14.203125 45.796875 21.1875 \r\nQ 45.796875 27.640625 41.28125 31.265625 \r\nQ 36.765625 34.90625 28.71875 34.90625 \r\nL 20.21875 34.90625 \r\nL 20.21875 43.015625 \r\nL 29.109375 43.015625 \r\nQ 36.375 43.015625 40.234375 45.921875 \r\nQ 44.09375 48.828125 44.09375 54.296875 \r\nQ 44.09375 59.90625 40.109375 62.90625 \r\nQ 36.140625 65.921875 28.71875 65.921875 \r\nQ 24.65625 65.921875 20.015625 65.03125 \r\nQ 15.375 64.15625 9.8125 62.3125 \r\nL 9.8125 71.09375 \r\nQ 15.4375 72.65625 20.34375 73.4375 \r\nQ 25.25 74.21875 29.59375 74.21875 \r\nQ 40.828125 74.21875 47.359375 69.109375 \r\nQ 53.90625 64.015625 53.90625 55.328125 \r\nQ 53.90625 49.265625 50.4375 45.09375 \r\nQ 46.96875 40.921875 40.578125 39.3125 \r\nz\r\n\" id=\"DejaVuSans-51\"/>\r\n      </defs>\r\n      <g transform=\"translate(7.2 271.77751)scale(0.1 -0.1)\">\r\n       <use xlink:href=\"#DejaVuSans-48\"/>\r\n       <use x=\"63.623047\" xlink:href=\"#DejaVuSans-46\"/>\r\n       <use x=\"95.410156\" xlink:href=\"#DejaVuSans-51\"/>\r\n      </g>\r\n     </g>\r\n    </g>\r\n    <g id=\"ytick_2\">\r\n     <g id=\"line2d_8\">\r\n      <g>\r\n       <use style=\"stroke:#000000;stroke-width:0.8;\" x=\"30.103125\" xlink:href=\"#m165e788f39\" y=\"231.266995\"/>\r\n      </g>\r\n     </g>\r\n     <g id=\"text_8\">\r\n      <!-- 0.4 -->\r\n      <defs>\r\n       <path d=\"M 37.796875 64.3125 \r\nL 12.890625 25.390625 \r\nL 37.796875 25.390625 \r\nz\r\nM 35.203125 72.90625 \r\nL 47.609375 72.90625 \r\nL 47.609375 25.390625 \r\nL 58.015625 25.390625 \r\nL 58.015625 17.1875 \r\nL 47.609375 17.1875 \r\nL 47.609375 0 \r\nL 37.796875 0 \r\nL 37.796875 17.1875 \r\nL 4.890625 17.1875 \r\nL 4.890625 26.703125 \r\nz\r\n\" id=\"DejaVuSans-52\"/>\r\n      </defs>\r\n      <g transform=\"translate(7.2 235.066214)scale(0.1 -0.1)\">\r\n       <use xlink:href=\"#DejaVuSans-48\"/>\r\n       <use x=\"63.623047\" xlink:href=\"#DejaVuSans-46\"/>\r\n       <use x=\"95.410156\" xlink:href=\"#DejaVuSans-52\"/>\r\n      </g>\r\n     </g>\r\n    </g>\r\n    <g id=\"ytick_3\">\r\n     <g id=\"line2d_9\">\r\n      <g>\r\n       <use style=\"stroke:#000000;stroke-width:0.8;\" x=\"30.103125\" xlink:href=\"#m165e788f39\" y=\"194.555699\"/>\r\n      </g>\r\n     </g>\r\n     <g id=\"text_9\">\r\n      <!-- 0.5 -->\r\n      <g transform=\"translate(7.2 198.354918)scale(0.1 -0.1)\">\r\n       <use xlink:href=\"#DejaVuSans-48\"/>\r\n       <use x=\"63.623047\" xlink:href=\"#DejaVuSans-46\"/>\r\n       <use x=\"95.410156\" xlink:href=\"#DejaVuSans-53\"/>\r\n      </g>\r\n     </g>\r\n    </g>\r\n    <g id=\"ytick_4\">\r\n     <g id=\"line2d_10\">\r\n      <g>\r\n       <use style=\"stroke:#000000;stroke-width:0.8;\" x=\"30.103125\" xlink:href=\"#m165e788f39\" y=\"157.844403\"/>\r\n      </g>\r\n     </g>\r\n     <g id=\"text_10\">\r\n      <!-- 0.6 -->\r\n      <defs>\r\n       <path d=\"M 33.015625 40.375 \r\nQ 26.375 40.375 22.484375 35.828125 \r\nQ 18.609375 31.296875 18.609375 23.390625 \r\nQ 18.609375 15.53125 22.484375 10.953125 \r\nQ 26.375 6.390625 33.015625 6.390625 \r\nQ 39.65625 6.390625 43.53125 10.953125 \r\nQ 47.40625 15.53125 47.40625 23.390625 \r\nQ 47.40625 31.296875 43.53125 35.828125 \r\nQ 39.65625 40.375 33.015625 40.375 \r\nz\r\nM 52.59375 71.296875 \r\nL 52.59375 62.3125 \r\nQ 48.875 64.0625 45.09375 64.984375 \r\nQ 41.3125 65.921875 37.59375 65.921875 \r\nQ 27.828125 65.921875 22.671875 59.328125 \r\nQ 17.53125 52.734375 16.796875 39.40625 \r\nQ 19.671875 43.65625 24.015625 45.921875 \r\nQ 28.375 48.1875 33.59375 48.1875 \r\nQ 44.578125 48.1875 50.953125 41.515625 \r\nQ 57.328125 34.859375 57.328125 23.390625 \r\nQ 57.328125 12.15625 50.6875 5.359375 \r\nQ 44.046875 -1.421875 33.015625 -1.421875 \r\nQ 20.359375 -1.421875 13.671875 8.265625 \r\nQ 6.984375 17.96875 6.984375 36.375 \r\nQ 6.984375 53.65625 15.1875 63.9375 \r\nQ 23.390625 74.21875 37.203125 74.21875 \r\nQ 40.921875 74.21875 44.703125 73.484375 \r\nQ 48.484375 72.75 52.59375 71.296875 \r\nz\r\n\" id=\"DejaVuSans-54\"/>\r\n      </defs>\r\n      <g transform=\"translate(7.2 161.643622)scale(0.1 -0.1)\">\r\n       <use xlink:href=\"#DejaVuSans-48\"/>\r\n       <use x=\"63.623047\" xlink:href=\"#DejaVuSans-46\"/>\r\n       <use x=\"95.410156\" xlink:href=\"#DejaVuSans-54\"/>\r\n      </g>\r\n     </g>\r\n    </g>\r\n    <g id=\"ytick_5\">\r\n     <g id=\"line2d_11\">\r\n      <g>\r\n       <use style=\"stroke:#000000;stroke-width:0.8;\" x=\"30.103125\" xlink:href=\"#m165e788f39\" y=\"121.133107\"/>\r\n      </g>\r\n     </g>\r\n     <g id=\"text_11\">\r\n      <!-- 0.7 -->\r\n      <defs>\r\n       <path d=\"M 8.203125 72.90625 \r\nL 55.078125 72.90625 \r\nL 55.078125 68.703125 \r\nL 28.609375 0 \r\nL 18.3125 0 \r\nL 43.21875 64.59375 \r\nL 8.203125 64.59375 \r\nz\r\n\" id=\"DejaVuSans-55\"/>\r\n      </defs>\r\n      <g transform=\"translate(7.2 124.932326)scale(0.1 -0.1)\">\r\n       <use xlink:href=\"#DejaVuSans-48\"/>\r\n       <use x=\"63.623047\" xlink:href=\"#DejaVuSans-46\"/>\r\n       <use x=\"95.410156\" xlink:href=\"#DejaVuSans-55\"/>\r\n      </g>\r\n     </g>\r\n    </g>\r\n    <g id=\"ytick_6\">\r\n     <g id=\"line2d_12\">\r\n      <g>\r\n       <use style=\"stroke:#000000;stroke-width:0.8;\" x=\"30.103125\" xlink:href=\"#m165e788f39\" y=\"84.421811\"/>\r\n      </g>\r\n     </g>\r\n     <g id=\"text_12\">\r\n      <!-- 0.8 -->\r\n      <defs>\r\n       <path d=\"M 31.78125 34.625 \r\nQ 24.75 34.625 20.71875 30.859375 \r\nQ 16.703125 27.09375 16.703125 20.515625 \r\nQ 16.703125 13.921875 20.71875 10.15625 \r\nQ 24.75 6.390625 31.78125 6.390625 \r\nQ 38.8125 6.390625 42.859375 10.171875 \r\nQ 46.921875 13.96875 46.921875 20.515625 \r\nQ 46.921875 27.09375 42.890625 30.859375 \r\nQ 38.875 34.625 31.78125 34.625 \r\nz\r\nM 21.921875 38.8125 \r\nQ 15.578125 40.375 12.03125 44.71875 \r\nQ 8.5 49.078125 8.5 55.328125 \r\nQ 8.5 64.0625 14.71875 69.140625 \r\nQ 20.953125 74.21875 31.78125 74.21875 \r\nQ 42.671875 74.21875 48.875 69.140625 \r\nQ 55.078125 64.0625 55.078125 55.328125 \r\nQ 55.078125 49.078125 51.53125 44.71875 \r\nQ 48 40.375 41.703125 38.8125 \r\nQ 48.828125 37.15625 52.796875 32.3125 \r\nQ 56.78125 27.484375 56.78125 20.515625 \r\nQ 56.78125 9.90625 50.3125 4.234375 \r\nQ 43.84375 -1.421875 31.78125 -1.421875 \r\nQ 19.734375 -1.421875 13.25 4.234375 \r\nQ 6.78125 9.90625 6.78125 20.515625 \r\nQ 6.78125 27.484375 10.78125 32.3125 \r\nQ 14.796875 37.15625 21.921875 38.8125 \r\nz\r\nM 18.3125 54.390625 \r\nQ 18.3125 48.734375 21.84375 45.5625 \r\nQ 25.390625 42.390625 31.78125 42.390625 \r\nQ 38.140625 42.390625 41.71875 45.5625 \r\nQ 45.3125 48.734375 45.3125 54.390625 \r\nQ 45.3125 60.0625 41.71875 63.234375 \r\nQ 38.140625 66.40625 31.78125 66.40625 \r\nQ 25.390625 66.40625 21.84375 63.234375 \r\nQ 18.3125 60.0625 18.3125 54.390625 \r\nz\r\n\" id=\"DejaVuSans-56\"/>\r\n      </defs>\r\n      <g transform=\"translate(7.2 88.22103)scale(0.1 -0.1)\">\r\n       <use xlink:href=\"#DejaVuSans-48\"/>\r\n       <use x=\"63.623047\" xlink:href=\"#DejaVuSans-46\"/>\r\n       <use x=\"95.410156\" xlink:href=\"#DejaVuSans-56\"/>\r\n      </g>\r\n     </g>\r\n    </g>\r\n    <g id=\"ytick_7\">\r\n     <g id=\"line2d_13\">\r\n      <g>\r\n       <use style=\"stroke:#000000;stroke-width:0.8;\" x=\"30.103125\" xlink:href=\"#m165e788f39\" y=\"47.710515\"/>\r\n      </g>\r\n     </g>\r\n     <g id=\"text_13\">\r\n      <!-- 0.9 -->\r\n      <defs>\r\n       <path d=\"M 10.984375 1.515625 \r\nL 10.984375 10.5 \r\nQ 14.703125 8.734375 18.5 7.8125 \r\nQ 22.3125 6.890625 25.984375 6.890625 \r\nQ 35.75 6.890625 40.890625 13.453125 \r\nQ 46.046875 20.015625 46.78125 33.40625 \r\nQ 43.953125 29.203125 39.59375 26.953125 \r\nQ 35.25 24.703125 29.984375 24.703125 \r\nQ 19.046875 24.703125 12.671875 31.3125 \r\nQ 6.296875 37.9375 6.296875 49.421875 \r\nQ 6.296875 60.640625 12.9375 67.421875 \r\nQ 19.578125 74.21875 30.609375 74.21875 \r\nQ 43.265625 74.21875 49.921875 64.515625 \r\nQ 56.59375 54.828125 56.59375 36.375 \r\nQ 56.59375 19.140625 48.40625 8.859375 \r\nQ 40.234375 -1.421875 26.421875 -1.421875 \r\nQ 22.703125 -1.421875 18.890625 -0.6875 \r\nQ 15.09375 0.046875 10.984375 1.515625 \r\nz\r\nM 30.609375 32.421875 \r\nQ 37.25 32.421875 41.125 36.953125 \r\nQ 45.015625 41.5 45.015625 49.421875 \r\nQ 45.015625 57.28125 41.125 61.84375 \r\nQ 37.25 66.40625 30.609375 66.40625 \r\nQ 23.96875 66.40625 20.09375 61.84375 \r\nQ 16.21875 57.28125 16.21875 49.421875 \r\nQ 16.21875 41.5 20.09375 36.953125 \r\nQ 23.96875 32.421875 30.609375 32.421875 \r\nz\r\n\" id=\"DejaVuSans-57\"/>\r\n      </defs>\r\n      <g transform=\"translate(7.2 51.509734)scale(0.1 -0.1)\">\r\n       <use xlink:href=\"#DejaVuSans-48\"/>\r\n       <use x=\"63.623047\" xlink:href=\"#DejaVuSans-46\"/>\r\n       <use x=\"95.410156\" xlink:href=\"#DejaVuSans-57\"/>\r\n      </g>\r\n     </g>\r\n    </g>\r\n    <g id=\"ytick_8\">\r\n     <g id=\"line2d_14\">\r\n      <g>\r\n       <use style=\"stroke:#000000;stroke-width:0.8;\" x=\"30.103125\" xlink:href=\"#m165e788f39\" y=\"10.999219\"/>\r\n      </g>\r\n     </g>\r\n     <g id=\"text_14\">\r\n      <!-- 1.0 -->\r\n      <g transform=\"translate(7.2 14.798438)scale(0.1 -0.1)\">\r\n       <use xlink:href=\"#DejaVuSans-49\"/>\r\n       <use x=\"63.623047\" xlink:href=\"#DejaVuSans-46\"/>\r\n       <use x=\"95.410156\" xlink:href=\"#DejaVuSans-48\"/>\r\n      </g>\r\n     </g>\r\n    </g>\r\n   </g>\r\n   <g id=\"line2d_15\">\r\n    <path clip-path=\"url(#pe6bc893a05)\" d=\"M 50.394034 99.483025 \r\nL 67.303125 164.324488 \r\nL 84.212216 186.504679 \r\nL 101.121307 199.77285 \r\nL 118.030398 207.198559 \r\nL 134.939489 216.402304 \r\nL 151.84858 223.380971 \r\nL 168.75767 228.742344 \r\nL 185.666761 233.43845 \r\nL 202.575852 237.720752 \r\nL 219.484943 241.92602 \r\nL 236.394034 244.480362 \r\nL 253.303125 246.848984 \r\nL 270.212216 249.509058 \r\nL 287.121307 252.13039 \r\nL 304.030398 253.171048 \r\nL 320.939489 256.54012 \r\nL 337.84858 257.126625 \r\nL 354.75767 259.154473 \r\nL 371.666761 261.704285 \r\nL 388.575852 261.553444 \r\nL 405.484943 264.985732 \r\nL 422.394034 265.627564 \r\nL 439.303125 267.688213 \r\nL 456.212216 268.863793 \r\n\" style=\"fill:none;stroke:#1f77b4;stroke-linecap:square;stroke-width:1.5;\"/>\r\n   </g>\r\n   <g id=\"line2d_16\">\r\n    <path clip-path=\"url(#pe6bc893a05)\" d=\"M 50.394034 180.145919 \r\nL 67.303125 124.661482 \r\nL 84.212216 96.11124 \r\nL 101.121307 78.604026 \r\nL 118.030398 72.139818 \r\nL 134.939489 60.288789 \r\nL 151.84858 51.939172 \r\nL 168.75767 46.283009 \r\nL 185.666761 40.088143 \r\nL 202.575852 36.048005 \r\nL 219.484943 31.738547 \r\nL 236.394034 29.045115 \r\nL 253.303125 28.506433 \r\nL 270.212216 25.004999 \r\nL 287.121307 25.543681 \r\nL 304.030398 26.082363 \r\nL 320.939489 23.927634 \r\nL 337.84858 24.466316 \r\nL 354.75767 25.004999 \r\nL 371.666761 24.196975 \r\nL 388.575852 24.466316 \r\nL 405.484943 23.658293 \r\nL 422.394034 22.580929 \r\nL 439.303125 21.772884 \r\nL 456.212216 22.042225 \r\n\" style=\"fill:none;stroke:#ff7f0e;stroke-linecap:square;stroke-width:1.5;\"/>\r\n   </g>\r\n   <g id=\"line2d_17\">\r\n    <path clip-path=\"url(#pe6bc893a05)\" d=\"M 50.394034 127.435745 \r\nL 67.303125 131.211925 \r\nL 84.212216 133.340964 \r\nL 101.121307 134.077106 \r\nL 118.030398 134.294851 \r\nL 134.939489 134.423799 \r\nL 151.84858 134.507015 \r\nL 168.75767 134.795218 \r\nL 185.666761 135.262435 \r\nL 202.575852 135.569281 \r\nL 219.484943 135.990087 \r\nL 236.394034 136.7024 \r\nL 253.303125 137.335348 \r\nL 270.212216 137.758736 \r\nL 287.121307 138.438751 \r\nL 304.030398 139.419443 \r\nL 320.939489 140.164797 \r\nL 337.84858 140.81792 \r\nL 354.75767 142.037931 \r\nL 371.666761 142.717618 \r\nL 388.575852 143.486057 \r\nL 405.484943 144.663749 \r\nL 422.394034 145.680173 \r\nL 439.303125 146.158768 \r\nL 456.212216 147.717419 \r\n\" style=\"fill:none;stroke:#2ca02c;stroke-linecap:square;stroke-width:1.5;\"/>\r\n   </g>\r\n   <g id=\"line2d_18\">\r\n    <path clip-path=\"url(#pe6bc893a05)\" d=\"M 50.394034 142.002176 \r\nL 67.303125 142.002176 \r\nL 84.212216 137.432305 \r\nL 101.121307 145.048756 \r\nL 118.030398 143.525466 \r\nL 134.939489 154.188498 \r\nL 151.84858 152.665207 \r\nL 168.75767 157.235078 \r\nL 185.666761 157.235078 \r\nL 202.575852 158.758368 \r\nL 219.484943 157.235078 \r\nL 236.394034 155.711788 \r\nL 253.303125 154.188498 \r\nL 270.212216 154.188498 \r\nL 287.121307 146.572047 \r\nL 304.030398 143.525466 \r\nL 320.939489 142.002176 \r\nL 337.84858 135.909015 \r\nL 354.75767 137.432305 \r\nL 371.666761 131.339145 \r\nL 388.575852 134.385725 \r\nL 405.484943 129.815854 \r\nL 422.394034 126.769274 \r\nL 439.303125 128.292564 \r\nL 456.212216 128.292564 \r\n\" style=\"fill:none;stroke:#d62728;stroke-linecap:square;stroke-width:1.5;\"/>\r\n   </g>\r\n   <g id=\"patch_3\">\r\n    <path d=\"M 30.103125 281.218338 \r\nL 30.103125 9.418338 \r\n\" style=\"fill:none;stroke:#000000;stroke-linecap:square;stroke-linejoin:miter;stroke-width:0.8;\"/>\r\n   </g>\r\n   <g id=\"patch_4\">\r\n    <path d=\"M 476.503125 281.218338 \r\nL 476.503125 9.418338 \r\n\" style=\"fill:none;stroke:#000000;stroke-linecap:square;stroke-linejoin:miter;stroke-width:0.8;\"/>\r\n   </g>\r\n   <g id=\"patch_5\">\r\n    <path d=\"M 30.103125 281.218338 \r\nL 476.503125 281.218338 \r\n\" style=\"fill:none;stroke:#000000;stroke-linecap:square;stroke-linejoin:miter;stroke-width:0.8;\"/>\r\n   </g>\r\n   <g id=\"patch_6\">\r\n    <path d=\"M 30.103125 9.418338 \r\nL 476.503125 9.418338 \r\n\" style=\"fill:none;stroke:#000000;stroke-linecap:square;stroke-linejoin:miter;stroke-width:0.8;\"/>\r\n   </g>\r\n   <g id=\"legend_1\">\r\n    <g id=\"patch_7\">\r\n     <path d=\"M 37.103125 276.218338 \r\nL 134.046875 276.218338 \r\nQ 136.046875 276.218338 136.046875 274.218338 \r\nL 136.046875 215.949588 \r\nQ 136.046875 213.949588 134.046875 213.949588 \r\nL 37.103125 213.949588 \r\nQ 35.103125 213.949588 35.103125 215.949588 \r\nL 35.103125 274.218338 \r\nQ 35.103125 276.218338 37.103125 276.218338 \r\nz\r\n\" style=\"fill:#ffffff;opacity:0.8;stroke:#cccccc;stroke-linejoin:miter;\"/>\r\n    </g>\r\n    <g id=\"line2d_19\">\r\n     <path d=\"M 39.103125 222.048026 \r\nL 59.103125 222.048026 \r\n\" style=\"fill:none;stroke:#1f77b4;stroke-linecap:square;stroke-width:1.5;\"/>\r\n    </g>\r\n    <g id=\"line2d_20\"/>\r\n    <g id=\"text_15\">\r\n     <!-- loss -->\r\n     <defs>\r\n      <path d=\"M 9.421875 75.984375 \r\nL 18.40625 75.984375 \r\nL 18.40625 0 \r\nL 9.421875 0 \r\nz\r\n\" id=\"DejaVuSans-108\"/>\r\n      <path d=\"M 30.609375 48.390625 \r\nQ 23.390625 48.390625 19.1875 42.75 \r\nQ 14.984375 37.109375 14.984375 27.296875 \r\nQ 14.984375 17.484375 19.15625 11.84375 \r\nQ 23.34375 6.203125 30.609375 6.203125 \r\nQ 37.796875 6.203125 41.984375 11.859375 \r\nQ 46.1875 17.53125 46.1875 27.296875 \r\nQ 46.1875 37.015625 41.984375 42.703125 \r\nQ 37.796875 48.390625 30.609375 48.390625 \r\nz\r\nM 30.609375 56 \r\nQ 42.328125 56 49.015625 48.375 \r\nQ 55.71875 40.765625 55.71875 27.296875 \r\nQ 55.71875 13.875 49.015625 6.21875 \r\nQ 42.328125 -1.421875 30.609375 -1.421875 \r\nQ 18.84375 -1.421875 12.171875 6.21875 \r\nQ 5.515625 13.875 5.515625 27.296875 \r\nQ 5.515625 40.765625 12.171875 48.375 \r\nQ 18.84375 56 30.609375 56 \r\nz\r\n\" id=\"DejaVuSans-111\"/>\r\n      <path d=\"M 44.28125 53.078125 \r\nL 44.28125 44.578125 \r\nQ 40.484375 46.53125 36.375 47.5 \r\nQ 32.28125 48.484375 27.875 48.484375 \r\nQ 21.1875 48.484375 17.84375 46.4375 \r\nQ 14.5 44.390625 14.5 40.28125 \r\nQ 14.5 37.15625 16.890625 35.375 \r\nQ 19.28125 33.59375 26.515625 31.984375 \r\nL 29.59375 31.296875 \r\nQ 39.15625 29.25 43.1875 25.515625 \r\nQ 47.21875 21.78125 47.21875 15.09375 \r\nQ 47.21875 7.46875 41.1875 3.015625 \r\nQ 35.15625 -1.421875 24.609375 -1.421875 \r\nQ 20.21875 -1.421875 15.453125 -0.5625 \r\nQ 10.6875 0.296875 5.421875 2 \r\nL 5.421875 11.28125 \r\nQ 10.40625 8.6875 15.234375 7.390625 \r\nQ 20.0625 6.109375 24.8125 6.109375 \r\nQ 31.15625 6.109375 34.5625 8.28125 \r\nQ 37.984375 10.453125 37.984375 14.40625 \r\nQ 37.984375 18.0625 35.515625 20.015625 \r\nQ 33.0625 21.96875 24.703125 23.78125 \r\nL 21.578125 24.515625 \r\nQ 13.234375 26.265625 9.515625 29.90625 \r\nQ 5.8125 33.546875 5.8125 39.890625 \r\nQ 5.8125 47.609375 11.28125 51.796875 \r\nQ 16.75 56 26.8125 56 \r\nQ 31.78125 56 36.171875 55.265625 \r\nQ 40.578125 54.546875 44.28125 53.078125 \r\nz\r\n\" id=\"DejaVuSans-115\"/>\r\n     </defs>\r\n     <g transform=\"translate(67.103125 225.548026)scale(0.1 -0.1)\">\r\n      <use xlink:href=\"#DejaVuSans-108\"/>\r\n      <use x=\"27.783203\" xlink:href=\"#DejaVuSans-111\"/>\r\n      <use x=\"88.964844\" xlink:href=\"#DejaVuSans-115\"/>\r\n      <use x=\"141.064453\" xlink:href=\"#DejaVuSans-115\"/>\r\n     </g>\r\n    </g>\r\n    <g id=\"line2d_21\">\r\n     <path d=\"M 39.103125 236.726151 \r\nL 59.103125 236.726151 \r\n\" style=\"fill:none;stroke:#ff7f0e;stroke-linecap:square;stroke-width:1.5;\"/>\r\n    </g>\r\n    <g id=\"line2d_22\"/>\r\n    <g id=\"text_16\">\r\n     <!-- accuracy -->\r\n     <defs>\r\n      <path d=\"M 34.28125 27.484375 \r\nQ 23.390625 27.484375 19.1875 25 \r\nQ 14.984375 22.515625 14.984375 16.5 \r\nQ 14.984375 11.71875 18.140625 8.90625 \r\nQ 21.296875 6.109375 26.703125 6.109375 \r\nQ 34.1875 6.109375 38.703125 11.40625 \r\nQ 43.21875 16.703125 43.21875 25.484375 \r\nL 43.21875 27.484375 \r\nz\r\nM 52.203125 31.203125 \r\nL 52.203125 0 \r\nL 43.21875 0 \r\nL 43.21875 8.296875 \r\nQ 40.140625 3.328125 35.546875 0.953125 \r\nQ 30.953125 -1.421875 24.3125 -1.421875 \r\nQ 15.921875 -1.421875 10.953125 3.296875 \r\nQ 6 8.015625 6 15.921875 \r\nQ 6 25.140625 12.171875 29.828125 \r\nQ 18.359375 34.515625 30.609375 34.515625 \r\nL 43.21875 34.515625 \r\nL 43.21875 35.40625 \r\nQ 43.21875 41.609375 39.140625 45 \r\nQ 35.0625 48.390625 27.6875 48.390625 \r\nQ 23 48.390625 18.546875 47.265625 \r\nQ 14.109375 46.140625 10.015625 43.890625 \r\nL 10.015625 52.203125 \r\nQ 14.9375 54.109375 19.578125 55.046875 \r\nQ 24.21875 56 28.609375 56 \r\nQ 40.484375 56 46.34375 49.84375 \r\nQ 52.203125 43.703125 52.203125 31.203125 \r\nz\r\n\" id=\"DejaVuSans-97\"/>\r\n      <path d=\"M 48.78125 52.59375 \r\nL 48.78125 44.1875 \r\nQ 44.96875 46.296875 41.140625 47.34375 \r\nQ 37.3125 48.390625 33.40625 48.390625 \r\nQ 24.65625 48.390625 19.8125 42.84375 \r\nQ 14.984375 37.3125 14.984375 27.296875 \r\nQ 14.984375 17.28125 19.8125 11.734375 \r\nQ 24.65625 6.203125 33.40625 6.203125 \r\nQ 37.3125 6.203125 41.140625 7.25 \r\nQ 44.96875 8.296875 48.78125 10.40625 \r\nL 48.78125 2.09375 \r\nQ 45.015625 0.34375 40.984375 -0.53125 \r\nQ 36.96875 -1.421875 32.421875 -1.421875 \r\nQ 20.0625 -1.421875 12.78125 6.34375 \r\nQ 5.515625 14.109375 5.515625 27.296875 \r\nQ 5.515625 40.671875 12.859375 48.328125 \r\nQ 20.21875 56 33.015625 56 \r\nQ 37.15625 56 41.109375 55.140625 \r\nQ 45.0625 54.296875 48.78125 52.59375 \r\nz\r\n\" id=\"DejaVuSans-99\"/>\r\n      <path d=\"M 8.5 21.578125 \r\nL 8.5 54.6875 \r\nL 17.484375 54.6875 \r\nL 17.484375 21.921875 \r\nQ 17.484375 14.15625 20.5 10.265625 \r\nQ 23.53125 6.390625 29.59375 6.390625 \r\nQ 36.859375 6.390625 41.078125 11.03125 \r\nQ 45.3125 15.671875 45.3125 23.6875 \r\nL 45.3125 54.6875 \r\nL 54.296875 54.6875 \r\nL 54.296875 0 \r\nL 45.3125 0 \r\nL 45.3125 8.40625 \r\nQ 42.046875 3.421875 37.71875 1 \r\nQ 33.40625 -1.421875 27.6875 -1.421875 \r\nQ 18.265625 -1.421875 13.375 4.4375 \r\nQ 8.5 10.296875 8.5 21.578125 \r\nz\r\nM 31.109375 56 \r\nz\r\n\" id=\"DejaVuSans-117\"/>\r\n      <path d=\"M 41.109375 46.296875 \r\nQ 39.59375 47.171875 37.8125 47.578125 \r\nQ 36.03125 48 33.890625 48 \r\nQ 26.265625 48 22.1875 43.046875 \r\nQ 18.109375 38.09375 18.109375 28.8125 \r\nL 18.109375 0 \r\nL 9.078125 0 \r\nL 9.078125 54.6875 \r\nL 18.109375 54.6875 \r\nL 18.109375 46.1875 \r\nQ 20.953125 51.171875 25.484375 53.578125 \r\nQ 30.03125 56 36.53125 56 \r\nQ 37.453125 56 38.578125 55.875 \r\nQ 39.703125 55.765625 41.0625 55.515625 \r\nz\r\n\" id=\"DejaVuSans-114\"/>\r\n      <path d=\"M 32.171875 -5.078125 \r\nQ 28.375 -14.84375 24.75 -17.8125 \r\nQ 21.140625 -20.796875 15.09375 -20.796875 \r\nL 7.90625 -20.796875 \r\nL 7.90625 -13.28125 \r\nL 13.1875 -13.28125 \r\nQ 16.890625 -13.28125 18.9375 -11.515625 \r\nQ 21 -9.765625 23.484375 -3.21875 \r\nL 25.09375 0.875 \r\nL 2.984375 54.6875 \r\nL 12.5 54.6875 \r\nL 29.59375 11.921875 \r\nL 46.6875 54.6875 \r\nL 56.203125 54.6875 \r\nz\r\n\" id=\"DejaVuSans-121\"/>\r\n     </defs>\r\n     <g transform=\"translate(67.103125 240.226151)scale(0.1 -0.1)\">\r\n      <use xlink:href=\"#DejaVuSans-97\"/>\r\n      <use x=\"61.279297\" xlink:href=\"#DejaVuSans-99\"/>\r\n      <use x=\"116.259766\" xlink:href=\"#DejaVuSans-99\"/>\r\n      <use x=\"171.240234\" xlink:href=\"#DejaVuSans-117\"/>\r\n      <use x=\"234.619141\" xlink:href=\"#DejaVuSans-114\"/>\r\n      <use x=\"275.732422\" xlink:href=\"#DejaVuSans-97\"/>\r\n      <use x=\"337.011719\" xlink:href=\"#DejaVuSans-99\"/>\r\n      <use x=\"391.992188\" xlink:href=\"#DejaVuSans-121\"/>\r\n     </g>\r\n    </g>\r\n    <g id=\"line2d_23\">\r\n     <path d=\"M 39.103125 251.404276 \r\nL 59.103125 251.404276 \r\n\" style=\"fill:none;stroke:#2ca02c;stroke-linecap:square;stroke-width:1.5;\"/>\r\n    </g>\r\n    <g id=\"line2d_24\"/>\r\n    <g id=\"text_17\">\r\n     <!-- val_loss -->\r\n     <defs>\r\n      <path d=\"M 2.984375 54.6875 \r\nL 12.5 54.6875 \r\nL 29.59375 8.796875 \r\nL 46.6875 54.6875 \r\nL 56.203125 54.6875 \r\nL 35.6875 0 \r\nL 23.484375 0 \r\nz\r\n\" id=\"DejaVuSans-118\"/>\r\n      <path d=\"M 50.984375 -16.609375 \r\nL 50.984375 -23.578125 \r\nL -0.984375 -23.578125 \r\nL -0.984375 -16.609375 \r\nz\r\n\" id=\"DejaVuSans-95\"/>\r\n     </defs>\r\n     <g transform=\"translate(67.103125 254.904276)scale(0.1 -0.1)\">\r\n      <use xlink:href=\"#DejaVuSans-118\"/>\r\n      <use x=\"59.179688\" xlink:href=\"#DejaVuSans-97\"/>\r\n      <use x=\"120.458984\" xlink:href=\"#DejaVuSans-108\"/>\r\n      <use x=\"148.242188\" xlink:href=\"#DejaVuSans-95\"/>\r\n      <use x=\"198.242188\" xlink:href=\"#DejaVuSans-108\"/>\r\n      <use x=\"226.025391\" xlink:href=\"#DejaVuSans-111\"/>\r\n      <use x=\"287.207031\" xlink:href=\"#DejaVuSans-115\"/>\r\n      <use x=\"339.306641\" xlink:href=\"#DejaVuSans-115\"/>\r\n     </g>\r\n    </g>\r\n    <g id=\"line2d_25\">\r\n     <path d=\"M 39.103125 266.360526 \r\nL 59.103125 266.360526 \r\n\" style=\"fill:none;stroke:#d62728;stroke-linecap:square;stroke-width:1.5;\"/>\r\n    </g>\r\n    <g id=\"line2d_26\"/>\r\n    <g id=\"text_18\">\r\n     <!-- val_accuracy -->\r\n     <g transform=\"translate(67.103125 269.860526)scale(0.1 -0.1)\">\r\n      <use xlink:href=\"#DejaVuSans-118\"/>\r\n      <use x=\"59.179688\" xlink:href=\"#DejaVuSans-97\"/>\r\n      <use x=\"120.458984\" xlink:href=\"#DejaVuSans-108\"/>\r\n      <use x=\"148.242188\" xlink:href=\"#DejaVuSans-95\"/>\r\n      <use x=\"198.242188\" xlink:href=\"#DejaVuSans-97\"/>\r\n      <use x=\"259.521484\" xlink:href=\"#DejaVuSans-99\"/>\r\n      <use x=\"314.501953\" xlink:href=\"#DejaVuSans-99\"/>\r\n      <use x=\"369.482422\" xlink:href=\"#DejaVuSans-117\"/>\r\n      <use x=\"432.861328\" xlink:href=\"#DejaVuSans-114\"/>\r\n      <use x=\"473.974609\" xlink:href=\"#DejaVuSans-97\"/>\r\n      <use x=\"535.253906\" xlink:href=\"#DejaVuSans-99\"/>\r\n      <use x=\"590.234375\" xlink:href=\"#DejaVuSans-121\"/>\r\n     </g>\r\n    </g>\r\n   </g>\r\n  </g>\r\n </g>\r\n <defs>\r\n  <clipPath id=\"pe6bc893a05\">\r\n   <rect height=\"271.8\" width=\"446.4\" x=\"30.103125\" y=\"9.418338\"/>\r\n  </clipPath>\r\n </defs>\r\n</svg>\r\n",
      "image/png": "[encoded data removed]"
     },
     "metadata": {
      "needs_background": "light"
     }
    }
   ],
   "source": [
    "pd.DataFrame(history.history).plot(figsize=(8,5));"
   ]
  },
  {
   "cell_type": "code",
   "execution_count": 134,
   "metadata": {},
   "outputs": [],
   "source": [
    "pred = model.predict(X_test)\n",
    "predict = np.where(pred >= 0.5 , 1, 0)"
   ]
  },
  {
   "cell_type": "code",
   "execution_count": 38,
   "metadata": {},
   "outputs": [
    {
     "output_type": "error",
     "ename": "NameError",
     "evalue": "name 'predict' is not defined",
     "traceback": [
      "\u001b[1;31m---------------------------------------------------------------------------\u001b[0m",
      "\u001b[1;31mNameError\u001b[0m                                 Traceback (most recent call last)",
      "\u001b[1;32m<ipython-input-38-805ab25c0628>\u001b[0m in \u001b[0;36m<module>\u001b[1;34m\u001b[0m\n\u001b[0;32m      2\u001b[0m \u001b[1;32mfrom\u001b[0m \u001b[0msklearn\u001b[0m \u001b[1;32mimport\u001b[0m \u001b[0mmetrics\u001b[0m\u001b[1;33m\u001b[0m\u001b[1;33m\u001b[0m\u001b[0m\n\u001b[0;32m      3\u001b[0m \u001b[1;31m# y_test.argmax(axis=1) transform one-hot back to category\u001b[0m\u001b[1;33m\u001b[0m\u001b[1;33m\u001b[0m\u001b[1;33m\u001b[0m\u001b[0m\n\u001b[1;32m----> 4\u001b[1;33m \u001b[0mprint\u001b[0m\u001b[1;33m(\u001b[0m\u001b[0mmetrics\u001b[0m\u001b[1;33m.\u001b[0m\u001b[0mconfusion_matrix\u001b[0m\u001b[1;33m(\u001b[0m\u001b[0my_test\u001b[0m\u001b[1;33m,\u001b[0m\u001b[0mpredict\u001b[0m\u001b[1;33m)\u001b[0m\u001b[1;33m)\u001b[0m\u001b[1;33m\u001b[0m\u001b[1;33m\u001b[0m\u001b[0m\n\u001b[0m\u001b[0;32m      5\u001b[0m \u001b[0mprint\u001b[0m\u001b[1;33m(\u001b[0m\u001b[0mmetrics\u001b[0m\u001b[1;33m.\u001b[0m\u001b[0mclassification_report\u001b[0m\u001b[1;33m(\u001b[0m\u001b[0my_test\u001b[0m\u001b[1;33m,\u001b[0m\u001b[0mpredict\u001b[0m\u001b[1;33m)\u001b[0m\u001b[1;33m)\u001b[0m\u001b[1;33m\u001b[0m\u001b[1;33m\u001b[0m\u001b[0m\n",
      "\u001b[1;31mNameError\u001b[0m: name 'predict' is not defined"
     ]
    }
   ],
   "source": [
    "# Evaluate\n",
    "from sklearn import metrics\n",
    "# y_test.argmax(axis=1) transform one-hot back to category \n",
    "print(metrics.confusion_matrix(y_test,predict))\n",
    "print(metrics.classification_report(y_test,predict))"
   ]
  },
  {
   "cell_type": "code",
   "execution_count": 70,
   "metadata": {},
   "outputs": [],
   "source": [
    "import nltk\n",
    "#nltk.download('wordnet')\n",
    "from nltk.stem import WordNetLemmatizer\n",
    "from sklearn.base import TransformerMixin, BaseEstimator\n",
    "\n",
    "class Lemmatizer(BaseEstimator, TransformerMixin):\n",
    "    def __init__(self):\n",
    "        self.lemmatizer = WordNetLemmatizer()\n",
    "\n",
    "    def fit(self, X, y=None):\n",
    "        return self\n",
    "\n",
    "    def transform(self, X):\n",
    "        return  X.apply(lambda text: \" \".join([self.lemmatizer.lemmatize(word) for word in text.split()]))"
   ]
  },
  {
   "cell_type": "code",
   "execution_count": 9,
   "metadata": {},
   "outputs": [],
   "source": [
    "import numpy as np\n",
    "import spacy\n",
    "nlp = spacy.load('en_core_web_md')\n",
    "from sklearn.base import TransformerMixin, BaseEstimator\n",
    "\n",
    "class Doc2Vec(BaseEstimator, TransformerMixin):\n",
    "    def __init__(self, nlp, doc='doc'):\n",
    "        self.doc = doc\n",
    "        self.nlp = nlp\n",
    "\n",
    "    def fit(self, X, y):\n",
    "        return self\n",
    "\n",
    "    def transform(self, X):\n",
    "        if self.doc == 'word':\n",
    "            # return a vector for each word\n",
    "            # need more work\n",
    "            vec = X.apply(lambda text: np.array([self.nlp(w).vector for w in text]) )\n",
    "        elif self.doc == 'sentense':\n",
    "            # return a vector for each sentense\n",
    "            # need more work\n",
    "            vec = X.apply(lambda text: np.array([self.nlp(s).vector for s in text.split('.')]) )\n",
    "        else:\n",
    "            # return a vector for the whole doc \n",
    "            vec = X.apply(lambda text: np.array(self.nlp(text).vector))\n",
    "            #vec = np.array([self.nlp(text).vector for text in X])\n",
    "        return  pd.DataFrame(vec.values.tolist(), index=vec.index)"
   ]
  },
  {
   "cell_type": "code",
   "execution_count": 34,
   "metadata": {},
   "outputs": [
    {
     "output_type": "execute_result",
     "data": {
      "text/plain": [
       "5074     Don’t we need to do a lot more about our socia...\n",
       "8767     David Jackson USA TODAY President Obama says h...\n",
       "6519     President Biden is introducing a policy that w...\n",
       "345      8 years ago Washington (CNN) – Scroll through ...\n",
       "7654     Polling numbers are starting to roll in after ...\n",
       "                               ...                        \n",
       "2988     The California Senate on Wednesday approved a ...\n",
       "3416     You may have heard that White House tours were...\n",
       "2299     Senate Democrats are considering holding a vot...\n",
       "10230    HONOLULU — President Obama celebrated a low-ke...\n",
       "9035     Protestors in South Africa, thought to be affi...\n",
       "Name: text, Length: 2860, dtype: object"
      ]
     },
     "metadata": {},
     "execution_count": 34
    }
   ],
   "source": [
    "X_train"
   ]
  },
  {
   "cell_type": "code",
   "execution_count": 65,
   "metadata": {},
   "outputs": [
    {
     "output_type": "stream",
     "name": "stdout",
     "text": [
      "Fitting 5 folds for each of 2 candidates, totalling 10 fits\n",
      "[Parallel(n_jobs=5)]: Using backend LokyBackend with 5 concurrent workers.\n",
      "[Parallel(n_jobs=5)]: Done   5 out of  10 | elapsed:  1.2min remaining:  1.2min\n",
      "[Parallel(n_jobs=5)]: Done  10 out of  10 | elapsed:  3.4min finished\n",
      "{'svc__C': 0.75, 'svc__kernel': 'linear', 'tfidf__max_df': 0.95, 'tfidf__max_features': 2000, 'tfidf__min_df': 2, 'tfidf__ngram_range': (1, 2)}\n",
      "0.7954545454545455\n"
     ]
    }
   ],
   "source": [
    "from sklearn.pipeline import Pipeline\n",
    "from sklearn.model_selection import GridSearchCV\n",
    "from sklearn.svm import SVC\n",
    "from sklearn.svm import LinearSVC\n",
    "\n",
    "from sklearn.preprocessing import MaxAbsScaler\n",
    "from sklearn.preprocessing import Normalizer\n",
    "\n",
    "pipe_lsvc = Pipeline([\n",
    "    ('lemma', Lemmatizer()),\n",
    "    ('tfidf', TfidfVectorizer(preprocessor=clean_text)),\n",
    "    #('scale', MaxAbsScaler()),\n",
    "    #('norm', Normalizer()),\n",
    "    #('d2v', Doc2Vec(nlp)),\n",
    "    ('svc', SVC())\n",
    "    #('lsvc', LinearSVC())\n",
    "])\n",
    "\n",
    "param_grid_lsvc = [{\n",
    "    'tfidf__max_df': [0.95],\n",
    "    'tfidf__min_df': [2],\n",
    "    'tfidf__max_features': [2000],\n",
    "    'tfidf__ngram_range': [(1, 2)],\n",
    "    'svc__kernel': ['linear'], # 'rbf' require scaling\n",
    "    'svc__C': [0.75],\n",
    "}]\n",
    "\n",
    "grid_svc = GridSearchCV(pipe_lsvc, param_grid_lsvc, \n",
    "                    scoring='accuracy', \n",
    "                    cv=5,\n",
    "                    n_jobs=5,\n",
    "                    verbose=3)\n",
    "\n",
    "grid_svc.fit(X_train, y_train)\n",
    "print(grid_svc.best_params_)\n",
    "print(grid_svc.best_score_)"
   ]
  },
  {
   "cell_type": "code",
   "execution_count": 69,
   "metadata": {},
   "outputs": [
    {
     "output_type": "execute_result",
     "data": {
      "text/plain": [
       "['models/opinion_tfidf_svc_2000.pkl']"
      ]
     },
     "metadata": {},
     "execution_count": 69
    }
   ],
   "source": [
    "import joblib\n",
    "joblib.dump(grid_svc, 'models/opinion_tfidf_svc_2000.pkl')"
   ]
  },
  {
   "cell_type": "code",
   "execution_count": 66,
   "metadata": {},
   "outputs": [
    {
     "output_type": "stream",
     "name": "stdout",
     "text": [
      "[[483  32]\n [128  72]]\n              precision    recall  f1-score   support\n\n         0.0       0.79      0.94      0.86       515\n         1.0       0.69      0.36      0.47       200\n\n    accuracy                           0.78       715\n   macro avg       0.74      0.65      0.67       715\nweighted avg       0.76      0.78      0.75       715\n\n"
     ]
    }
   ],
   "source": [
    "from sklearn import metrics\n",
    "pred = grid_lsvc.predict(X_test)\n",
    "#predict = np.where(pred >= 0.5 , 1, 0)\n",
    "print(metrics.confusion_matrix(y_test,pred))\n",
    "print(metrics.classification_report(y_test,pred))"
   ]
  },
  {
   "cell_type": "code",
   "execution_count": 122,
   "metadata": {},
   "outputs": [
    {
     "output_type": "display_data",
     "data": {
      "text/plain": "<Figure size 432x288 with 1 Axes>",
      "image/svg+xml": "<?xml version=\"1.0\" encoding=\"utf-8\" standalone=\"no\"?>\r\n<!DOCTYPE svg PUBLIC \"-//W3C//DTD SVG 1.1//EN\"\r\n  \"http://www.w3.org/Graphics/SVG/1.1/DTD/svg11.dtd\">\r\n<!-- Created with matplotlib (https://matplotlib.org/) -->\r\n<svg height=\"254.743125pt\" version=\"1.1\" viewBox=\"0 0 381.65 254.743125\" width=\"381.65pt\" xmlns=\"http://www.w3.org/2000/svg\" xmlns:xlink=\"http://www.w3.org/1999/xlink\">\r\n <defs>\r\n  <style type=\"text/css\">\r\n*{stroke-linecap:butt;stroke-linejoin:round;}\r\n  </style>\r\n </defs>\r\n <g id=\"figure_1\">\r\n  <g id=\"patch_1\">\r\n   <path d=\"M -0 254.743125 \r\nL 381.65 254.743125 \r\nL 381.65 0 \r\nL -0 0 \r\nz\r\n\" style=\"fill:none;\"/>\r\n  </g>\r\n  <g id=\"axes_1\">\r\n   <g id=\"patch_2\">\r\n    <path d=\"M 39.65 224.64 \r\nL 374.45 224.64 \r\nL 374.45 7.2 \r\nL 39.65 7.2 \r\nz\r\n\" style=\"fill:#ffffff;\"/>\r\n   </g>\r\n   <g id=\"patch_3\">\r\n    <path clip-path=\"url(#p9b9ece82e8)\" d=\"M 81.5 224.64 \r\nL 165.2 224.64 \r\nL 165.2 17.554286 \r\nL 81.5 17.554286 \r\nz\r\n\" style=\"fill:#1f77b4;\"/>\r\n   </g>\r\n   <g id=\"patch_4\">\r\n    <path clip-path=\"url(#p9b9ece82e8)\" d=\"M 248.9 224.64 \r\nL 332.6 224.64 \r\nL 332.6 148.616181 \r\nL 248.9 148.616181 \r\nz\r\n\" style=\"fill:#1f77b4;\"/>\r\n   </g>\r\n   <g id=\"matplotlib.axis_1\">\r\n    <g id=\"xtick_1\">\r\n     <g id=\"line2d_1\">\r\n      <defs>\r\n       <path d=\"M 0 0 \r\nL 0 3.5 \r\n\" id=\"mf22b54d6bc\" style=\"stroke:#000000;stroke-width:0.8;\"/>\r\n      </defs>\r\n      <g>\r\n       <use style=\"stroke:#000000;stroke-width:0.8;\" x=\"123.35\" xlink:href=\"#mf22b54d6bc\" y=\"224.64\"/>\r\n      </g>\r\n     </g>\r\n     <g id=\"text_1\">\r\n      <!-- 0.0 -->\r\n      <defs>\r\n       <path d=\"M 31.78125 66.40625 \r\nQ 24.171875 66.40625 20.328125 58.90625 \r\nQ 16.5 51.421875 16.5 36.375 \r\nQ 16.5 21.390625 20.328125 13.890625 \r\nQ 24.171875 6.390625 31.78125 6.390625 \r\nQ 39.453125 6.390625 43.28125 13.890625 \r\nQ 47.125 21.390625 47.125 36.375 \r\nQ 47.125 51.421875 43.28125 58.90625 \r\nQ 39.453125 66.40625 31.78125 66.40625 \r\nz\r\nM 31.78125 74.21875 \r\nQ 44.046875 74.21875 50.515625 64.515625 \r\nQ 56.984375 54.828125 56.984375 36.375 \r\nQ 56.984375 17.96875 50.515625 8.265625 \r\nQ 44.046875 -1.421875 31.78125 -1.421875 \r\nQ 19.53125 -1.421875 13.0625 8.265625 \r\nQ 6.59375 17.96875 6.59375 36.375 \r\nQ 6.59375 54.828125 13.0625 64.515625 \r\nQ 19.53125 74.21875 31.78125 74.21875 \r\nz\r\n\" id=\"DejaVuSans-48\"/>\r\n       <path d=\"M 10.6875 12.40625 \r\nL 21 12.40625 \r\nL 21 0 \r\nL 10.6875 0 \r\nz\r\n\" id=\"DejaVuSans-46\"/>\r\n      </defs>\r\n      <g transform=\"translate(126.109375 247.543125)rotate(-90)scale(0.1 -0.1)\">\r\n       <use xlink:href=\"#DejaVuSans-48\"/>\r\n       <use x=\"63.623047\" xlink:href=\"#DejaVuSans-46\"/>\r\n       <use x=\"95.410156\" xlink:href=\"#DejaVuSans-48\"/>\r\n      </g>\r\n     </g>\r\n    </g>\r\n    <g id=\"xtick_2\">\r\n     <g id=\"line2d_2\">\r\n      <g>\r\n       <use style=\"stroke:#000000;stroke-width:0.8;\" x=\"290.75\" xlink:href=\"#mf22b54d6bc\" y=\"224.64\"/>\r\n      </g>\r\n     </g>\r\n     <g id=\"text_2\">\r\n      <!-- 1.0 -->\r\n      <defs>\r\n       <path d=\"M 12.40625 8.296875 \r\nL 28.515625 8.296875 \r\nL 28.515625 63.921875 \r\nL 10.984375 60.40625 \r\nL 10.984375 69.390625 \r\nL 28.421875 72.90625 \r\nL 38.28125 72.90625 \r\nL 38.28125 8.296875 \r\nL 54.390625 8.296875 \r\nL 54.390625 0 \r\nL 12.40625 0 \r\nz\r\n\" id=\"DejaVuSans-49\"/>\r\n      </defs>\r\n      <g transform=\"translate(293.509375 247.543125)rotate(-90)scale(0.1 -0.1)\">\r\n       <use xlink:href=\"#DejaVuSans-49\"/>\r\n       <use x=\"63.623047\" xlink:href=\"#DejaVuSans-46\"/>\r\n       <use x=\"95.410156\" xlink:href=\"#DejaVuSans-48\"/>\r\n      </g>\r\n     </g>\r\n    </g>\r\n   </g>\r\n   <g id=\"matplotlib.axis_2\">\r\n    <g id=\"ytick_1\">\r\n     <g id=\"line2d_3\">\r\n      <defs>\r\n       <path d=\"M 0 0 \r\nL -3.5 0 \r\n\" id=\"m7b1fe8700e\" style=\"stroke:#000000;stroke-width:0.8;\"/>\r\n      </defs>\r\n      <g>\r\n       <use style=\"stroke:#000000;stroke-width:0.8;\" x=\"39.65\" xlink:href=\"#m7b1fe8700e\" y=\"224.64\"/>\r\n      </g>\r\n     </g>\r\n     <g id=\"text_3\">\r\n      <!-- 0 -->\r\n      <g transform=\"translate(26.2875 228.439219)scale(0.1 -0.1)\">\r\n       <use xlink:href=\"#DejaVuSans-48\"/>\r\n      </g>\r\n     </g>\r\n    </g>\r\n    <g id=\"ytick_2\">\r\n     <g id=\"line2d_4\">\r\n      <g>\r\n       <use style=\"stroke:#000000;stroke-width:0.8;\" x=\"39.65\" xlink:href=\"#m7b1fe8700e\" y=\"185.044261\"/>\r\n      </g>\r\n     </g>\r\n     <g id=\"text_4\">\r\n      <!-- 500 -->\r\n      <defs>\r\n       <path d=\"M 10.796875 72.90625 \r\nL 49.515625 72.90625 \r\nL 49.515625 64.59375 \r\nL 19.828125 64.59375 \r\nL 19.828125 46.734375 \r\nQ 21.96875 47.46875 24.109375 47.828125 \r\nQ 26.265625 48.1875 28.421875 48.1875 \r\nQ 40.625 48.1875 47.75 41.5 \r\nQ 54.890625 34.8125 54.890625 23.390625 \r\nQ 54.890625 11.625 47.5625 5.09375 \r\nQ 40.234375 -1.421875 26.90625 -1.421875 \r\nQ 22.3125 -1.421875 17.546875 -0.640625 \r\nQ 12.796875 0.140625 7.71875 1.703125 \r\nL 7.71875 11.625 \r\nQ 12.109375 9.234375 16.796875 8.0625 \r\nQ 21.484375 6.890625 26.703125 6.890625 \r\nQ 35.15625 6.890625 40.078125 11.328125 \r\nQ 45.015625 15.765625 45.015625 23.390625 \r\nQ 45.015625 31 40.078125 35.4375 \r\nQ 35.15625 39.890625 26.703125 39.890625 \r\nQ 22.75 39.890625 18.8125 39.015625 \r\nQ 14.890625 38.140625 10.796875 36.28125 \r\nz\r\n\" id=\"DejaVuSans-53\"/>\r\n      </defs>\r\n      <g transform=\"translate(13.5625 188.84348)scale(0.1 -0.1)\">\r\n       <use xlink:href=\"#DejaVuSans-53\"/>\r\n       <use x=\"63.623047\" xlink:href=\"#DejaVuSans-48\"/>\r\n       <use x=\"127.246094\" xlink:href=\"#DejaVuSans-48\"/>\r\n      </g>\r\n     </g>\r\n    </g>\r\n    <g id=\"ytick_3\">\r\n     <g id=\"line2d_5\">\r\n      <g>\r\n       <use style=\"stroke:#000000;stroke-width:0.8;\" x=\"39.65\" xlink:href=\"#m7b1fe8700e\" y=\"145.448522\"/>\r\n      </g>\r\n     </g>\r\n     <g id=\"text_5\">\r\n      <!-- 1000 -->\r\n      <g transform=\"translate(7.2 149.247741)scale(0.1 -0.1)\">\r\n       <use xlink:href=\"#DejaVuSans-49\"/>\r\n       <use x=\"63.623047\" xlink:href=\"#DejaVuSans-48\"/>\r\n       <use x=\"127.246094\" xlink:href=\"#DejaVuSans-48\"/>\r\n       <use x=\"190.869141\" xlink:href=\"#DejaVuSans-48\"/>\r\n      </g>\r\n     </g>\r\n    </g>\r\n    <g id=\"ytick_4\">\r\n     <g id=\"line2d_6\">\r\n      <g>\r\n       <use style=\"stroke:#000000;stroke-width:0.8;\" x=\"39.65\" xlink:href=\"#m7b1fe8700e\" y=\"105.852783\"/>\r\n      </g>\r\n     </g>\r\n     <g id=\"text_6\">\r\n      <!-- 1500 -->\r\n      <g transform=\"translate(7.2 109.652002)scale(0.1 -0.1)\">\r\n       <use xlink:href=\"#DejaVuSans-49\"/>\r\n       <use x=\"63.623047\" xlink:href=\"#DejaVuSans-53\"/>\r\n       <use x=\"127.246094\" xlink:href=\"#DejaVuSans-48\"/>\r\n       <use x=\"190.869141\" xlink:href=\"#DejaVuSans-48\"/>\r\n      </g>\r\n     </g>\r\n    </g>\r\n    <g id=\"ytick_5\">\r\n     <g id=\"line2d_7\">\r\n      <g>\r\n       <use style=\"stroke:#000000;stroke-width:0.8;\" x=\"39.65\" xlink:href=\"#m7b1fe8700e\" y=\"66.257045\"/>\r\n      </g>\r\n     </g>\r\n     <g id=\"text_7\">\r\n      <!-- 2000 -->\r\n      <defs>\r\n       <path d=\"M 19.1875 8.296875 \r\nL 53.609375 8.296875 \r\nL 53.609375 0 \r\nL 7.328125 0 \r\nL 7.328125 8.296875 \r\nQ 12.9375 14.109375 22.625 23.890625 \r\nQ 32.328125 33.6875 34.8125 36.53125 \r\nQ 39.546875 41.84375 41.421875 45.53125 \r\nQ 43.3125 49.21875 43.3125 52.78125 \r\nQ 43.3125 58.59375 39.234375 62.25 \r\nQ 35.15625 65.921875 28.609375 65.921875 \r\nQ 23.96875 65.921875 18.8125 64.3125 \r\nQ 13.671875 62.703125 7.8125 59.421875 \r\nL 7.8125 69.390625 \r\nQ 13.765625 71.78125 18.9375 73 \r\nQ 24.125 74.21875 28.421875 74.21875 \r\nQ 39.75 74.21875 46.484375 68.546875 \r\nQ 53.21875 62.890625 53.21875 53.421875 \r\nQ 53.21875 48.921875 51.53125 44.890625 \r\nQ 49.859375 40.875 45.40625 35.40625 \r\nQ 44.1875 33.984375 37.640625 27.21875 \r\nQ 31.109375 20.453125 19.1875 8.296875 \r\nz\r\n\" id=\"DejaVuSans-50\"/>\r\n      </defs>\r\n      <g transform=\"translate(7.2 70.056263)scale(0.1 -0.1)\">\r\n       <use xlink:href=\"#DejaVuSans-50\"/>\r\n       <use x=\"63.623047\" xlink:href=\"#DejaVuSans-48\"/>\r\n       <use x=\"127.246094\" xlink:href=\"#DejaVuSans-48\"/>\r\n       <use x=\"190.869141\" xlink:href=\"#DejaVuSans-48\"/>\r\n      </g>\r\n     </g>\r\n    </g>\r\n    <g id=\"ytick_6\">\r\n     <g id=\"line2d_8\">\r\n      <g>\r\n       <use style=\"stroke:#000000;stroke-width:0.8;\" x=\"39.65\" xlink:href=\"#m7b1fe8700e\" y=\"26.661306\"/>\r\n      </g>\r\n     </g>\r\n     <g id=\"text_8\">\r\n      <!-- 2500 -->\r\n      <g transform=\"translate(7.2 30.460524)scale(0.1 -0.1)\">\r\n       <use xlink:href=\"#DejaVuSans-50\"/>\r\n       <use x=\"63.623047\" xlink:href=\"#DejaVuSans-53\"/>\r\n       <use x=\"127.246094\" xlink:href=\"#DejaVuSans-48\"/>\r\n       <use x=\"190.869141\" xlink:href=\"#DejaVuSans-48\"/>\r\n      </g>\r\n     </g>\r\n    </g>\r\n   </g>\r\n   <g id=\"patch_5\">\r\n    <path d=\"M 39.65 224.64 \r\nL 39.65 7.2 \r\n\" style=\"fill:none;stroke:#000000;stroke-linecap:square;stroke-linejoin:miter;stroke-width:0.8;\"/>\r\n   </g>\r\n   <g id=\"patch_6\">\r\n    <path d=\"M 374.45 224.64 \r\nL 374.45 7.2 \r\n\" style=\"fill:none;stroke:#000000;stroke-linecap:square;stroke-linejoin:miter;stroke-width:0.8;\"/>\r\n   </g>\r\n   <g id=\"patch_7\">\r\n    <path d=\"M 39.65 224.64 \r\nL 374.45 224.64 \r\n\" style=\"fill:none;stroke:#000000;stroke-linecap:square;stroke-linejoin:miter;stroke-width:0.8;\"/>\r\n   </g>\r\n   <g id=\"patch_8\">\r\n    <path d=\"M 39.65 7.2 \r\nL 374.45 7.2 \r\n\" style=\"fill:none;stroke:#000000;stroke-linecap:square;stroke-linejoin:miter;stroke-width:0.8;\"/>\r\n   </g>\r\n  </g>\r\n </g>\r\n <defs>\r\n  <clipPath id=\"p9b9ece82e8\">\r\n   <rect height=\"217.44\" width=\"334.8\" x=\"39.65\" y=\"7.2\"/>\r\n  </clipPath>\r\n </defs>\r\n</svg>\r\n",
      "image/png": "[encoded data removed]"
     },
     "metadata": {
      "needs_background": "light"
     }
    }
   ],
   "source": [
    "df.opinion.value_counts().plot(kind='bar');"
   ]
  },
  {
   "cell_type": "code",
   "execution_count": 127,
   "metadata": {},
   "outputs": [
    {
     "output_type": "display_data",
     "data": {
      "text/plain": "<Figure size 432x288 with 1 Axes>",
      "image/svg+xml": "<?xml version=\"1.0\" encoding=\"utf-8\" standalone=\"no\"?>\r\n<!DOCTYPE svg PUBLIC \"-//W3C//DTD SVG 1.1//EN\"\r\n  \"http://www.w3.org/Graphics/SVG/1.1/DTD/svg11.dtd\">\r\n<!-- Created with matplotlib (https://matplotlib.org/) -->\r\n<svg height=\"254.743125pt\" version=\"1.1\" viewBox=\"0 0 381.65 254.743125\" width=\"381.65pt\" xmlns=\"http://www.w3.org/2000/svg\" xmlns:xlink=\"http://www.w3.org/1999/xlink\">\r\n <defs>\r\n  <style type=\"text/css\">\r\n*{stroke-linecap:butt;stroke-linejoin:round;}\r\n  </style>\r\n </defs>\r\n <g id=\"figure_1\">\r\n  <g id=\"patch_1\">\r\n   <path d=\"M -0 254.743125 \r\nL 381.65 254.743125 \r\nL 381.65 0 \r\nL -0 0 \r\nz\r\n\" style=\"fill:none;\"/>\r\n  </g>\r\n  <g id=\"axes_1\">\r\n   <g id=\"patch_2\">\r\n    <path d=\"M 39.65 224.64 \r\nL 374.45 224.64 \r\nL 374.45 7.2 \r\nL 39.65 7.2 \r\nz\r\n\" style=\"fill:#ffffff;\"/>\r\n   </g>\r\n   <g id=\"patch_3\">\r\n    <path clip-path=\"url(#pe196db2daf)\" d=\"M 81.5 224.64 \r\nL 165.2 224.64 \r\nL 165.2 17.554286 \r\nL 81.5 17.554286 \r\nz\r\n\" style=\"fill:#1f77b4;\"/>\r\n   </g>\r\n   <g id=\"patch_4\">\r\n    <path clip-path=\"url(#pe196db2daf)\" d=\"M 248.9 224.64 \r\nL 332.6 224.64 \r\nL 332.6 34.580453 \r\nL 248.9 34.580453 \r\nz\r\n\" style=\"fill:#1f77b4;\"/>\r\n   </g>\r\n   <g id=\"matplotlib.axis_1\">\r\n    <g id=\"xtick_1\">\r\n     <g id=\"line2d_1\">\r\n      <defs>\r\n       <path d=\"M 0 0 \r\nL 0 3.5 \r\n\" id=\"maa3c954fab\" style=\"stroke:#000000;stroke-width:0.8;\"/>\r\n      </defs>\r\n      <g>\r\n       <use style=\"stroke:#000000;stroke-width:0.8;\" x=\"123.35\" xlink:href=\"#maa3c954fab\" y=\"224.64\"/>\r\n      </g>\r\n     </g>\r\n     <g id=\"text_1\">\r\n      <!-- 0.0 -->\r\n      <defs>\r\n       <path d=\"M 31.78125 66.40625 \r\nQ 24.171875 66.40625 20.328125 58.90625 \r\nQ 16.5 51.421875 16.5 36.375 \r\nQ 16.5 21.390625 20.328125 13.890625 \r\nQ 24.171875 6.390625 31.78125 6.390625 \r\nQ 39.453125 6.390625 43.28125 13.890625 \r\nQ 47.125 21.390625 47.125 36.375 \r\nQ 47.125 51.421875 43.28125 58.90625 \r\nQ 39.453125 66.40625 31.78125 66.40625 \r\nz\r\nM 31.78125 74.21875 \r\nQ 44.046875 74.21875 50.515625 64.515625 \r\nQ 56.984375 54.828125 56.984375 36.375 \r\nQ 56.984375 17.96875 50.515625 8.265625 \r\nQ 44.046875 -1.421875 31.78125 -1.421875 \r\nQ 19.53125 -1.421875 13.0625 8.265625 \r\nQ 6.59375 17.96875 6.59375 36.375 \r\nQ 6.59375 54.828125 13.0625 64.515625 \r\nQ 19.53125 74.21875 31.78125 74.21875 \r\nz\r\n\" id=\"DejaVuSans-48\"/>\r\n       <path d=\"M 10.6875 12.40625 \r\nL 21 12.40625 \r\nL 21 0 \r\nL 10.6875 0 \r\nz\r\n\" id=\"DejaVuSans-46\"/>\r\n      </defs>\r\n      <g transform=\"translate(126.109375 247.543125)rotate(-90)scale(0.1 -0.1)\">\r\n       <use xlink:href=\"#DejaVuSans-48\"/>\r\n       <use x=\"63.623047\" xlink:href=\"#DejaVuSans-46\"/>\r\n       <use x=\"95.410156\" xlink:href=\"#DejaVuSans-48\"/>\r\n      </g>\r\n     </g>\r\n    </g>\r\n    <g id=\"xtick_2\">\r\n     <g id=\"line2d_2\">\r\n      <g>\r\n       <use style=\"stroke:#000000;stroke-width:0.8;\" x=\"290.75\" xlink:href=\"#maa3c954fab\" y=\"224.64\"/>\r\n      </g>\r\n     </g>\r\n     <g id=\"text_2\">\r\n      <!-- 1.0 -->\r\n      <defs>\r\n       <path d=\"M 12.40625 8.296875 \r\nL 28.515625 8.296875 \r\nL 28.515625 63.921875 \r\nL 10.984375 60.40625 \r\nL 10.984375 69.390625 \r\nL 28.421875 72.90625 \r\nL 38.28125 72.90625 \r\nL 38.28125 8.296875 \r\nL 54.390625 8.296875 \r\nL 54.390625 0 \r\nL 12.40625 0 \r\nz\r\n\" id=\"DejaVuSans-49\"/>\r\n      </defs>\r\n      <g transform=\"translate(293.509375 247.543125)rotate(-90)scale(0.1 -0.1)\">\r\n       <use xlink:href=\"#DejaVuSans-49\"/>\r\n       <use x=\"63.623047\" xlink:href=\"#DejaVuSans-46\"/>\r\n       <use x=\"95.410156\" xlink:href=\"#DejaVuSans-48\"/>\r\n      </g>\r\n     </g>\r\n    </g>\r\n   </g>\r\n   <g id=\"matplotlib.axis_2\">\r\n    <g id=\"ytick_1\">\r\n     <g id=\"line2d_3\">\r\n      <defs>\r\n       <path d=\"M 0 0 \r\nL -3.5 0 \r\n\" id=\"m5dac3422fa\" style=\"stroke:#000000;stroke-width:0.8;\"/>\r\n      </defs>\r\n      <g>\r\n       <use style=\"stroke:#000000;stroke-width:0.8;\" x=\"39.65\" xlink:href=\"#m5dac3422fa\" y=\"224.64\"/>\r\n      </g>\r\n     </g>\r\n     <g id=\"text_3\">\r\n      <!-- 0 -->\r\n      <g transform=\"translate(26.2875 228.439219)scale(0.1 -0.1)\">\r\n       <use xlink:href=\"#DejaVuSans-48\"/>\r\n      </g>\r\n     </g>\r\n    </g>\r\n    <g id=\"ytick_2\">\r\n     <g id=\"line2d_4\">\r\n      <g>\r\n       <use style=\"stroke:#000000;stroke-width:0.8;\" x=\"39.65\" xlink:href=\"#m5dac3422fa\" y=\"185.044261\"/>\r\n      </g>\r\n     </g>\r\n     <g id=\"text_4\">\r\n      <!-- 200 -->\r\n      <defs>\r\n       <path d=\"M 19.1875 8.296875 \r\nL 53.609375 8.296875 \r\nL 53.609375 0 \r\nL 7.328125 0 \r\nL 7.328125 8.296875 \r\nQ 12.9375 14.109375 22.625 23.890625 \r\nQ 32.328125 33.6875 34.8125 36.53125 \r\nQ 39.546875 41.84375 41.421875 45.53125 \r\nQ 43.3125 49.21875 43.3125 52.78125 \r\nQ 43.3125 58.59375 39.234375 62.25 \r\nQ 35.15625 65.921875 28.609375 65.921875 \r\nQ 23.96875 65.921875 18.8125 64.3125 \r\nQ 13.671875 62.703125 7.8125 59.421875 \r\nL 7.8125 69.390625 \r\nQ 13.765625 71.78125 18.9375 73 \r\nQ 24.125 74.21875 28.421875 74.21875 \r\nQ 39.75 74.21875 46.484375 68.546875 \r\nQ 53.21875 62.890625 53.21875 53.421875 \r\nQ 53.21875 48.921875 51.53125 44.890625 \r\nQ 49.859375 40.875 45.40625 35.40625 \r\nQ 44.1875 33.984375 37.640625 27.21875 \r\nQ 31.109375 20.453125 19.1875 8.296875 \r\nz\r\n\" id=\"DejaVuSans-50\"/>\r\n      </defs>\r\n      <g transform=\"translate(13.5625 188.84348)scale(0.1 -0.1)\">\r\n       <use xlink:href=\"#DejaVuSans-50\"/>\r\n       <use x=\"63.623047\" xlink:href=\"#DejaVuSans-48\"/>\r\n       <use x=\"127.246094\" xlink:href=\"#DejaVuSans-48\"/>\r\n      </g>\r\n     </g>\r\n    </g>\r\n    <g id=\"ytick_3\">\r\n     <g id=\"line2d_5\">\r\n      <g>\r\n       <use style=\"stroke:#000000;stroke-width:0.8;\" x=\"39.65\" xlink:href=\"#m5dac3422fa\" y=\"145.448522\"/>\r\n      </g>\r\n     </g>\r\n     <g id=\"text_5\">\r\n      <!-- 400 -->\r\n      <defs>\r\n       <path d=\"M 37.796875 64.3125 \r\nL 12.890625 25.390625 \r\nL 37.796875 25.390625 \r\nz\r\nM 35.203125 72.90625 \r\nL 47.609375 72.90625 \r\nL 47.609375 25.390625 \r\nL 58.015625 25.390625 \r\nL 58.015625 17.1875 \r\nL 47.609375 17.1875 \r\nL 47.609375 0 \r\nL 37.796875 0 \r\nL 37.796875 17.1875 \r\nL 4.890625 17.1875 \r\nL 4.890625 26.703125 \r\nz\r\n\" id=\"DejaVuSans-52\"/>\r\n      </defs>\r\n      <g transform=\"translate(13.5625 149.247741)scale(0.1 -0.1)\">\r\n       <use xlink:href=\"#DejaVuSans-52\"/>\r\n       <use x=\"63.623047\" xlink:href=\"#DejaVuSans-48\"/>\r\n       <use x=\"127.246094\" xlink:href=\"#DejaVuSans-48\"/>\r\n      </g>\r\n     </g>\r\n    </g>\r\n    <g id=\"ytick_4\">\r\n     <g id=\"line2d_6\">\r\n      <g>\r\n       <use style=\"stroke:#000000;stroke-width:0.8;\" x=\"39.65\" xlink:href=\"#m5dac3422fa\" y=\"105.852783\"/>\r\n      </g>\r\n     </g>\r\n     <g id=\"text_6\">\r\n      <!-- 600 -->\r\n      <defs>\r\n       <path d=\"M 33.015625 40.375 \r\nQ 26.375 40.375 22.484375 35.828125 \r\nQ 18.609375 31.296875 18.609375 23.390625 \r\nQ 18.609375 15.53125 22.484375 10.953125 \r\nQ 26.375 6.390625 33.015625 6.390625 \r\nQ 39.65625 6.390625 43.53125 10.953125 \r\nQ 47.40625 15.53125 47.40625 23.390625 \r\nQ 47.40625 31.296875 43.53125 35.828125 \r\nQ 39.65625 40.375 33.015625 40.375 \r\nz\r\nM 52.59375 71.296875 \r\nL 52.59375 62.3125 \r\nQ 48.875 64.0625 45.09375 64.984375 \r\nQ 41.3125 65.921875 37.59375 65.921875 \r\nQ 27.828125 65.921875 22.671875 59.328125 \r\nQ 17.53125 52.734375 16.796875 39.40625 \r\nQ 19.671875 43.65625 24.015625 45.921875 \r\nQ 28.375 48.1875 33.59375 48.1875 \r\nQ 44.578125 48.1875 50.953125 41.515625 \r\nQ 57.328125 34.859375 57.328125 23.390625 \r\nQ 57.328125 12.15625 50.6875 5.359375 \r\nQ 44.046875 -1.421875 33.015625 -1.421875 \r\nQ 20.359375 -1.421875 13.671875 8.265625 \r\nQ 6.984375 17.96875 6.984375 36.375 \r\nQ 6.984375 53.65625 15.1875 63.9375 \r\nQ 23.390625 74.21875 37.203125 74.21875 \r\nQ 40.921875 74.21875 44.703125 73.484375 \r\nQ 48.484375 72.75 52.59375 71.296875 \r\nz\r\n\" id=\"DejaVuSans-54\"/>\r\n      </defs>\r\n      <g transform=\"translate(13.5625 109.652002)scale(0.1 -0.1)\">\r\n       <use xlink:href=\"#DejaVuSans-54\"/>\r\n       <use x=\"63.623047\" xlink:href=\"#DejaVuSans-48\"/>\r\n       <use x=\"127.246094\" xlink:href=\"#DejaVuSans-48\"/>\r\n      </g>\r\n     </g>\r\n    </g>\r\n    <g id=\"ytick_5\">\r\n     <g id=\"line2d_7\">\r\n      <g>\r\n       <use style=\"stroke:#000000;stroke-width:0.8;\" x=\"39.65\" xlink:href=\"#m5dac3422fa\" y=\"66.257045\"/>\r\n      </g>\r\n     </g>\r\n     <g id=\"text_7\">\r\n      <!-- 800 -->\r\n      <defs>\r\n       <path d=\"M 31.78125 34.625 \r\nQ 24.75 34.625 20.71875 30.859375 \r\nQ 16.703125 27.09375 16.703125 20.515625 \r\nQ 16.703125 13.921875 20.71875 10.15625 \r\nQ 24.75 6.390625 31.78125 6.390625 \r\nQ 38.8125 6.390625 42.859375 10.171875 \r\nQ 46.921875 13.96875 46.921875 20.515625 \r\nQ 46.921875 27.09375 42.890625 30.859375 \r\nQ 38.875 34.625 31.78125 34.625 \r\nz\r\nM 21.921875 38.8125 \r\nQ 15.578125 40.375 12.03125 44.71875 \r\nQ 8.5 49.078125 8.5 55.328125 \r\nQ 8.5 64.0625 14.71875 69.140625 \r\nQ 20.953125 74.21875 31.78125 74.21875 \r\nQ 42.671875 74.21875 48.875 69.140625 \r\nQ 55.078125 64.0625 55.078125 55.328125 \r\nQ 55.078125 49.078125 51.53125 44.71875 \r\nQ 48 40.375 41.703125 38.8125 \r\nQ 48.828125 37.15625 52.796875 32.3125 \r\nQ 56.78125 27.484375 56.78125 20.515625 \r\nQ 56.78125 9.90625 50.3125 4.234375 \r\nQ 43.84375 -1.421875 31.78125 -1.421875 \r\nQ 19.734375 -1.421875 13.25 4.234375 \r\nQ 6.78125 9.90625 6.78125 20.515625 \r\nQ 6.78125 27.484375 10.78125 32.3125 \r\nQ 14.796875 37.15625 21.921875 38.8125 \r\nz\r\nM 18.3125 54.390625 \r\nQ 18.3125 48.734375 21.84375 45.5625 \r\nQ 25.390625 42.390625 31.78125 42.390625 \r\nQ 38.140625 42.390625 41.71875 45.5625 \r\nQ 45.3125 48.734375 45.3125 54.390625 \r\nQ 45.3125 60.0625 41.71875 63.234375 \r\nQ 38.140625 66.40625 31.78125 66.40625 \r\nQ 25.390625 66.40625 21.84375 63.234375 \r\nQ 18.3125 60.0625 18.3125 54.390625 \r\nz\r\n\" id=\"DejaVuSans-56\"/>\r\n      </defs>\r\n      <g transform=\"translate(13.5625 70.056263)scale(0.1 -0.1)\">\r\n       <use xlink:href=\"#DejaVuSans-56\"/>\r\n       <use x=\"63.623047\" xlink:href=\"#DejaVuSans-48\"/>\r\n       <use x=\"127.246094\" xlink:href=\"#DejaVuSans-48\"/>\r\n      </g>\r\n     </g>\r\n    </g>\r\n    <g id=\"ytick_6\">\r\n     <g id=\"line2d_8\">\r\n      <g>\r\n       <use style=\"stroke:#000000;stroke-width:0.8;\" x=\"39.65\" xlink:href=\"#m5dac3422fa\" y=\"26.661306\"/>\r\n      </g>\r\n     </g>\r\n     <g id=\"text_8\">\r\n      <!-- 1000 -->\r\n      <g transform=\"translate(7.2 30.460524)scale(0.1 -0.1)\">\r\n       <use xlink:href=\"#DejaVuSans-49\"/>\r\n       <use x=\"63.623047\" xlink:href=\"#DejaVuSans-48\"/>\r\n       <use x=\"127.246094\" xlink:href=\"#DejaVuSans-48\"/>\r\n       <use x=\"190.869141\" xlink:href=\"#DejaVuSans-48\"/>\r\n      </g>\r\n     </g>\r\n    </g>\r\n   </g>\r\n   <g id=\"patch_5\">\r\n    <path d=\"M 39.65 224.64 \r\nL 39.65 7.2 \r\n\" style=\"fill:none;stroke:#000000;stroke-linecap:square;stroke-linejoin:miter;stroke-width:0.8;\"/>\r\n   </g>\r\n   <g id=\"patch_6\">\r\n    <path d=\"M 374.45 224.64 \r\nL 374.45 7.2 \r\n\" style=\"fill:none;stroke:#000000;stroke-linecap:square;stroke-linejoin:miter;stroke-width:0.8;\"/>\r\n   </g>\r\n   <g id=\"patch_7\">\r\n    <path d=\"M 39.65 224.64 \r\nL 374.45 224.64 \r\n\" style=\"fill:none;stroke:#000000;stroke-linecap:square;stroke-linejoin:miter;stroke-width:0.8;\"/>\r\n   </g>\r\n   <g id=\"patch_8\">\r\n    <path d=\"M 39.65 7.2 \r\nL 374.45 7.2 \r\n\" style=\"fill:none;stroke:#000000;stroke-linecap:square;stroke-linejoin:miter;stroke-width:0.8;\"/>\r\n   </g>\r\n  </g>\r\n </g>\r\n <defs>\r\n  <clipPath id=\"pe196db2daf\">\r\n   <rect height=\"217.44\" width=\"334.8\" x=\"39.65\" y=\"7.2\"/>\r\n  </clipPath>\r\n </defs>\r\n</svg>\r\n",
      "image/png": "[encoded data removed]"
     },
     "metadata": {
      "needs_background": "light"
     }
    }
   ],
   "source": [
    "dx = df.drop(df['opinion'][df['opinion'] == 0].sample(frac=0.60, random_state=42).index)\n",
    "dx.opinion.value_counts().plot(kind='bar');"
   ]
  },
  {
   "cell_type": "code",
   "execution_count": 128,
   "metadata": {},
   "outputs": [
    {
     "output_type": "execute_result",
     "data": {
      "text/plain": [
       "(2006,)"
      ]
     },
     "metadata": {},
     "execution_count": 128
    }
   ],
   "source": [
    "from keras.utils import to_categorical\n",
    "\n",
    "X = tfidf.fit_transform(dx[\"text\"]).toarray()\n",
    "#y = to_categorical(df[[\"right\",\"left\"]])\n",
    "#y = to_categorical(df[\"opinion\"])\n",
    "#y = to_categorical(sub['republican.vote'])\n",
    "y = dx[\"opinion\"]\n",
    "\n",
    "X_train, X_test, y_train, y_test = train_test_split(X, y, test_size=0.2, random_state=42)\n",
    "np.shape(X_train)\n",
    "np.shape(y)"
   ]
  },
  {
   "cell_type": "code",
   "execution_count": 167,
   "metadata": {},
   "outputs": [
    {
     "output_type": "stream",
     "name": "stderr",
     "text": [
      "[nltk_data] Downloading package vader_lexicon to\n[nltk_data]     C:\\Users\\user\\AppData\\Roaming\\nltk_data...\n[nltk_data]   Package vader_lexicon is already up-to-date!\n"
     ]
    }
   ],
   "source": [
    "import statsmodels.api as sm\n",
    "import statistics\n",
    "import nltk\n",
    "nltk.download('vader_lexicon')\n",
    "\n",
    "from nltk.sentiment.vader import SentimentIntensityAnalyzer\n",
    "sid = SentimentIntensityAnalyzer()"
   ]
  },
  {
   "cell_type": "code",
   "execution_count": 231,
   "metadata": {},
   "outputs": [],
   "source": [
    "def get_sentences(text, words):\n",
    "    # take text and test every sentences for a list of words\n",
    "    # if any word from the list in a sentence, join thoses sentenses into a list\n",
    "    if type(words) is list:\n",
    "        sentenses = [sentence + '.' for sentence in text.split('. ') if any(w in sentence for w in words)]\n",
    "    else:\n",
    "        sentenses = [sentence + '.' for sentence in text.split('. ') if words in sentence]\n",
    "    print(sentenses)\n",
    "    return sentenses"
   ]
  },
  {
   "cell_type": "code",
   "execution_count": 210,
   "metadata": {},
   "outputs": [],
   "source": [
    "def get_sentiment(text, keyword):\n",
    "    # get sentences where keyword is present \n",
    "    sentences = get_sentences(text, keyword)\n",
    "    if len(sentences) != 0:\n",
    "        # sentiment analysis\n",
    "        sentiment = statistics.mean([sid.polarity_scores(s)['compound'] for s in sentences])\n",
    "    else :\n",
    "        sentiment = 0\n",
    "    return sentiment"
   ]
  },
  {
   "cell_type": "code",
   "execution_count": 164,
   "metadata": {},
   "outputs": [],
   "source": [
    "def get_best(df, keyword):\n",
    "    # get sentences where keyword is present \n",
    "    df[keyword] = df['text'].apply(lambda x: get_sentences(x, keyword))\n",
    "    # select df where there is more than 0 sentence\n",
    "    sub = df[keyword].loc[df[keyword].map(lambda d: len(d)) > 0]\n",
    "    # sentiment analysis\n",
    "    sub['sentiment'] = sub[keyword].apply(lambda l: statistics.mean([sid.polarity_scores(e)['compound'] for e in l]) )\n",
    "    # avg sentiment for all sentences containing  the keyword\n",
    "    avg_sent = review.groupby(by='biz_id').mean().sort_values('sentiment', ascending=False)\n",
    "    #top = pd.merge(avg_sent, biz[['id', 'name', 'review_count', 'rating', 'price', 'location']], left_on='biz_id', right_on='id')\n",
    "    return top"
   ]
  },
  {
   "cell_type": "code",
   "execution_count": 252,
   "metadata": {},
   "outputs": [],
   "source": [
    "text = 'MOSCOW (AP) — Former National Security Agency systems analyst Edward Snowden says surveillance programs used by the United States to tap into phone and Internet connections around the world are making people less safe.\\n\\nIn short video clips posted by the WikiLeaks website on Friday, Snowden said the NSA mass surveillance he revealed before fleeing to Russia \"puts us at risk of coming into conflict with our own government.\"\\n\\nSnowden, who faces espionage charges in the U.S. over the leak, described the techniques as \"dragnet mass surveillance that puts entire populations under sort of an eye that sees everything even when it\\'s not needed.\"\\n\\n\"They hurt our economy. They hurt our country. They limit our ability to speak and think and live and be creative, to have relationships and to associate freely,\" Snowden said.\\n\\nThe videos are the first of Snowden speaking since July 12, when he was shown at a Moscow airport pleading with Russian authorities to grant him asylum, which they did on Aug. 1.\\n\\nThat decision has strained the relations between the U.S. and Russia. President Barack Obama called off a meeting with President Vladimir Putin at a summit hosted by Russia in September.\\n\\nSnowden said the U.S. government was \"unwilling to prosecute high officials who lied to Congress and the country on camera, but they\\'ll stop at nothing to persecute someone who told them the truth.\"\\n\\nIn a note accompanying the videos, WikiLeaks said Snowden spoke on Wednesday in Moscow as he accepted the Sam Adams Award, given annually by a group of retired U.S. national security officers and named for a CIA analyst during the Vietnam War who accused the U.S. military of deliberately underestimating the enemy\\'s strength for political purposes.\\n\\nFour former U.S. government officials who were at the ceremony told The Associated Press on Thursday that Snowden is adjusting to life in Russia and said they saw no evidence that he was under the control of local security services. They refused to say where they met with Snowden or where he is living.'"
   ]
  },
  {
   "cell_type": "code",
   "execution_count": 186,
   "metadata": {},
   "outputs": [
    {
     "output_type": "execute_result",
     "data": {
      "text/plain": [
       "'MOSCOW (AP) — Former National Security Agency systems analyst Edward Snowden says surveillance programs used by the United States to tap into phone and Internet connections around the world are making people less safe. In short video clips posted by the WikiLeaks website on Friday, Snowden said the NSA mass surveillance he revealed before fleeing to Russia \"puts us at risk of coming into conflict with our own government.\" Snowden, who faces espionage charges in the U.S. over the leak, described the techniques as \"dragnet mass surveillance that puts entire populations under sort of an eye that sees everything even when it\\'s not needed.\" \"They hurt our economy. They hurt our country. They limit our ability to speak and think and live and be creative, to have relationships and to associate freely,\" Snowden said. The videos are the first of Snowden speaking since July 12, when he was shown at a Moscow airport pleading with Russian authorities to grant him asylum, which they did on Aug. 1. That decision has strained the relations between the U.S. and Russia. President Barack Obama called off a meeting with President Vladimir Putin at a summit hosted by Russia in September. Snowden said the U.S. government was \"unwilling to prosecute high officials who lied to Congress and the country on camera, but they\\'ll stop at nothing to persecute someone who told them the truth.\" In a note accompanying the videos, WikiLeaks said Snowden spoke on Wednesday in Moscow as he accepted the Sam Adams Award, given annually by a group of retired U.S. national security officers and named for a CIA analyst during the Vietnam War who accused the U.S. military of deliberately underestimating the enemy\\'s strength for political purposes. Four former U.S. government officials who were at the ceremony told The Associated Press on Thursday that Snowden is adjusting to life in Russia and said they saw no evidence that he was under the control of local security services. They refused to say where they met with Snowden or where he is living.'"
      ]
     },
     "metadata": {},
     "execution_count": 186
    }
   ],
   "source": [
    "text = preclean_text(text)\n",
    "text"
   ]
  },
  {
   "cell_type": "code",
   "execution_count": 232,
   "metadata": {},
   "outputs": [
    {
     "output_type": "stream",
     "name": "stdout",
     "text": [
      "['national security officers and named for a CIA analyst during the Vietnam War who accused the U.S.']\n"
     ]
    },
    {
     "output_type": "execute_result",
     "data": {
      "text/plain": [
       "-0.5719"
      ]
     },
     "metadata": {},
     "execution_count": 232
    }
   ],
   "source": [
    "get_sentiment(text, 'CIA')"
   ]
  },
  {
   "cell_type": "code",
   "execution_count": 233,
   "metadata": {},
   "outputs": [],
   "source": [
    "import spacy\n",
    "from spacy import displacy\n",
    "from collections import Counter\n",
    "import en_core_web_sm\n",
    "nlp = en_core_web_sm.load()"
   ]
  },
  {
   "cell_type": "code",
   "execution_count": 236,
   "metadata": {},
   "outputs": [
    {
     "output_type": "stream",
     "name": "stdout",
     "text": [
      "Sentiment(polarity=0.0, subjectivity=0.0)\n"
     ]
    }
   ],
   "source": [
    "from textblob import TextBlob\n",
    "\n",
    "sentiment = TextBlob('national security officers and named for a CIA analyst during the Vietnam War who accused the U.S.').sentiment\n",
    "print(sentiment)"
   ]
  },
  {
   "cell_type": "code",
   "execution_count": 247,
   "metadata": {},
   "outputs": [
    {
     "output_type": "execute_result",
     "data": {
      "text/plain": [
       "-0.125"
      ]
     },
     "metadata": {},
     "execution_count": 247
    }
   ],
   "source": [
    "#pip install spacytextblob\n",
    "from spacytextblob.spacytextblob import SpacyTextBlob\n",
    "nlp = spacy.load('en_core_web_sm')\n",
    "nlp.add_pipe('spacytextblob')\n",
    "text = 'I had a really horrible day. It was the worst day ever! But every now and then I have a really good day that makes me happy.'\n",
    "doc = nlp(text)\n",
    "doc._.polarity"
   ]
  },
  {
   "cell_type": "code",
   "execution_count": 261,
   "metadata": {},
   "outputs": [
    {
     "output_type": "stream",
     "name": "stdout",
     "text": [
      "[('MOSCOW', 'GPE'), ('AP', 'ORG'), ('National Security Agency', 'ORG'), ('Edward Snowden', 'PERSON'), ('the United States', 'GPE'), ('Friday', 'DATE'), ('Snowden', 'ORG'), ('NSA', 'ORG'), ('Russia', 'GPE'), ('U.S.', 'GPE'), ('first', 'ORDINAL'), ('Snowden', 'GPE'), ('July 12', 'DATE'), ('Moscow', 'GPE'), ('Russian', 'NORP'), ('Aug. 1', 'DATE'), ('U.S.', 'GPE'), ('Russia', 'GPE'), ('Barack Obama', 'PERSON'), ('Vladimir Putin', 'PERSON'), ('Russia', 'GPE'), ('September', 'DATE'), ('U.S.', 'GPE'), ('Congress', 'ORG'), ('Snowden', 'ORG'), ('Wednesday', 'DATE'), ('Moscow', 'GPE'), ('the Sam Adams Award', 'PERSON'), ('annually', 'DATE'), ('U.S.', 'GPE'), ('CIA', 'ORG'), ('the Vietnam War', 'EVENT'), ('U.S.', 'GPE'), ('Four', 'CARDINAL'), ('U.S.', 'GPE'), ('The Associated Press', 'ORG'), ('Thursday', 'DATE'), ('Snowden', 'ORG'), ('Russia', 'GPE'), ('Snowden', 'GPE')]\n"
     ]
    }
   ],
   "source": [
    "doc = nlp(text)\n",
    "doc.vocab.strings[u'ORG']\n",
    "doc.ents\n",
    "\n",
    "#print([(X.text, X.label_) for X in doc.ents if X.label_=='ORG'])\n",
    "print([(X.text, X.label_) for X in doc.ents])"
   ]
  },
  {
   "cell_type": "code",
   "execution_count": 272,
   "metadata": {},
   "outputs": [
    {
     "output_type": "execute_result",
     "data": {
      "text/plain": [
       "Counter({'GPE': 16,\n",
       "         'ORG': 9,\n",
       "         'PERSON': 4,\n",
       "         'DATE': 7,\n",
       "         'ORDINAL': 1,\n",
       "         'NORP': 1,\n",
       "         'EVENT': 1,\n",
       "         'CARDINAL': 1})"
      ]
     },
     "metadata": {},
     "execution_count": 272
    }
   ],
   "source": [
    "#labels = [x.text for x in doc.ents]\n",
    "labels = [x.label_ for x in doc.ents]\n",
    "Counter(labels)\n",
    "#sorted(Counter(labels), key=lambda x: x[1])"
   ]
  },
  {
   "cell_type": "code",
   "execution_count": null,
   "metadata": {},
   "outputs": [],
   "source": []
  }
 ],
 "metadata": {
  "kernelspec": {
   "name": "python383jvsc74a57bd06d46af94c2bbce495f1e668725902fa517c90b1782bcfe2fce0dd9868df553d3",
   "display_name": "Python 3.8.3 64-bit ('base': conda)"
  },
  "language_info": {
   "codemirror_mode": {
    "name": "ipython",
    "version": 3
   },
   "file_extension": ".py",
   "mimetype": "text/x-python",
   "name": "python",
   "nbconvert_exporter": "python",
   "pygments_lexer": "ipython3",
   "version": "3.8.3"
  },
  "metadata": {
   "interpreter": {
    "hash": "6d46af94c2bbce495f1e668725902fa517c90b1782bcfe2fce0dd9868df553d3"
   }
  }
 },
 "nbformat": 4,
 "nbformat_minor": 5
}